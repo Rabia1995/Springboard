{
 "cells": [
  {
   "cell_type": "markdown",
   "metadata": {
    "colab_type": "text",
    "id": "Tia3MP1SJpgj"
   },
   "source": [
    "# Springboard Data Science Career Track Unit 4 Challenge - Tier 3 Complete\n",
    "\n",
    "## Objectives\n",
    "Hey! Great job getting through those challenging DataCamp courses. You're learning a lot in a short span of time. \n",
    "\n",
    "In this notebook, you're going to apply the skills you've been learning, bridging the gap between the controlled environment of DataCamp and the *slightly* messier work that data scientists do with actual datasets!\n",
    "\n",
    "Here’s the mystery we’re going to solve: ***which boroughs of London have seen the greatest increase in housing prices, on average, over the last two decades?***\n",
    "\n",
    "\n",
    "A borough is just a fancy word for district. You may be familiar with the five boroughs of New York… well, there are 32 boroughs within Greater London [(here's some info for the curious)](https://en.wikipedia.org/wiki/London_boroughs). Some of them are more desirable areas to live in, and the data will reflect that with a greater rise in housing prices.\n",
    "\n",
    "***This is the Tier 3 notebook, which means it's not filled in at all: we'll just give you the skeleton of a project, the brief and the data. It's up to you to play around with it and see what you can find out! Good luck! If you struggle, feel free to look at easier tiers for help; but try to dip in and out of them, as the more independent work you do, the better it is for your learning!***\n",
    "\n",
    "This challenge will make use of only what you learned in the following DataCamp courses: \n",
    "- Prework courses (Introduction to Python for Data Science, Intermediate Python for Data Science)\n",
    "- Data Types for Data Science\n",
    "- Python Data Science Toolbox (Part One) \n",
    "- pandas Foundations\n",
    "- Manipulating DataFrames with pandas\n",
    "- Merging DataFrames with pandas\n",
    "\n",
    "Of the tools, techniques and concepts in the above DataCamp courses, this challenge should require the application of the following: \n",
    "- **pandas**\n",
    "    - **data ingestion and inspection** (pandas Foundations, Module One) \n",
    "    - **exploratory data analysis** (pandas Foundations, Module Two)\n",
    "    - **tidying and cleaning** (Manipulating DataFrames with pandas, Module Three) \n",
    "    - **transforming DataFrames** (Manipulating DataFrames with pandas, Module One)\n",
    "    - **subsetting DataFrames with lists** (Manipulating DataFrames with pandas, Module One) \n",
    "    - **filtering DataFrames** (Manipulating DataFrames with pandas, Module One) \n",
    "    - **grouping data** (Manipulating DataFrames with pandas, Module Four) \n",
    "    - **melting data** (Manipulating DataFrames with pandas, Module Three) \n",
    "    - **advanced indexing** (Manipulating DataFrames with pandas, Module Four) \n",
    "- **matplotlib** (Intermediate Python for Data Science, Module One)\n",
    "- **fundamental data types** (Data Types for Data Science, Module One) \n",
    "- **dictionaries** (Intermediate Python for Data Science, Module Two)\n",
    "- **handling dates and times** (Data Types for Data Science, Module Four)\n",
    "- **function definition** (Python Data Science Toolbox - Part One, Module One)\n",
    "- **default arguments, variable length, and scope** (Python Data Science Toolbox - Part One, Module Two) \n",
    "- **lambda functions and error handling** (Python Data Science Toolbox - Part One, Module Four) "
   ]
  },
  {
   "cell_type": "markdown",
   "metadata": {
    "colab_type": "text",
    "id": "Ipgd2nV8Jpgl"
   },
   "source": [
    "## The Data Science Pipeline\n",
    "\n",
    "This is Tier Three, so we'll get you started. But after that, it's all in your hands! When you feel done with your investigations, look back over what you've accomplished, and prepare a quick presentation of your findings for the next mentor meeting. \n",
    "\n",
    "Data Science is magical. In this case study, you'll get to apply some complex machine learning algorithms. But as  [David Spiegelhalter](https://www.youtube.com/watch?v=oUs1uvsz0Ok) reminds us, there is no substitute for simply **taking a really, really good look at the data.** Sometimes, this is all we need to answer our question.\n",
    "\n",
    "Data Science projects generally adhere to the four stages of Data Science Pipeline:\n",
    "1. Sourcing and loading \n",
    "2. Cleaning, transforming, and visualizing \n",
    "3. Modeling \n",
    "4. Evaluating and concluding \n"
   ]
  },
  {
   "cell_type": "markdown",
   "metadata": {
    "colab_type": "text",
    "id": "zswDqbefJpgm"
   },
   "source": [
    "### 1. Sourcing and Loading \n",
    "\n",
    "Any Data Science project kicks off by importing  ***pandas***. The documentation of this wonderful library can be found [here](https://pandas.pydata.org/). As you've seen, pandas is conveniently connected to the [Numpy](http://www.numpy.org/) and [Matplotlib](https://matplotlib.org/) libraries. \n",
    "\n",
    "***Hint:*** This part of the data science pipeline will test those skills you acquired in the pandas Foundations course, Module One. "
   ]
  },
  {
   "cell_type": "markdown",
   "metadata": {
    "colab_type": "text",
    "id": "aEau5nEvJpgm"
   },
   "source": [
    "#### 1.1. Importing Libraries"
   ]
  },
  {
   "cell_type": "code",
   "execution_count": 1,
   "metadata": {
    "colab": {},
    "colab_type": "code",
    "id": "7Bt_Q_oPJpgn"
   },
   "outputs": [],
   "source": [
    "\n",
    "# Let's import the pandas, numpy libraries as pd, and np respectively. \n",
    "import pandas as pd\n",
    "import numpy as np\n",
    "\n",
    "# Load the pyplot collection of functions from matplotlib, as plt \n",
    "#!pip install matplotlib\n",
    "import matplotlib.pyplot as plt"
   ]
  },
  {
   "cell_type": "markdown",
   "metadata": {
    "colab_type": "text",
    "id": "koUrawxsJpgq"
   },
   "source": [
    "#### 1.2.  Loading the data\n",
    "Your data comes from the [London Datastore](https://data.london.gov.uk/): a free, open-source data-sharing portal for London-oriented datasets. "
   ]
  },
  {
   "cell_type": "code",
   "execution_count": 2,
   "metadata": {
    "colab": {},
    "colab_type": "code",
    "id": "AiLiD4v3Jpgr"
   },
   "outputs": [],
   "source": [
    "# First, make a variable called url_LondonHousePrices, and assign it the following link, enclosed in quotation-marks as a string:\n",
    "# https://data.london.gov.uk/download/uk-house-price-index/70ac0766-8902-4eb5-aab5-01951aaed773/UK%20House%20price%20index.xls\n",
    "\n",
    "url_LondonHousePrices = \"https://data.london.gov.uk/download/uk-house-price-index/70ac0766-8902-4eb5-aab5-01951aaed773/UK%20House%20price%20index.xls\"\n",
    "\n",
    "#!pip install openpyxl\n",
    "# The dataset we're interested in contains the Average prices of the houses, and is actually on a particular sheet of the Excel file. \n",
    "# As a result, we need to specify the sheet name in the read_excel() method.\n",
    "# Put this data into a variable called properties.  \n",
    "properties = pd.read_excel(url_LondonHousePrices, sheet_name='Average price', index_col= None)"
   ]
  },
  {
   "cell_type": "markdown",
   "metadata": {
    "colab_type": "text",
    "id": "POukEJXgJpgu"
   },
   "source": [
    "### 2. Cleaning, transforming, and visualizing\n",
    "This second stage is arguably the most important part of any Data Science project. The first thing to do is take a proper look at the data. Cleaning forms the majority of this stage, and can be done both before or after Transformation.\n",
    "\n",
    "The end goal of data cleaning is to have tidy data. When data is tidy: \n",
    "\n",
    "1. Each variable has a column.\n",
    "2. Each observation forms a row.\n",
    "\n",
    "Keep the end goal in mind as you move through this process, every step will take you closer. \n",
    "\n",
    "\n",
    "\n",
    "***Hint:*** This part of the data science pipeline should test those skills you acquired in: \n",
    "- Intermediate Python for data science, all modules.\n",
    "- pandas Foundations, all modules. \n",
    "- Manipulating DataFrames with pandas, all modules.\n",
    "- Data Types for Data Science, Module Four.\n",
    "- Python Data Science Toolbox - Part One, all modules"
   ]
  },
  {
   "cell_type": "markdown",
   "metadata": {
    "colab_type": "text",
    "id": "Te0Q548tnzZa"
   },
   "source": [
    "**2.1. Exploring your data** \n",
    "\n",
    "Think about your pandas functions for checking out a dataframe. "
   ]
  },
  {
   "cell_type": "code",
   "execution_count": 3,
   "metadata": {
    "colab": {},
    "colab_type": "code",
    "id": "Rxirxw_qoAJa"
   },
   "outputs": [
    {
     "data": {
      "text/html": [
       "<div>\n",
       "<style scoped>\n",
       "    .dataframe tbody tr th:only-of-type {\n",
       "        vertical-align: middle;\n",
       "    }\n",
       "\n",
       "    .dataframe tbody tr th {\n",
       "        vertical-align: top;\n",
       "    }\n",
       "\n",
       "    .dataframe thead th {\n",
       "        text-align: right;\n",
       "    }\n",
       "</style>\n",
       "<table border=\"1\" class=\"dataframe\">\n",
       "  <thead>\n",
       "    <tr style=\"text-align: right;\">\n",
       "      <th></th>\n",
       "      <th>Unnamed: 0</th>\n",
       "      <th>City of London</th>\n",
       "      <th>Barking &amp; Dagenham</th>\n",
       "      <th>Barnet</th>\n",
       "      <th>Bexley</th>\n",
       "      <th>Brent</th>\n",
       "      <th>Bromley</th>\n",
       "      <th>Camden</th>\n",
       "      <th>Croydon</th>\n",
       "      <th>Ealing</th>\n",
       "      <th>...</th>\n",
       "      <th>NORTH WEST</th>\n",
       "      <th>YORKS &amp; THE HUMBER</th>\n",
       "      <th>EAST MIDLANDS</th>\n",
       "      <th>WEST MIDLANDS</th>\n",
       "      <th>EAST OF ENGLAND</th>\n",
       "      <th>LONDON</th>\n",
       "      <th>SOUTH EAST</th>\n",
       "      <th>SOUTH WEST</th>\n",
       "      <th>Unnamed: 47</th>\n",
       "      <th>England</th>\n",
       "    </tr>\n",
       "  </thead>\n",
       "  <tbody>\n",
       "    <tr>\n",
       "      <th>0</th>\n",
       "      <td>NaT</td>\n",
       "      <td>E09000001</td>\n",
       "      <td>E09000002</td>\n",
       "      <td>E09000003</td>\n",
       "      <td>E09000004</td>\n",
       "      <td>E09000005</td>\n",
       "      <td>E09000006</td>\n",
       "      <td>E09000007</td>\n",
       "      <td>E09000008</td>\n",
       "      <td>E09000009</td>\n",
       "      <td>...</td>\n",
       "      <td>E12000002</td>\n",
       "      <td>E12000003</td>\n",
       "      <td>E12000004</td>\n",
       "      <td>E12000005</td>\n",
       "      <td>E12000006</td>\n",
       "      <td>E12000007</td>\n",
       "      <td>E12000008</td>\n",
       "      <td>E12000009</td>\n",
       "      <td>NaN</td>\n",
       "      <td>E92000001</td>\n",
       "    </tr>\n",
       "    <tr>\n",
       "      <th>1</th>\n",
       "      <td>1995-01-01</td>\n",
       "      <td>91448.98487</td>\n",
       "      <td>50460.2266</td>\n",
       "      <td>93284.51832</td>\n",
       "      <td>64958.09036</td>\n",
       "      <td>71306.56698</td>\n",
       "      <td>81671.47692</td>\n",
       "      <td>120932.8881</td>\n",
       "      <td>69158.16225</td>\n",
       "      <td>79885.89069</td>\n",
       "      <td>...</td>\n",
       "      <td>43958.48001</td>\n",
       "      <td>44803.42878</td>\n",
       "      <td>45544.52227</td>\n",
       "      <td>48527.52339</td>\n",
       "      <td>56701.5961</td>\n",
       "      <td>74435.76052</td>\n",
       "      <td>64018.87894</td>\n",
       "      <td>54705.1579</td>\n",
       "      <td>NaN</td>\n",
       "      <td>53202.77128</td>\n",
       "    </tr>\n",
       "    <tr>\n",
       "      <th>2</th>\n",
       "      <td>1995-02-01</td>\n",
       "      <td>82202.77314</td>\n",
       "      <td>51085.77983</td>\n",
       "      <td>93190.16963</td>\n",
       "      <td>64787.92069</td>\n",
       "      <td>72022.26197</td>\n",
       "      <td>81657.55944</td>\n",
       "      <td>119508.8622</td>\n",
       "      <td>68951.09542</td>\n",
       "      <td>80897.06551</td>\n",
       "      <td>...</td>\n",
       "      <td>43925.42289</td>\n",
       "      <td>44528.80721</td>\n",
       "      <td>46051.57066</td>\n",
       "      <td>49341.29029</td>\n",
       "      <td>56593.59475</td>\n",
       "      <td>72777.93709</td>\n",
       "      <td>63715.02399</td>\n",
       "      <td>54356.14843</td>\n",
       "      <td>NaN</td>\n",
       "      <td>53096.1549</td>\n",
       "    </tr>\n",
       "    <tr>\n",
       "      <th>3</th>\n",
       "      <td>1995-03-01</td>\n",
       "      <td>79120.70256</td>\n",
       "      <td>51268.96956</td>\n",
       "      <td>92247.52435</td>\n",
       "      <td>64367.49344</td>\n",
       "      <td>72015.76274</td>\n",
       "      <td>81449.31143</td>\n",
       "      <td>120282.2131</td>\n",
       "      <td>68712.44341</td>\n",
       "      <td>81379.86288</td>\n",
       "      <td>...</td>\n",
       "      <td>44434.8681</td>\n",
       "      <td>45200.46775</td>\n",
       "      <td>45383.82395</td>\n",
       "      <td>49442.17973</td>\n",
       "      <td>56171.18278</td>\n",
       "      <td>73896.84204</td>\n",
       "      <td>64113.60858</td>\n",
       "      <td>53583.07667</td>\n",
       "      <td>NaN</td>\n",
       "      <td>53201.2843</td>\n",
       "    </tr>\n",
       "    <tr>\n",
       "      <th>4</th>\n",
       "      <td>1995-04-01</td>\n",
       "      <td>77101.20804</td>\n",
       "      <td>53133.50526</td>\n",
       "      <td>90762.87492</td>\n",
       "      <td>64277.66881</td>\n",
       "      <td>72965.63094</td>\n",
       "      <td>81124.41227</td>\n",
       "      <td>120097.899</td>\n",
       "      <td>68610.04641</td>\n",
       "      <td>82188.90498</td>\n",
       "      <td>...</td>\n",
       "      <td>44267.7796</td>\n",
       "      <td>45614.34341</td>\n",
       "      <td>46124.23045</td>\n",
       "      <td>49455.93299</td>\n",
       "      <td>56567.89582</td>\n",
       "      <td>74455.28754</td>\n",
       "      <td>64623.22395</td>\n",
       "      <td>54786.01938</td>\n",
       "      <td>NaN</td>\n",
       "      <td>53590.8548</td>\n",
       "    </tr>\n",
       "  </tbody>\n",
       "</table>\n",
       "<p>5 rows × 49 columns</p>\n",
       "</div>"
      ],
      "text/plain": [
       "  Unnamed: 0 City of London Barking & Dagenham       Barnet       Bexley  \\\n",
       "0        NaT      E09000001          E09000002    E09000003    E09000004   \n",
       "1 1995-01-01    91448.98487         50460.2266  93284.51832  64958.09036   \n",
       "2 1995-02-01    82202.77314        51085.77983  93190.16963  64787.92069   \n",
       "3 1995-03-01    79120.70256        51268.96956  92247.52435  64367.49344   \n",
       "4 1995-04-01    77101.20804        53133.50526  90762.87492  64277.66881   \n",
       "\n",
       "         Brent      Bromley       Camden      Croydon       Ealing  ...  \\\n",
       "0    E09000005    E09000006    E09000007    E09000008    E09000009  ...   \n",
       "1  71306.56698  81671.47692  120932.8881  69158.16225  79885.89069  ...   \n",
       "2  72022.26197  81657.55944  119508.8622  68951.09542  80897.06551  ...   \n",
       "3  72015.76274  81449.31143  120282.2131  68712.44341  81379.86288  ...   \n",
       "4  72965.63094  81124.41227   120097.899  68610.04641  82188.90498  ...   \n",
       "\n",
       "    NORTH WEST YORKS & THE HUMBER EAST MIDLANDS WEST MIDLANDS EAST OF ENGLAND  \\\n",
       "0    E12000002          E12000003     E12000004     E12000005       E12000006   \n",
       "1  43958.48001        44803.42878   45544.52227   48527.52339      56701.5961   \n",
       "2  43925.42289        44528.80721   46051.57066   49341.29029     56593.59475   \n",
       "3   44434.8681        45200.46775   45383.82395   49442.17973     56171.18278   \n",
       "4   44267.7796        45614.34341   46124.23045   49455.93299     56567.89582   \n",
       "\n",
       "        LONDON   SOUTH EAST   SOUTH WEST Unnamed: 47      England  \n",
       "0    E12000007    E12000008    E12000009         NaN    E92000001  \n",
       "1  74435.76052  64018.87894   54705.1579         NaN  53202.77128  \n",
       "2  72777.93709  63715.02399  54356.14843         NaN   53096.1549  \n",
       "3  73896.84204  64113.60858  53583.07667         NaN   53201.2843  \n",
       "4  74455.28754  64623.22395  54786.01938         NaN   53590.8548  \n",
       "\n",
       "[5 rows x 49 columns]"
      ]
     },
     "execution_count": 3,
     "metadata": {},
     "output_type": "execute_result"
    }
   ],
   "source": [
    "properties.head()"
   ]
  },
  {
   "cell_type": "code",
   "execution_count": 4,
   "metadata": {},
   "outputs": [
    {
     "data": {
      "text/plain": [
       "(315, 49)"
      ]
     },
     "execution_count": 4,
     "metadata": {},
     "output_type": "execute_result"
    }
   ],
   "source": [
    "properties.shape"
   ]
  },
  {
   "cell_type": "code",
   "execution_count": 5,
   "metadata": {},
   "outputs": [
    {
     "data": {
      "text/plain": [
       "RangeIndex(start=0, stop=315, step=1)"
      ]
     },
     "execution_count": 5,
     "metadata": {},
     "output_type": "execute_result"
    }
   ],
   "source": [
    "properties.index"
   ]
  },
  {
   "cell_type": "markdown",
   "metadata": {
    "colab_type": "text",
    "id": "tE9Sqt9-oAta"
   },
   "source": [
    "**2.2. Cleaning the data**\n",
    "\n",
    "You might find you need to transpose your dataframe, check out what its row indexes are, and reset the index. You  also might find you need to assign the values of the first row to your column headings  . (Hint: recall the .columns feature of DataFrames, as well as the iloc[] method).\n",
    "\n",
    "Don't be afraid to use StackOverflow for help  with this."
   ]
  },
  {
   "cell_type": "code",
   "execution_count": 6,
   "metadata": {
    "colab": {},
    "colab_type": "code",
    "id": "cdAu1A3YoH_r"
   },
   "outputs": [],
   "source": [
    "#Changing the row elements to column elements\n",
    "properties = properties.transpose()"
   ]
  },
  {
   "cell_type": "code",
   "execution_count": 7,
   "metadata": {},
   "outputs": [
    {
     "data": {
      "text/html": [
       "<div>\n",
       "<style scoped>\n",
       "    .dataframe tbody tr th:only-of-type {\n",
       "        vertical-align: middle;\n",
       "    }\n",
       "\n",
       "    .dataframe tbody tr th {\n",
       "        vertical-align: top;\n",
       "    }\n",
       "\n",
       "    .dataframe thead th {\n",
       "        text-align: right;\n",
       "    }\n",
       "</style>\n",
       "<table border=\"1\" class=\"dataframe\">\n",
       "  <thead>\n",
       "    <tr style=\"text-align: right;\">\n",
       "      <th></th>\n",
       "      <th>0</th>\n",
       "      <th>1</th>\n",
       "      <th>2</th>\n",
       "      <th>3</th>\n",
       "      <th>4</th>\n",
       "      <th>5</th>\n",
       "      <th>6</th>\n",
       "      <th>7</th>\n",
       "      <th>8</th>\n",
       "      <th>9</th>\n",
       "      <th>...</th>\n",
       "      <th>305</th>\n",
       "      <th>306</th>\n",
       "      <th>307</th>\n",
       "      <th>308</th>\n",
       "      <th>309</th>\n",
       "      <th>310</th>\n",
       "      <th>311</th>\n",
       "      <th>312</th>\n",
       "      <th>313</th>\n",
       "      <th>314</th>\n",
       "    </tr>\n",
       "  </thead>\n",
       "  <tbody>\n",
       "    <tr>\n",
       "      <th>Unnamed: 0</th>\n",
       "      <td>NaT</td>\n",
       "      <td>1995-01-01 00:00:00</td>\n",
       "      <td>1995-02-01 00:00:00</td>\n",
       "      <td>1995-03-01 00:00:00</td>\n",
       "      <td>1995-04-01 00:00:00</td>\n",
       "      <td>1995-05-01 00:00:00</td>\n",
       "      <td>1995-06-01 00:00:00</td>\n",
       "      <td>1995-07-01 00:00:00</td>\n",
       "      <td>1995-08-01 00:00:00</td>\n",
       "      <td>1995-09-01 00:00:00</td>\n",
       "      <td>...</td>\n",
       "      <td>2020-05-01 00:00:00</td>\n",
       "      <td>2020-06-01 00:00:00</td>\n",
       "      <td>2020-07-01 00:00:00</td>\n",
       "      <td>2020-08-01 00:00:00</td>\n",
       "      <td>2020-09-01 00:00:00</td>\n",
       "      <td>2020-10-01 00:00:00</td>\n",
       "      <td>2020-11-01 00:00:00</td>\n",
       "      <td>2020-12-01 00:00:00</td>\n",
       "      <td>2021-01-01 00:00:00</td>\n",
       "      <td>2021-02-01 00:00:00</td>\n",
       "    </tr>\n",
       "    <tr>\n",
       "      <th>City of London</th>\n",
       "      <td>E09000001</td>\n",
       "      <td>91448.98487</td>\n",
       "      <td>82202.77314</td>\n",
       "      <td>79120.70256</td>\n",
       "      <td>77101.20804</td>\n",
       "      <td>84409.14932</td>\n",
       "      <td>94900.51244</td>\n",
       "      <td>110128.0423</td>\n",
       "      <td>112329.4376</td>\n",
       "      <td>104473.1096</td>\n",
       "      <td>...</td>\n",
       "      <td>918209.3301</td>\n",
       "      <td>882872.1038</td>\n",
       "      <td>786626.6665</td>\n",
       "      <td>827658.5167</td>\n",
       "      <td>798499.1646</td>\n",
       "      <td>836807.0518</td>\n",
       "      <td>782056.9146</td>\n",
       "      <td>803125.7173</td>\n",
       "      <td>771641.0937</td>\n",
       "      <td>675308.9135</td>\n",
       "    </tr>\n",
       "    <tr>\n",
       "      <th>Barking &amp; Dagenham</th>\n",
       "      <td>E09000002</td>\n",
       "      <td>50460.2266</td>\n",
       "      <td>51085.77983</td>\n",
       "      <td>51268.96956</td>\n",
       "      <td>53133.50526</td>\n",
       "      <td>53042.24852</td>\n",
       "      <td>53700.34831</td>\n",
       "      <td>52113.12157</td>\n",
       "      <td>52232.19868</td>\n",
       "      <td>51471.61353</td>\n",
       "      <td>...</td>\n",
       "      <td>293815.8517</td>\n",
       "      <td>300526.2859</td>\n",
       "      <td>304555.5886</td>\n",
       "      <td>304923.5027</td>\n",
       "      <td>301702.4656</td>\n",
       "      <td>304852.1338</td>\n",
       "      <td>305055.9899</td>\n",
       "      <td>310568.6465</td>\n",
       "      <td>316477.4075</td>\n",
       "      <td>323953.8997</td>\n",
       "    </tr>\n",
       "    <tr>\n",
       "      <th>Barnet</th>\n",
       "      <td>E09000003</td>\n",
       "      <td>93284.51832</td>\n",
       "      <td>93190.16963</td>\n",
       "      <td>92247.52435</td>\n",
       "      <td>90762.87492</td>\n",
       "      <td>90258.00033</td>\n",
       "      <td>90107.23471</td>\n",
       "      <td>91441.24768</td>\n",
       "      <td>92361.31512</td>\n",
       "      <td>93273.12245</td>\n",
       "      <td>...</td>\n",
       "      <td>526032.9436</td>\n",
       "      <td>518175.0457</td>\n",
       "      <td>523279.8903</td>\n",
       "      <td>529660.1524</td>\n",
       "      <td>533619.23</td>\n",
       "      <td>530353.5205</td>\n",
       "      <td>531932.234</td>\n",
       "      <td>532704.7255</td>\n",
       "      <td>540601.3953</td>\n",
       "      <td>531887.2393</td>\n",
       "    </tr>\n",
       "    <tr>\n",
       "      <th>Bexley</th>\n",
       "      <td>E09000004</td>\n",
       "      <td>64958.09036</td>\n",
       "      <td>64787.92069</td>\n",
       "      <td>64367.49344</td>\n",
       "      <td>64277.66881</td>\n",
       "      <td>63997.13588</td>\n",
       "      <td>64252.32335</td>\n",
       "      <td>63722.70055</td>\n",
       "      <td>64432.60005</td>\n",
       "      <td>64509.54767</td>\n",
       "      <td>...</td>\n",
       "      <td>339353.0015</td>\n",
       "      <td>340893.0807</td>\n",
       "      <td>344091.2308</td>\n",
       "      <td>346679.9244</td>\n",
       "      <td>345061.4945</td>\n",
       "      <td>345404.9836</td>\n",
       "      <td>348681.3564</td>\n",
       "      <td>354052.3348</td>\n",
       "      <td>358905.6134</td>\n",
       "      <td>363411.5969</td>\n",
       "    </tr>\n",
       "  </tbody>\n",
       "</table>\n",
       "<p>5 rows × 315 columns</p>\n",
       "</div>"
      ],
      "text/plain": [
       "                          0                    1                    2    \\\n",
       "Unnamed: 0                NaT  1995-01-01 00:00:00  1995-02-01 00:00:00   \n",
       "City of London      E09000001          91448.98487          82202.77314   \n",
       "Barking & Dagenham  E09000002           50460.2266          51085.77983   \n",
       "Barnet              E09000003          93284.51832          93190.16963   \n",
       "Bexley              E09000004          64958.09036          64787.92069   \n",
       "\n",
       "                                    3                    4    \\\n",
       "Unnamed: 0          1995-03-01 00:00:00  1995-04-01 00:00:00   \n",
       "City of London              79120.70256          77101.20804   \n",
       "Barking & Dagenham          51268.96956          53133.50526   \n",
       "Barnet                      92247.52435          90762.87492   \n",
       "Bexley                      64367.49344          64277.66881   \n",
       "\n",
       "                                    5                    6    \\\n",
       "Unnamed: 0          1995-05-01 00:00:00  1995-06-01 00:00:00   \n",
       "City of London              84409.14932          94900.51244   \n",
       "Barking & Dagenham          53042.24852          53700.34831   \n",
       "Barnet                      90258.00033          90107.23471   \n",
       "Bexley                      63997.13588          64252.32335   \n",
       "\n",
       "                                    7                    8    \\\n",
       "Unnamed: 0          1995-07-01 00:00:00  1995-08-01 00:00:00   \n",
       "City of London              110128.0423          112329.4376   \n",
       "Barking & Dagenham          52113.12157          52232.19868   \n",
       "Barnet                      91441.24768          92361.31512   \n",
       "Bexley                      63722.70055          64432.60005   \n",
       "\n",
       "                                    9    ...                  305  \\\n",
       "Unnamed: 0          1995-09-01 00:00:00  ...  2020-05-01 00:00:00   \n",
       "City of London              104473.1096  ...          918209.3301   \n",
       "Barking & Dagenham          51471.61353  ...          293815.8517   \n",
       "Barnet                      93273.12245  ...          526032.9436   \n",
       "Bexley                      64509.54767  ...          339353.0015   \n",
       "\n",
       "                                    306                  307  \\\n",
       "Unnamed: 0          2020-06-01 00:00:00  2020-07-01 00:00:00   \n",
       "City of London              882872.1038          786626.6665   \n",
       "Barking & Dagenham          300526.2859          304555.5886   \n",
       "Barnet                      518175.0457          523279.8903   \n",
       "Bexley                      340893.0807          344091.2308   \n",
       "\n",
       "                                    308                  309  \\\n",
       "Unnamed: 0          2020-08-01 00:00:00  2020-09-01 00:00:00   \n",
       "City of London              827658.5167          798499.1646   \n",
       "Barking & Dagenham          304923.5027          301702.4656   \n",
       "Barnet                      529660.1524            533619.23   \n",
       "Bexley                      346679.9244          345061.4945   \n",
       "\n",
       "                                    310                  311  \\\n",
       "Unnamed: 0          2020-10-01 00:00:00  2020-11-01 00:00:00   \n",
       "City of London              836807.0518          782056.9146   \n",
       "Barking & Dagenham          304852.1338          305055.9899   \n",
       "Barnet                      530353.5205           531932.234   \n",
       "Bexley                      345404.9836          348681.3564   \n",
       "\n",
       "                                    312                  313  \\\n",
       "Unnamed: 0          2020-12-01 00:00:00  2021-01-01 00:00:00   \n",
       "City of London              803125.7173          771641.0937   \n",
       "Barking & Dagenham          310568.6465          316477.4075   \n",
       "Barnet                      532704.7255          540601.3953   \n",
       "Bexley                      354052.3348          358905.6134   \n",
       "\n",
       "                                    314  \n",
       "Unnamed: 0          2021-02-01 00:00:00  \n",
       "City of London              675308.9135  \n",
       "Barking & Dagenham          323953.8997  \n",
       "Barnet                      531887.2393  \n",
       "Bexley                      363411.5969  \n",
       "\n",
       "[5 rows x 315 columns]"
      ]
     },
     "execution_count": 7,
     "metadata": {},
     "output_type": "execute_result"
    }
   ],
   "source": [
    "properties.head()"
   ]
  },
  {
   "cell_type": "code",
   "execution_count": 8,
   "metadata": {},
   "outputs": [
    {
     "data": {
      "text/plain": [
       "Index(['Unnamed: 0', 'City of London', 'Barking & Dagenham', 'Barnet',\n",
       "       'Bexley', 'Brent', 'Bromley', 'Camden', 'Croydon', 'Ealing', 'Enfield',\n",
       "       'Greenwich', 'Hackney', 'Hammersmith & Fulham', 'Haringey', 'Harrow',\n",
       "       'Havering', 'Hillingdon', 'Hounslow', 'Islington',\n",
       "       'Kensington & Chelsea', 'Kingston upon Thames', 'Lambeth', 'Lewisham',\n",
       "       'Merton', 'Newham', 'Redbridge', 'Richmond upon Thames', 'Southwark',\n",
       "       'Sutton', 'Tower Hamlets', 'Waltham Forest', 'Wandsworth',\n",
       "       'Westminster', 'Unnamed: 34', 'Inner London', 'Outer London',\n",
       "       'Unnamed: 37', 'NORTH EAST', 'NORTH WEST', 'YORKS & THE HUMBER',\n",
       "       'EAST MIDLANDS', 'WEST MIDLANDS', 'EAST OF ENGLAND', 'LONDON',\n",
       "       'SOUTH EAST', 'SOUTH WEST', 'Unnamed: 47', 'England'],\n",
       "      dtype='object')"
      ]
     },
     "execution_count": 8,
     "metadata": {},
     "output_type": "execute_result"
    }
   ],
   "source": [
    "properties.index"
   ]
  },
  {
   "cell_type": "code",
   "execution_count": 9,
   "metadata": {},
   "outputs": [],
   "source": [
    "#Changing the index to RangeIndex\n",
    "properties.reset_index(inplace = True)"
   ]
  },
  {
   "cell_type": "code",
   "execution_count": 10,
   "metadata": {},
   "outputs": [
    {
     "data": {
      "text/plain": [
       "RangeIndex(start=0, stop=49, step=1)"
      ]
     },
     "execution_count": 10,
     "metadata": {},
     "output_type": "execute_result"
    }
   ],
   "source": [
    "properties.index"
   ]
  },
  {
   "cell_type": "code",
   "execution_count": 11,
   "metadata": {},
   "outputs": [
    {
     "data": {
      "text/html": [
       "<div>\n",
       "<style scoped>\n",
       "    .dataframe tbody tr th:only-of-type {\n",
       "        vertical-align: middle;\n",
       "    }\n",
       "\n",
       "    .dataframe tbody tr th {\n",
       "        vertical-align: top;\n",
       "    }\n",
       "\n",
       "    .dataframe thead th {\n",
       "        text-align: right;\n",
       "    }\n",
       "</style>\n",
       "<table border=\"1\" class=\"dataframe\">\n",
       "  <thead>\n",
       "    <tr style=\"text-align: right;\">\n",
       "      <th></th>\n",
       "      <th>index</th>\n",
       "      <th>0</th>\n",
       "      <th>1</th>\n",
       "      <th>2</th>\n",
       "      <th>3</th>\n",
       "      <th>4</th>\n",
       "      <th>5</th>\n",
       "      <th>6</th>\n",
       "      <th>7</th>\n",
       "      <th>8</th>\n",
       "      <th>...</th>\n",
       "      <th>305</th>\n",
       "      <th>306</th>\n",
       "      <th>307</th>\n",
       "      <th>308</th>\n",
       "      <th>309</th>\n",
       "      <th>310</th>\n",
       "      <th>311</th>\n",
       "      <th>312</th>\n",
       "      <th>313</th>\n",
       "      <th>314</th>\n",
       "    </tr>\n",
       "  </thead>\n",
       "  <tbody>\n",
       "    <tr>\n",
       "      <th>0</th>\n",
       "      <td>Unnamed: 0</td>\n",
       "      <td>NaT</td>\n",
       "      <td>1995-01-01 00:00:00</td>\n",
       "      <td>1995-02-01 00:00:00</td>\n",
       "      <td>1995-03-01 00:00:00</td>\n",
       "      <td>1995-04-01 00:00:00</td>\n",
       "      <td>1995-05-01 00:00:00</td>\n",
       "      <td>1995-06-01 00:00:00</td>\n",
       "      <td>1995-07-01 00:00:00</td>\n",
       "      <td>1995-08-01 00:00:00</td>\n",
       "      <td>...</td>\n",
       "      <td>2020-05-01 00:00:00</td>\n",
       "      <td>2020-06-01 00:00:00</td>\n",
       "      <td>2020-07-01 00:00:00</td>\n",
       "      <td>2020-08-01 00:00:00</td>\n",
       "      <td>2020-09-01 00:00:00</td>\n",
       "      <td>2020-10-01 00:00:00</td>\n",
       "      <td>2020-11-01 00:00:00</td>\n",
       "      <td>2020-12-01 00:00:00</td>\n",
       "      <td>2021-01-01 00:00:00</td>\n",
       "      <td>2021-02-01 00:00:00</td>\n",
       "    </tr>\n",
       "    <tr>\n",
       "      <th>1</th>\n",
       "      <td>City of London</td>\n",
       "      <td>E09000001</td>\n",
       "      <td>91448.98487</td>\n",
       "      <td>82202.77314</td>\n",
       "      <td>79120.70256</td>\n",
       "      <td>77101.20804</td>\n",
       "      <td>84409.14932</td>\n",
       "      <td>94900.51244</td>\n",
       "      <td>110128.0423</td>\n",
       "      <td>112329.4376</td>\n",
       "      <td>...</td>\n",
       "      <td>918209.3301</td>\n",
       "      <td>882872.1038</td>\n",
       "      <td>786626.6665</td>\n",
       "      <td>827658.5167</td>\n",
       "      <td>798499.1646</td>\n",
       "      <td>836807.0518</td>\n",
       "      <td>782056.9146</td>\n",
       "      <td>803125.7173</td>\n",
       "      <td>771641.0937</td>\n",
       "      <td>675308.9135</td>\n",
       "    </tr>\n",
       "    <tr>\n",
       "      <th>2</th>\n",
       "      <td>Barking &amp; Dagenham</td>\n",
       "      <td>E09000002</td>\n",
       "      <td>50460.2266</td>\n",
       "      <td>51085.77983</td>\n",
       "      <td>51268.96956</td>\n",
       "      <td>53133.50526</td>\n",
       "      <td>53042.24852</td>\n",
       "      <td>53700.34831</td>\n",
       "      <td>52113.12157</td>\n",
       "      <td>52232.19868</td>\n",
       "      <td>...</td>\n",
       "      <td>293815.8517</td>\n",
       "      <td>300526.2859</td>\n",
       "      <td>304555.5886</td>\n",
       "      <td>304923.5027</td>\n",
       "      <td>301702.4656</td>\n",
       "      <td>304852.1338</td>\n",
       "      <td>305055.9899</td>\n",
       "      <td>310568.6465</td>\n",
       "      <td>316477.4075</td>\n",
       "      <td>323953.8997</td>\n",
       "    </tr>\n",
       "    <tr>\n",
       "      <th>3</th>\n",
       "      <td>Barnet</td>\n",
       "      <td>E09000003</td>\n",
       "      <td>93284.51832</td>\n",
       "      <td>93190.16963</td>\n",
       "      <td>92247.52435</td>\n",
       "      <td>90762.87492</td>\n",
       "      <td>90258.00033</td>\n",
       "      <td>90107.23471</td>\n",
       "      <td>91441.24768</td>\n",
       "      <td>92361.31512</td>\n",
       "      <td>...</td>\n",
       "      <td>526032.9436</td>\n",
       "      <td>518175.0457</td>\n",
       "      <td>523279.8903</td>\n",
       "      <td>529660.1524</td>\n",
       "      <td>533619.23</td>\n",
       "      <td>530353.5205</td>\n",
       "      <td>531932.234</td>\n",
       "      <td>532704.7255</td>\n",
       "      <td>540601.3953</td>\n",
       "      <td>531887.2393</td>\n",
       "    </tr>\n",
       "    <tr>\n",
       "      <th>4</th>\n",
       "      <td>Bexley</td>\n",
       "      <td>E09000004</td>\n",
       "      <td>64958.09036</td>\n",
       "      <td>64787.92069</td>\n",
       "      <td>64367.49344</td>\n",
       "      <td>64277.66881</td>\n",
       "      <td>63997.13588</td>\n",
       "      <td>64252.32335</td>\n",
       "      <td>63722.70055</td>\n",
       "      <td>64432.60005</td>\n",
       "      <td>...</td>\n",
       "      <td>339353.0015</td>\n",
       "      <td>340893.0807</td>\n",
       "      <td>344091.2308</td>\n",
       "      <td>346679.9244</td>\n",
       "      <td>345061.4945</td>\n",
       "      <td>345404.9836</td>\n",
       "      <td>348681.3564</td>\n",
       "      <td>354052.3348</td>\n",
       "      <td>358905.6134</td>\n",
       "      <td>363411.5969</td>\n",
       "    </tr>\n",
       "  </tbody>\n",
       "</table>\n",
       "<p>5 rows × 316 columns</p>\n",
       "</div>"
      ],
      "text/plain": [
       "                index          0                    1                    2  \\\n",
       "0          Unnamed: 0        NaT  1995-01-01 00:00:00  1995-02-01 00:00:00   \n",
       "1      City of London  E09000001          91448.98487          82202.77314   \n",
       "2  Barking & Dagenham  E09000002           50460.2266          51085.77983   \n",
       "3              Barnet  E09000003          93284.51832          93190.16963   \n",
       "4              Bexley  E09000004          64958.09036          64787.92069   \n",
       "\n",
       "                     3                    4                    5  \\\n",
       "0  1995-03-01 00:00:00  1995-04-01 00:00:00  1995-05-01 00:00:00   \n",
       "1          79120.70256          77101.20804          84409.14932   \n",
       "2          51268.96956          53133.50526          53042.24852   \n",
       "3          92247.52435          90762.87492          90258.00033   \n",
       "4          64367.49344          64277.66881          63997.13588   \n",
       "\n",
       "                     6                    7                    8  ...  \\\n",
       "0  1995-06-01 00:00:00  1995-07-01 00:00:00  1995-08-01 00:00:00  ...   \n",
       "1          94900.51244          110128.0423          112329.4376  ...   \n",
       "2          53700.34831          52113.12157          52232.19868  ...   \n",
       "3          90107.23471          91441.24768          92361.31512  ...   \n",
       "4          64252.32335          63722.70055          64432.60005  ...   \n",
       "\n",
       "                   305                  306                  307  \\\n",
       "0  2020-05-01 00:00:00  2020-06-01 00:00:00  2020-07-01 00:00:00   \n",
       "1          918209.3301          882872.1038          786626.6665   \n",
       "2          293815.8517          300526.2859          304555.5886   \n",
       "3          526032.9436          518175.0457          523279.8903   \n",
       "4          339353.0015          340893.0807          344091.2308   \n",
       "\n",
       "                   308                  309                  310  \\\n",
       "0  2020-08-01 00:00:00  2020-09-01 00:00:00  2020-10-01 00:00:00   \n",
       "1          827658.5167          798499.1646          836807.0518   \n",
       "2          304923.5027          301702.4656          304852.1338   \n",
       "3          529660.1524            533619.23          530353.5205   \n",
       "4          346679.9244          345061.4945          345404.9836   \n",
       "\n",
       "                   311                  312                  313  \\\n",
       "0  2020-11-01 00:00:00  2020-12-01 00:00:00  2021-01-01 00:00:00   \n",
       "1          782056.9146          803125.7173          771641.0937   \n",
       "2          305055.9899          310568.6465          316477.4075   \n",
       "3           531932.234          532704.7255          540601.3953   \n",
       "4          348681.3564          354052.3348          358905.6134   \n",
       "\n",
       "                   314  \n",
       "0  2021-02-01 00:00:00  \n",
       "1          675308.9135  \n",
       "2          323953.8997  \n",
       "3          531887.2393  \n",
       "4          363411.5969  \n",
       "\n",
       "[5 rows x 316 columns]"
      ]
     },
     "execution_count": 11,
     "metadata": {},
     "output_type": "execute_result"
    }
   ],
   "source": [
    "properties.head()"
   ]
  },
  {
   "cell_type": "code",
   "execution_count": 12,
   "metadata": {},
   "outputs": [],
   "source": [
    "# Making the first row of the dataframe to column headings\n",
    "\n",
    "properties.columns = properties.iloc[0]"
   ]
  },
  {
   "cell_type": "code",
   "execution_count": 13,
   "metadata": {
    "scrolled": true
   },
   "outputs": [
    {
     "data": {
      "text/html": [
       "<div>\n",
       "<style scoped>\n",
       "    .dataframe tbody tr th:only-of-type {\n",
       "        vertical-align: middle;\n",
       "    }\n",
       "\n",
       "    .dataframe tbody tr th {\n",
       "        vertical-align: top;\n",
       "    }\n",
       "\n",
       "    .dataframe thead th {\n",
       "        text-align: right;\n",
       "    }\n",
       "</style>\n",
       "<table border=\"1\" class=\"dataframe\">\n",
       "  <thead>\n",
       "    <tr style=\"text-align: right;\">\n",
       "      <th></th>\n",
       "      <th>Unnamed: 0</th>\n",
       "      <th>NaN</th>\n",
       "      <th>1995-01-01 00:00:00</th>\n",
       "      <th>1995-02-01 00:00:00</th>\n",
       "      <th>1995-03-01 00:00:00</th>\n",
       "      <th>1995-04-01 00:00:00</th>\n",
       "      <th>1995-05-01 00:00:00</th>\n",
       "      <th>1995-06-01 00:00:00</th>\n",
       "      <th>1995-07-01 00:00:00</th>\n",
       "      <th>1995-08-01 00:00:00</th>\n",
       "      <th>...</th>\n",
       "      <th>2020-05-01 00:00:00</th>\n",
       "      <th>2020-06-01 00:00:00</th>\n",
       "      <th>2020-07-01 00:00:00</th>\n",
       "      <th>2020-08-01 00:00:00</th>\n",
       "      <th>2020-09-01 00:00:00</th>\n",
       "      <th>2020-10-01 00:00:00</th>\n",
       "      <th>2020-11-01 00:00:00</th>\n",
       "      <th>2020-12-01 00:00:00</th>\n",
       "      <th>2021-01-01 00:00:00</th>\n",
       "      <th>2021-02-01 00:00:00</th>\n",
       "    </tr>\n",
       "  </thead>\n",
       "  <tbody>\n",
       "    <tr>\n",
       "      <th>0</th>\n",
       "      <td>Unnamed: 0</td>\n",
       "      <td>NaT</td>\n",
       "      <td>1995-01-01 00:00:00</td>\n",
       "      <td>1995-02-01 00:00:00</td>\n",
       "      <td>1995-03-01 00:00:00</td>\n",
       "      <td>1995-04-01 00:00:00</td>\n",
       "      <td>1995-05-01 00:00:00</td>\n",
       "      <td>1995-06-01 00:00:00</td>\n",
       "      <td>1995-07-01 00:00:00</td>\n",
       "      <td>1995-08-01 00:00:00</td>\n",
       "      <td>...</td>\n",
       "      <td>2020-05-01 00:00:00</td>\n",
       "      <td>2020-06-01 00:00:00</td>\n",
       "      <td>2020-07-01 00:00:00</td>\n",
       "      <td>2020-08-01 00:00:00</td>\n",
       "      <td>2020-09-01 00:00:00</td>\n",
       "      <td>2020-10-01 00:00:00</td>\n",
       "      <td>2020-11-01 00:00:00</td>\n",
       "      <td>2020-12-01 00:00:00</td>\n",
       "      <td>2021-01-01 00:00:00</td>\n",
       "      <td>2021-02-01 00:00:00</td>\n",
       "    </tr>\n",
       "    <tr>\n",
       "      <th>1</th>\n",
       "      <td>City of London</td>\n",
       "      <td>E09000001</td>\n",
       "      <td>91448.98487</td>\n",
       "      <td>82202.77314</td>\n",
       "      <td>79120.70256</td>\n",
       "      <td>77101.20804</td>\n",
       "      <td>84409.14932</td>\n",
       "      <td>94900.51244</td>\n",
       "      <td>110128.0423</td>\n",
       "      <td>112329.4376</td>\n",
       "      <td>...</td>\n",
       "      <td>918209.3301</td>\n",
       "      <td>882872.1038</td>\n",
       "      <td>786626.6665</td>\n",
       "      <td>827658.5167</td>\n",
       "      <td>798499.1646</td>\n",
       "      <td>836807.0518</td>\n",
       "      <td>782056.9146</td>\n",
       "      <td>803125.7173</td>\n",
       "      <td>771641.0937</td>\n",
       "      <td>675308.9135</td>\n",
       "    </tr>\n",
       "    <tr>\n",
       "      <th>2</th>\n",
       "      <td>Barking &amp; Dagenham</td>\n",
       "      <td>E09000002</td>\n",
       "      <td>50460.2266</td>\n",
       "      <td>51085.77983</td>\n",
       "      <td>51268.96956</td>\n",
       "      <td>53133.50526</td>\n",
       "      <td>53042.24852</td>\n",
       "      <td>53700.34831</td>\n",
       "      <td>52113.12157</td>\n",
       "      <td>52232.19868</td>\n",
       "      <td>...</td>\n",
       "      <td>293815.8517</td>\n",
       "      <td>300526.2859</td>\n",
       "      <td>304555.5886</td>\n",
       "      <td>304923.5027</td>\n",
       "      <td>301702.4656</td>\n",
       "      <td>304852.1338</td>\n",
       "      <td>305055.9899</td>\n",
       "      <td>310568.6465</td>\n",
       "      <td>316477.4075</td>\n",
       "      <td>323953.8997</td>\n",
       "    </tr>\n",
       "    <tr>\n",
       "      <th>3</th>\n",
       "      <td>Barnet</td>\n",
       "      <td>E09000003</td>\n",
       "      <td>93284.51832</td>\n",
       "      <td>93190.16963</td>\n",
       "      <td>92247.52435</td>\n",
       "      <td>90762.87492</td>\n",
       "      <td>90258.00033</td>\n",
       "      <td>90107.23471</td>\n",
       "      <td>91441.24768</td>\n",
       "      <td>92361.31512</td>\n",
       "      <td>...</td>\n",
       "      <td>526032.9436</td>\n",
       "      <td>518175.0457</td>\n",
       "      <td>523279.8903</td>\n",
       "      <td>529660.1524</td>\n",
       "      <td>533619.23</td>\n",
       "      <td>530353.5205</td>\n",
       "      <td>531932.234</td>\n",
       "      <td>532704.7255</td>\n",
       "      <td>540601.3953</td>\n",
       "      <td>531887.2393</td>\n",
       "    </tr>\n",
       "    <tr>\n",
       "      <th>4</th>\n",
       "      <td>Bexley</td>\n",
       "      <td>E09000004</td>\n",
       "      <td>64958.09036</td>\n",
       "      <td>64787.92069</td>\n",
       "      <td>64367.49344</td>\n",
       "      <td>64277.66881</td>\n",
       "      <td>63997.13588</td>\n",
       "      <td>64252.32335</td>\n",
       "      <td>63722.70055</td>\n",
       "      <td>64432.60005</td>\n",
       "      <td>...</td>\n",
       "      <td>339353.0015</td>\n",
       "      <td>340893.0807</td>\n",
       "      <td>344091.2308</td>\n",
       "      <td>346679.9244</td>\n",
       "      <td>345061.4945</td>\n",
       "      <td>345404.9836</td>\n",
       "      <td>348681.3564</td>\n",
       "      <td>354052.3348</td>\n",
       "      <td>358905.6134</td>\n",
       "      <td>363411.5969</td>\n",
       "    </tr>\n",
       "  </tbody>\n",
       "</table>\n",
       "<p>5 rows × 316 columns</p>\n",
       "</div>"
      ],
      "text/plain": [
       "0          Unnamed: 0        NaN  1995-01-01 00:00:00  1995-02-01 00:00:00  \\\n",
       "0          Unnamed: 0        NaT  1995-01-01 00:00:00  1995-02-01 00:00:00   \n",
       "1      City of London  E09000001          91448.98487          82202.77314   \n",
       "2  Barking & Dagenham  E09000002           50460.2266          51085.77983   \n",
       "3              Barnet  E09000003          93284.51832          93190.16963   \n",
       "4              Bexley  E09000004          64958.09036          64787.92069   \n",
       "\n",
       "0  1995-03-01 00:00:00  1995-04-01 00:00:00  1995-05-01 00:00:00  \\\n",
       "0  1995-03-01 00:00:00  1995-04-01 00:00:00  1995-05-01 00:00:00   \n",
       "1          79120.70256          77101.20804          84409.14932   \n",
       "2          51268.96956          53133.50526          53042.24852   \n",
       "3          92247.52435          90762.87492          90258.00033   \n",
       "4          64367.49344          64277.66881          63997.13588   \n",
       "\n",
       "0  1995-06-01 00:00:00  1995-07-01 00:00:00  1995-08-01 00:00:00  ...  \\\n",
       "0  1995-06-01 00:00:00  1995-07-01 00:00:00  1995-08-01 00:00:00  ...   \n",
       "1          94900.51244          110128.0423          112329.4376  ...   \n",
       "2          53700.34831          52113.12157          52232.19868  ...   \n",
       "3          90107.23471          91441.24768          92361.31512  ...   \n",
       "4          64252.32335          63722.70055          64432.60005  ...   \n",
       "\n",
       "0  2020-05-01 00:00:00  2020-06-01 00:00:00  2020-07-01 00:00:00  \\\n",
       "0  2020-05-01 00:00:00  2020-06-01 00:00:00  2020-07-01 00:00:00   \n",
       "1          918209.3301          882872.1038          786626.6665   \n",
       "2          293815.8517          300526.2859          304555.5886   \n",
       "3          526032.9436          518175.0457          523279.8903   \n",
       "4          339353.0015          340893.0807          344091.2308   \n",
       "\n",
       "0  2020-08-01 00:00:00  2020-09-01 00:00:00  2020-10-01 00:00:00  \\\n",
       "0  2020-08-01 00:00:00  2020-09-01 00:00:00  2020-10-01 00:00:00   \n",
       "1          827658.5167          798499.1646          836807.0518   \n",
       "2          304923.5027          301702.4656          304852.1338   \n",
       "3          529660.1524            533619.23          530353.5205   \n",
       "4          346679.9244          345061.4945          345404.9836   \n",
       "\n",
       "0  2020-11-01 00:00:00  2020-12-01 00:00:00  2021-01-01 00:00:00  \\\n",
       "0  2020-11-01 00:00:00  2020-12-01 00:00:00  2021-01-01 00:00:00   \n",
       "1          782056.9146          803125.7173          771641.0937   \n",
       "2          305055.9899          310568.6465          316477.4075   \n",
       "3           531932.234          532704.7255          540601.3953   \n",
       "4          348681.3564          354052.3348          358905.6134   \n",
       "\n",
       "0  2021-02-01 00:00:00  \n",
       "0  2021-02-01 00:00:00  \n",
       "1          675308.9135  \n",
       "2          323953.8997  \n",
       "3          531887.2393  \n",
       "4          363411.5969  \n",
       "\n",
       "[5 rows x 316 columns]"
      ]
     },
     "execution_count": 13,
     "metadata": {},
     "output_type": "execute_result"
    }
   ],
   "source": [
    "properties.head()"
   ]
  },
  {
   "cell_type": "code",
<<<<<<< HEAD
   "execution_count": 14,
=======
   "execution_count": 22,
>>>>>>> eb47cd190d31b145aba1184a1bc7ae8249ed1625
   "metadata": {},
   "outputs": [
    {
     "data": {
      "text/html": [
       "<div>\n",
       "<style scoped>\n",
       "    .dataframe tbody tr th:only-of-type {\n",
       "        vertical-align: middle;\n",
       "    }\n",
       "\n",
       "    .dataframe tbody tr th {\n",
       "        vertical-align: top;\n",
       "    }\n",
       "\n",
       "    .dataframe thead th {\n",
       "        text-align: right;\n",
       "    }\n",
       "</style>\n",
       "<table border=\"1\" class=\"dataframe\">\n",
       "  <thead>\n",
       "    <tr style=\"text-align: right;\">\n",
       "      <th></th>\n",
       "      <th>Unnamed: 0</th>\n",
       "      <th>NaN</th>\n",
       "      <th>1995-01-01 00:00:00</th>\n",
       "      <th>1995-02-01 00:00:00</th>\n",
       "      <th>1995-03-01 00:00:00</th>\n",
       "      <th>1995-04-01 00:00:00</th>\n",
       "      <th>1995-05-01 00:00:00</th>\n",
       "      <th>1995-06-01 00:00:00</th>\n",
       "      <th>1995-07-01 00:00:00</th>\n",
       "      <th>1995-08-01 00:00:00</th>\n",
       "      <th>...</th>\n",
       "      <th>2020-05-01 00:00:00</th>\n",
       "      <th>2020-06-01 00:00:00</th>\n",
       "      <th>2020-07-01 00:00:00</th>\n",
       "      <th>2020-08-01 00:00:00</th>\n",
       "      <th>2020-09-01 00:00:00</th>\n",
       "      <th>2020-10-01 00:00:00</th>\n",
       "      <th>2020-11-01 00:00:00</th>\n",
       "      <th>2020-12-01 00:00:00</th>\n",
       "      <th>2021-01-01 00:00:00</th>\n",
       "      <th>2021-02-01 00:00:00</th>\n",
       "    </tr>\n",
       "  </thead>\n",
       "  <tbody>\n",
       "    <tr>\n",
       "      <th>44</th>\n",
       "      <td>LONDON</td>\n",
       "      <td>E12000007</td>\n",
       "      <td>74435.76052</td>\n",
       "      <td>72777.93709</td>\n",
       "      <td>73896.84204</td>\n",
       "      <td>74455.28754</td>\n",
       "      <td>75432.02786</td>\n",
       "      <td>75606.24501</td>\n",
       "      <td>75984.24079</td>\n",
       "      <td>75529.34488</td>\n",
       "      <td>...</td>\n",
       "      <td>470394.4163</td>\n",
       "      <td>478922.0948</td>\n",
       "      <td>483145.6046</td>\n",
       "      <td>488557.1748</td>\n",
       "      <td>492983.253</td>\n",
       "      <td>487614.9873</td>\n",
       "      <td>498619.3362</td>\n",
       "      <td>498795.0295</td>\n",
       "      <td>503308.4675</td>\n",
       "      <td>496269.0563</td>\n",
       "    </tr>\n",
       "    <tr>\n",
       "      <th>45</th>\n",
       "      <td>SOUTH EAST</td>\n",
       "      <td>E12000008</td>\n",
       "      <td>64018.87894</td>\n",
       "      <td>63715.02399</td>\n",
       "      <td>64113.60858</td>\n",
       "      <td>64623.22395</td>\n",
       "      <td>64530.36358</td>\n",
       "      <td>65511.008</td>\n",
       "      <td>65224.88465</td>\n",
       "      <td>64851.60429</td>\n",
       "      <td>...</td>\n",
       "      <td>321421.3193</td>\n",
       "      <td>322171.8325</td>\n",
       "      <td>325885.7689</td>\n",
       "      <td>329549.8357</td>\n",
       "      <td>332371.6618</td>\n",
       "      <td>334234.6065</td>\n",
       "      <td>339474.581</td>\n",
       "      <td>340792.1897</td>\n",
       "      <td>342099.4657</td>\n",
       "      <td>345074.806</td>\n",
       "    </tr>\n",
       "    <tr>\n",
       "      <th>46</th>\n",
       "      <td>SOUTH WEST</td>\n",
       "      <td>E12000009</td>\n",
       "      <td>54705.1579</td>\n",
       "      <td>54356.14843</td>\n",
       "      <td>53583.07667</td>\n",
       "      <td>54786.01938</td>\n",
       "      <td>54698.83831</td>\n",
       "      <td>54420.15939</td>\n",
       "      <td>54265.86368</td>\n",
       "      <td>54365.71495</td>\n",
       "      <td>...</td>\n",
       "      <td>255487.3342</td>\n",
       "      <td>259493.3119</td>\n",
       "      <td>264554.1113</td>\n",
       "      <td>265726.014</td>\n",
       "      <td>270737.2643</td>\n",
       "      <td>273079.8949</td>\n",
       "      <td>275520.3822</td>\n",
       "      <td>278676.8337</td>\n",
       "      <td>279147.3639</td>\n",
       "      <td>279241.6488</td>\n",
       "    </tr>\n",
       "    <tr>\n",
       "      <th>47</th>\n",
       "      <td>Unnamed: 47</td>\n",
       "      <td>NaN</td>\n",
       "      <td>NaN</td>\n",
       "      <td>NaN</td>\n",
       "      <td>NaN</td>\n",
       "      <td>NaN</td>\n",
       "      <td>NaN</td>\n",
       "      <td>NaN</td>\n",
       "      <td>NaN</td>\n",
       "      <td>NaN</td>\n",
       "      <td>...</td>\n",
       "      <td>NaN</td>\n",
       "      <td>NaN</td>\n",
       "      <td>NaN</td>\n",
       "      <td>NaN</td>\n",
       "      <td>NaN</td>\n",
       "      <td>NaN</td>\n",
       "      <td>NaN</td>\n",
       "      <td>NaN</td>\n",
       "      <td>NaN</td>\n",
       "      <td>NaN</td>\n",
       "    </tr>\n",
       "    <tr>\n",
       "      <th>48</th>\n",
       "      <td>England</td>\n",
       "      <td>E92000001</td>\n",
       "      <td>53202.77128</td>\n",
       "      <td>53096.1549</td>\n",
       "      <td>53201.2843</td>\n",
       "      <td>53590.8548</td>\n",
       "      <td>53678.24041</td>\n",
       "      <td>53735.15475</td>\n",
       "      <td>53900.60633</td>\n",
       "      <td>53600.31975</td>\n",
       "      <td>...</td>\n",
       "      <td>247025.4823</td>\n",
       "      <td>250850.8318</td>\n",
       "      <td>253481.5843</td>\n",
       "      <td>256134.6892</td>\n",
       "      <td>258544.5629</td>\n",
       "      <td>261076.3959</td>\n",
       "      <td>264494.2078</td>\n",
       "      <td>266984.9308</td>\n",
       "      <td>267711.0701</td>\n",
       "      <td>268291.3972</td>\n",
       "    </tr>\n",
       "  </tbody>\n",
       "</table>\n",
       "<p>5 rows × 316 columns</p>\n",
       "</div>"
      ],
      "text/plain": [
       "0    Unnamed: 0        NaN 1995-01-01 00:00:00 1995-02-01 00:00:00  \\\n",
       "44       LONDON  E12000007         74435.76052         72777.93709   \n",
       "45   SOUTH EAST  E12000008         64018.87894         63715.02399   \n",
       "46   SOUTH WEST  E12000009          54705.1579         54356.14843   \n",
       "47  Unnamed: 47        NaN                 NaN                 NaN   \n",
       "48      England  E92000001         53202.77128          53096.1549   \n",
       "\n",
       "0  1995-03-01 00:00:00 1995-04-01 00:00:00 1995-05-01 00:00:00  \\\n",
       "44         73896.84204         74455.28754         75432.02786   \n",
       "45         64113.60858         64623.22395         64530.36358   \n",
       "46         53583.07667         54786.01938         54698.83831   \n",
       "47                 NaN                 NaN                 NaN   \n",
       "48          53201.2843          53590.8548         53678.24041   \n",
       "\n",
       "0  1995-06-01 00:00:00 1995-07-01 00:00:00 1995-08-01 00:00:00  ...  \\\n",
       "44         75606.24501         75984.24079         75529.34488  ...   \n",
       "45           65511.008         65224.88465         64851.60429  ...   \n",
       "46         54420.15939         54265.86368         54365.71495  ...   \n",
       "47                 NaN                 NaN                 NaN  ...   \n",
       "48         53735.15475         53900.60633         53600.31975  ...   \n",
       "\n",
       "0  2020-05-01 00:00:00 2020-06-01 00:00:00 2020-07-01 00:00:00  \\\n",
       "44         470394.4163         478922.0948         483145.6046   \n",
       "45         321421.3193         322171.8325         325885.7689   \n",
       "46         255487.3342         259493.3119         264554.1113   \n",
       "47                 NaN                 NaN                 NaN   \n",
       "48         247025.4823         250850.8318         253481.5843   \n",
       "\n",
       "0  2020-08-01 00:00:00 2020-09-01 00:00:00 2020-10-01 00:00:00  \\\n",
       "44         488557.1748          492983.253         487614.9873   \n",
       "45         329549.8357         332371.6618         334234.6065   \n",
       "46          265726.014         270737.2643         273079.8949   \n",
       "47                 NaN                 NaN                 NaN   \n",
       "48         256134.6892         258544.5629         261076.3959   \n",
       "\n",
       "0  2020-11-01 00:00:00 2020-12-01 00:00:00 2021-01-01 00:00:00  \\\n",
       "44         498619.3362         498795.0295         503308.4675   \n",
       "45          339474.581         340792.1897         342099.4657   \n",
       "46         275520.3822         278676.8337         279147.3639   \n",
       "47                 NaN                 NaN                 NaN   \n",
       "48         264494.2078         266984.9308         267711.0701   \n",
       "\n",
       "0  2021-02-01 00:00:00  \n",
       "44         496269.0563  \n",
       "45          345074.806  \n",
       "46         279241.6488  \n",
       "47                 NaN  \n",
       "48         268291.3972  \n",
       "\n",
       "[5 rows x 316 columns]"
      ]
     },
<<<<<<< HEAD
     "execution_count": 14,
=======
     "execution_count": 22,
>>>>>>> eb47cd190d31b145aba1184a1bc7ae8249ed1625
     "metadata": {},
     "output_type": "execute_result"
    }
   ],
   "source": [
    "properties.tail()"
   ]
  },
  {
   "cell_type": "code",
<<<<<<< HEAD
   "execution_count": 15,
=======
   "execution_count": 14,
>>>>>>> eb47cd190d31b145aba1184a1bc7ae8249ed1625
   "metadata": {},
   "outputs": [
    {
     "name": "stdout",
     "output_type": "stream",
     "text": [
      "<class 'pandas.core.frame.DataFrame'>\n",
      "RangeIndex: 49 entries, 0 to 48\n",
      "Columns: 316 entries, Unnamed: 0 to 2021-02-01 00:00:00\n",
      "dtypes: object(316)\n",
      "memory usage: 121.1+ KB\n"
     ]
    }
   ],
   "source": [
    "properties.info()"
   ]
  },
  {
   "cell_type": "code",
<<<<<<< HEAD
   "execution_count": 16,
=======
   "execution_count": 15,
>>>>>>> eb47cd190d31b145aba1184a1bc7ae8249ed1625
   "metadata": {},
   "outputs": [],
   "source": [
    "# Droping the first row\n",
    "\n",
    "properties.drop(0, inplace = True)"
   ]
  },
  {
   "cell_type": "code",
<<<<<<< HEAD
   "execution_count": 17,
=======
   "execution_count": 16,
>>>>>>> eb47cd190d31b145aba1184a1bc7ae8249ed1625
   "metadata": {},
   "outputs": [
    {
     "data": {
      "text/html": [
       "<div>\n",
       "<style scoped>\n",
       "    .dataframe tbody tr th:only-of-type {\n",
       "        vertical-align: middle;\n",
       "    }\n",
       "\n",
       "    .dataframe tbody tr th {\n",
       "        vertical-align: top;\n",
       "    }\n",
       "\n",
       "    .dataframe thead th {\n",
       "        text-align: right;\n",
       "    }\n",
       "</style>\n",
       "<table border=\"1\" class=\"dataframe\">\n",
       "  <thead>\n",
       "    <tr style=\"text-align: right;\">\n",
       "      <th></th>\n",
       "      <th>Unnamed: 0</th>\n",
       "      <th>NaN</th>\n",
       "      <th>1995-01-01 00:00:00</th>\n",
       "      <th>1995-02-01 00:00:00</th>\n",
       "      <th>1995-03-01 00:00:00</th>\n",
       "      <th>1995-04-01 00:00:00</th>\n",
       "      <th>1995-05-01 00:00:00</th>\n",
       "      <th>1995-06-01 00:00:00</th>\n",
       "      <th>1995-07-01 00:00:00</th>\n",
       "      <th>1995-08-01 00:00:00</th>\n",
       "      <th>...</th>\n",
       "      <th>2020-05-01 00:00:00</th>\n",
       "      <th>2020-06-01 00:00:00</th>\n",
       "      <th>2020-07-01 00:00:00</th>\n",
       "      <th>2020-08-01 00:00:00</th>\n",
       "      <th>2020-09-01 00:00:00</th>\n",
       "      <th>2020-10-01 00:00:00</th>\n",
       "      <th>2020-11-01 00:00:00</th>\n",
       "      <th>2020-12-01 00:00:00</th>\n",
       "      <th>2021-01-01 00:00:00</th>\n",
       "      <th>2021-02-01 00:00:00</th>\n",
       "    </tr>\n",
       "  </thead>\n",
       "  <tbody>\n",
       "    <tr>\n",
       "      <th>1</th>\n",
       "      <td>City of London</td>\n",
       "      <td>E09000001</td>\n",
       "      <td>91448.98487</td>\n",
       "      <td>82202.77314</td>\n",
       "      <td>79120.70256</td>\n",
       "      <td>77101.20804</td>\n",
       "      <td>84409.14932</td>\n",
       "      <td>94900.51244</td>\n",
       "      <td>110128.0423</td>\n",
       "      <td>112329.4376</td>\n",
       "      <td>...</td>\n",
       "      <td>918209.3301</td>\n",
       "      <td>882872.1038</td>\n",
       "      <td>786626.6665</td>\n",
       "      <td>827658.5167</td>\n",
       "      <td>798499.1646</td>\n",
       "      <td>836807.0518</td>\n",
       "      <td>782056.9146</td>\n",
       "      <td>803125.7173</td>\n",
       "      <td>771641.0937</td>\n",
       "      <td>675308.9135</td>\n",
       "    </tr>\n",
       "    <tr>\n",
       "      <th>2</th>\n",
       "      <td>Barking &amp; Dagenham</td>\n",
       "      <td>E09000002</td>\n",
       "      <td>50460.2266</td>\n",
       "      <td>51085.77983</td>\n",
       "      <td>51268.96956</td>\n",
       "      <td>53133.50526</td>\n",
       "      <td>53042.24852</td>\n",
       "      <td>53700.34831</td>\n",
       "      <td>52113.12157</td>\n",
       "      <td>52232.19868</td>\n",
       "      <td>...</td>\n",
       "      <td>293815.8517</td>\n",
       "      <td>300526.2859</td>\n",
       "      <td>304555.5886</td>\n",
       "      <td>304923.5027</td>\n",
       "      <td>301702.4656</td>\n",
       "      <td>304852.1338</td>\n",
       "      <td>305055.9899</td>\n",
       "      <td>310568.6465</td>\n",
       "      <td>316477.4075</td>\n",
       "      <td>323953.8997</td>\n",
       "    </tr>\n",
       "    <tr>\n",
       "      <th>3</th>\n",
       "      <td>Barnet</td>\n",
       "      <td>E09000003</td>\n",
       "      <td>93284.51832</td>\n",
       "      <td>93190.16963</td>\n",
       "      <td>92247.52435</td>\n",
       "      <td>90762.87492</td>\n",
       "      <td>90258.00033</td>\n",
       "      <td>90107.23471</td>\n",
       "      <td>91441.24768</td>\n",
       "      <td>92361.31512</td>\n",
       "      <td>...</td>\n",
       "      <td>526032.9436</td>\n",
       "      <td>518175.0457</td>\n",
       "      <td>523279.8903</td>\n",
       "      <td>529660.1524</td>\n",
       "      <td>533619.23</td>\n",
       "      <td>530353.5205</td>\n",
       "      <td>531932.234</td>\n",
       "      <td>532704.7255</td>\n",
       "      <td>540601.3953</td>\n",
       "      <td>531887.2393</td>\n",
       "    </tr>\n",
       "    <tr>\n",
       "      <th>4</th>\n",
       "      <td>Bexley</td>\n",
       "      <td>E09000004</td>\n",
       "      <td>64958.09036</td>\n",
       "      <td>64787.92069</td>\n",
       "      <td>64367.49344</td>\n",
       "      <td>64277.66881</td>\n",
       "      <td>63997.13588</td>\n",
       "      <td>64252.32335</td>\n",
       "      <td>63722.70055</td>\n",
       "      <td>64432.60005</td>\n",
       "      <td>...</td>\n",
       "      <td>339353.0015</td>\n",
       "      <td>340893.0807</td>\n",
       "      <td>344091.2308</td>\n",
       "      <td>346679.9244</td>\n",
       "      <td>345061.4945</td>\n",
       "      <td>345404.9836</td>\n",
       "      <td>348681.3564</td>\n",
       "      <td>354052.3348</td>\n",
       "      <td>358905.6134</td>\n",
       "      <td>363411.5969</td>\n",
       "    </tr>\n",
       "    <tr>\n",
       "      <th>5</th>\n",
       "      <td>Brent</td>\n",
       "      <td>E09000005</td>\n",
       "      <td>71306.56698</td>\n",
       "      <td>72022.26197</td>\n",
       "      <td>72015.76274</td>\n",
       "      <td>72965.63094</td>\n",
       "      <td>73704.04743</td>\n",
       "      <td>74310.48167</td>\n",
       "      <td>74127.03788</td>\n",
       "      <td>73547.0411</td>\n",
       "      <td>...</td>\n",
       "      <td>482808.0821</td>\n",
       "      <td>484159.9118</td>\n",
       "      <td>482303.0931</td>\n",
       "      <td>497729.0327</td>\n",
       "      <td>519561.8277</td>\n",
       "      <td>522239.3216</td>\n",
       "      <td>513891.893</td>\n",
       "      <td>497018.3756</td>\n",
       "      <td>514178.5004</td>\n",
       "      <td>502263.8112</td>\n",
       "    </tr>\n",
       "  </tbody>\n",
       "</table>\n",
       "<p>5 rows × 316 columns</p>\n",
       "</div>"
      ],
      "text/plain": [
       "0          Unnamed: 0        NaN 1995-01-01 00:00:00 1995-02-01 00:00:00  \\\n",
       "1      City of London  E09000001         91448.98487         82202.77314   \n",
       "2  Barking & Dagenham  E09000002          50460.2266         51085.77983   \n",
       "3              Barnet  E09000003         93284.51832         93190.16963   \n",
       "4              Bexley  E09000004         64958.09036         64787.92069   \n",
       "5               Brent  E09000005         71306.56698         72022.26197   \n",
       "\n",
       "0 1995-03-01 00:00:00 1995-04-01 00:00:00 1995-05-01 00:00:00  \\\n",
       "1         79120.70256         77101.20804         84409.14932   \n",
       "2         51268.96956         53133.50526         53042.24852   \n",
       "3         92247.52435         90762.87492         90258.00033   \n",
       "4         64367.49344         64277.66881         63997.13588   \n",
       "5         72015.76274         72965.63094         73704.04743   \n",
       "\n",
       "0 1995-06-01 00:00:00 1995-07-01 00:00:00 1995-08-01 00:00:00  ...  \\\n",
       "1         94900.51244         110128.0423         112329.4376  ...   \n",
       "2         53700.34831         52113.12157         52232.19868  ...   \n",
       "3         90107.23471         91441.24768         92361.31512  ...   \n",
       "4         64252.32335         63722.70055         64432.60005  ...   \n",
       "5         74310.48167         74127.03788          73547.0411  ...   \n",
       "\n",
       "0 2020-05-01 00:00:00 2020-06-01 00:00:00 2020-07-01 00:00:00  \\\n",
       "1         918209.3301         882872.1038         786626.6665   \n",
       "2         293815.8517         300526.2859         304555.5886   \n",
       "3         526032.9436         518175.0457         523279.8903   \n",
       "4         339353.0015         340893.0807         344091.2308   \n",
       "5         482808.0821         484159.9118         482303.0931   \n",
       "\n",
       "0 2020-08-01 00:00:00 2020-09-01 00:00:00 2020-10-01 00:00:00  \\\n",
       "1         827658.5167         798499.1646         836807.0518   \n",
       "2         304923.5027         301702.4656         304852.1338   \n",
       "3         529660.1524           533619.23         530353.5205   \n",
       "4         346679.9244         345061.4945         345404.9836   \n",
       "5         497729.0327         519561.8277         522239.3216   \n",
       "\n",
       "0 2020-11-01 00:00:00 2020-12-01 00:00:00 2021-01-01 00:00:00  \\\n",
       "1         782056.9146         803125.7173         771641.0937   \n",
       "2         305055.9899         310568.6465         316477.4075   \n",
       "3          531932.234         532704.7255         540601.3953   \n",
       "4         348681.3564         354052.3348         358905.6134   \n",
       "5          513891.893         497018.3756         514178.5004   \n",
       "\n",
       "0 2021-02-01 00:00:00  \n",
       "1         675308.9135  \n",
       "2         323953.8997  \n",
       "3         531887.2393  \n",
       "4         363411.5969  \n",
       "5         502263.8112  \n",
       "\n",
       "[5 rows x 316 columns]"
      ]
     },
<<<<<<< HEAD
     "execution_count": 17,
=======
     "execution_count": 16,
>>>>>>> eb47cd190d31b145aba1184a1bc7ae8249ed1625
     "metadata": {},
     "output_type": "execute_result"
    }
   ],
   "source": [
    "properties.head()"
   ]
  },
  {
   "cell_type": "code",
<<<<<<< HEAD
   "execution_count": 18,
=======
   "execution_count": 20,
>>>>>>> eb47cd190d31b145aba1184a1bc7ae8249ed1625
   "metadata": {},
   "outputs": [],
   "source": [
    "#properties.reset_index(drop = True, inplace = True)"
   ]
  },
  {
   "cell_type": "code",
<<<<<<< HEAD
   "execution_count": 19,
   "metadata": {},
   "outputs": [],
=======
   "execution_count": 21,
   "metadata": {},
   "outputs": [
    {
     "data": {
      "text/html": [
       "<div>\n",
       "<style scoped>\n",
       "    .dataframe tbody tr th:only-of-type {\n",
       "        vertical-align: middle;\n",
       "    }\n",
       "\n",
       "    .dataframe tbody tr th {\n",
       "        vertical-align: top;\n",
       "    }\n",
       "\n",
       "    .dataframe thead th {\n",
       "        text-align: right;\n",
       "    }\n",
       "</style>\n",
       "<table border=\"1\" class=\"dataframe\">\n",
       "  <thead>\n",
       "    <tr style=\"text-align: right;\">\n",
       "      <th></th>\n",
       "      <th>Unnamed: 0</th>\n",
       "      <th>NaN</th>\n",
       "      <th>1995-01-01 00:00:00</th>\n",
       "      <th>1995-02-01 00:00:00</th>\n",
       "      <th>1995-03-01 00:00:00</th>\n",
       "      <th>1995-04-01 00:00:00</th>\n",
       "      <th>1995-05-01 00:00:00</th>\n",
       "      <th>1995-06-01 00:00:00</th>\n",
       "      <th>1995-07-01 00:00:00</th>\n",
       "      <th>1995-08-01 00:00:00</th>\n",
       "      <th>...</th>\n",
       "      <th>2020-05-01 00:00:00</th>\n",
       "      <th>2020-06-01 00:00:00</th>\n",
       "      <th>2020-07-01 00:00:00</th>\n",
       "      <th>2020-08-01 00:00:00</th>\n",
       "      <th>2020-09-01 00:00:00</th>\n",
       "      <th>2020-10-01 00:00:00</th>\n",
       "      <th>2020-11-01 00:00:00</th>\n",
       "      <th>2020-12-01 00:00:00</th>\n",
       "      <th>2021-01-01 00:00:00</th>\n",
       "      <th>2021-02-01 00:00:00</th>\n",
       "    </tr>\n",
       "  </thead>\n",
       "  <tbody>\n",
       "    <tr>\n",
       "      <th>0</th>\n",
       "      <td>City of London</td>\n",
       "      <td>E09000001</td>\n",
       "      <td>91448.98487</td>\n",
       "      <td>82202.77314</td>\n",
       "      <td>79120.70256</td>\n",
       "      <td>77101.20804</td>\n",
       "      <td>84409.14932</td>\n",
       "      <td>94900.51244</td>\n",
       "      <td>110128.0423</td>\n",
       "      <td>112329.4376</td>\n",
       "      <td>...</td>\n",
       "      <td>918209.3301</td>\n",
       "      <td>882872.1038</td>\n",
       "      <td>786626.6665</td>\n",
       "      <td>827658.5167</td>\n",
       "      <td>798499.1646</td>\n",
       "      <td>836807.0518</td>\n",
       "      <td>782056.9146</td>\n",
       "      <td>803125.7173</td>\n",
       "      <td>771641.0937</td>\n",
       "      <td>675308.9135</td>\n",
       "    </tr>\n",
       "    <tr>\n",
       "      <th>1</th>\n",
       "      <td>Barking &amp; Dagenham</td>\n",
       "      <td>E09000002</td>\n",
       "      <td>50460.2266</td>\n",
       "      <td>51085.77983</td>\n",
       "      <td>51268.96956</td>\n",
       "      <td>53133.50526</td>\n",
       "      <td>53042.24852</td>\n",
       "      <td>53700.34831</td>\n",
       "      <td>52113.12157</td>\n",
       "      <td>52232.19868</td>\n",
       "      <td>...</td>\n",
       "      <td>293815.8517</td>\n",
       "      <td>300526.2859</td>\n",
       "      <td>304555.5886</td>\n",
       "      <td>304923.5027</td>\n",
       "      <td>301702.4656</td>\n",
       "      <td>304852.1338</td>\n",
       "      <td>305055.9899</td>\n",
       "      <td>310568.6465</td>\n",
       "      <td>316477.4075</td>\n",
       "      <td>323953.8997</td>\n",
       "    </tr>\n",
       "    <tr>\n",
       "      <th>2</th>\n",
       "      <td>Barnet</td>\n",
       "      <td>E09000003</td>\n",
       "      <td>93284.51832</td>\n",
       "      <td>93190.16963</td>\n",
       "      <td>92247.52435</td>\n",
       "      <td>90762.87492</td>\n",
       "      <td>90258.00033</td>\n",
       "      <td>90107.23471</td>\n",
       "      <td>91441.24768</td>\n",
       "      <td>92361.31512</td>\n",
       "      <td>...</td>\n",
       "      <td>526032.9436</td>\n",
       "      <td>518175.0457</td>\n",
       "      <td>523279.8903</td>\n",
       "      <td>529660.1524</td>\n",
       "      <td>533619.23</td>\n",
       "      <td>530353.5205</td>\n",
       "      <td>531932.234</td>\n",
       "      <td>532704.7255</td>\n",
       "      <td>540601.3953</td>\n",
       "      <td>531887.2393</td>\n",
       "    </tr>\n",
       "    <tr>\n",
       "      <th>3</th>\n",
       "      <td>Bexley</td>\n",
       "      <td>E09000004</td>\n",
       "      <td>64958.09036</td>\n",
       "      <td>64787.92069</td>\n",
       "      <td>64367.49344</td>\n",
       "      <td>64277.66881</td>\n",
       "      <td>63997.13588</td>\n",
       "      <td>64252.32335</td>\n",
       "      <td>63722.70055</td>\n",
       "      <td>64432.60005</td>\n",
       "      <td>...</td>\n",
       "      <td>339353.0015</td>\n",
       "      <td>340893.0807</td>\n",
       "      <td>344091.2308</td>\n",
       "      <td>346679.9244</td>\n",
       "      <td>345061.4945</td>\n",
       "      <td>345404.9836</td>\n",
       "      <td>348681.3564</td>\n",
       "      <td>354052.3348</td>\n",
       "      <td>358905.6134</td>\n",
       "      <td>363411.5969</td>\n",
       "    </tr>\n",
       "    <tr>\n",
       "      <th>4</th>\n",
       "      <td>Brent</td>\n",
       "      <td>E09000005</td>\n",
       "      <td>71306.56698</td>\n",
       "      <td>72022.26197</td>\n",
       "      <td>72015.76274</td>\n",
       "      <td>72965.63094</td>\n",
       "      <td>73704.04743</td>\n",
       "      <td>74310.48167</td>\n",
       "      <td>74127.03788</td>\n",
       "      <td>73547.0411</td>\n",
       "      <td>...</td>\n",
       "      <td>482808.0821</td>\n",
       "      <td>484159.9118</td>\n",
       "      <td>482303.0931</td>\n",
       "      <td>497729.0327</td>\n",
       "      <td>519561.8277</td>\n",
       "      <td>522239.3216</td>\n",
       "      <td>513891.893</td>\n",
       "      <td>497018.3756</td>\n",
       "      <td>514178.5004</td>\n",
       "      <td>502263.8112</td>\n",
       "    </tr>\n",
       "  </tbody>\n",
       "</table>\n",
       "<p>5 rows × 316 columns</p>\n",
       "</div>"
      ],
      "text/plain": [
       "0          Unnamed: 0        NaN 1995-01-01 00:00:00 1995-02-01 00:00:00  \\\n",
       "0      City of London  E09000001         91448.98487         82202.77314   \n",
       "1  Barking & Dagenham  E09000002          50460.2266         51085.77983   \n",
       "2              Barnet  E09000003         93284.51832         93190.16963   \n",
       "3              Bexley  E09000004         64958.09036         64787.92069   \n",
       "4               Brent  E09000005         71306.56698         72022.26197   \n",
       "\n",
       "0 1995-03-01 00:00:00 1995-04-01 00:00:00 1995-05-01 00:00:00  \\\n",
       "0         79120.70256         77101.20804         84409.14932   \n",
       "1         51268.96956         53133.50526         53042.24852   \n",
       "2         92247.52435         90762.87492         90258.00033   \n",
       "3         64367.49344         64277.66881         63997.13588   \n",
       "4         72015.76274         72965.63094         73704.04743   \n",
       "\n",
       "0 1995-06-01 00:00:00 1995-07-01 00:00:00 1995-08-01 00:00:00  ...  \\\n",
       "0         94900.51244         110128.0423         112329.4376  ...   \n",
       "1         53700.34831         52113.12157         52232.19868  ...   \n",
       "2         90107.23471         91441.24768         92361.31512  ...   \n",
       "3         64252.32335         63722.70055         64432.60005  ...   \n",
       "4         74310.48167         74127.03788          73547.0411  ...   \n",
       "\n",
       "0 2020-05-01 00:00:00 2020-06-01 00:00:00 2020-07-01 00:00:00  \\\n",
       "0         918209.3301         882872.1038         786626.6665   \n",
       "1         293815.8517         300526.2859         304555.5886   \n",
       "2         526032.9436         518175.0457         523279.8903   \n",
       "3         339353.0015         340893.0807         344091.2308   \n",
       "4         482808.0821         484159.9118         482303.0931   \n",
       "\n",
       "0 2020-08-01 00:00:00 2020-09-01 00:00:00 2020-10-01 00:00:00  \\\n",
       "0         827658.5167         798499.1646         836807.0518   \n",
       "1         304923.5027         301702.4656         304852.1338   \n",
       "2         529660.1524           533619.23         530353.5205   \n",
       "3         346679.9244         345061.4945         345404.9836   \n",
       "4         497729.0327         519561.8277         522239.3216   \n",
       "\n",
       "0 2020-11-01 00:00:00 2020-12-01 00:00:00 2021-01-01 00:00:00  \\\n",
       "0         782056.9146         803125.7173         771641.0937   \n",
       "1         305055.9899         310568.6465         316477.4075   \n",
       "2          531932.234         532704.7255         540601.3953   \n",
       "3         348681.3564         354052.3348         358905.6134   \n",
       "4          513891.893         497018.3756         514178.5004   \n",
       "\n",
       "0 2021-02-01 00:00:00  \n",
       "0         675308.9135  \n",
       "1         323953.8997  \n",
       "2         531887.2393  \n",
       "3         363411.5969  \n",
       "4         502263.8112  \n",
       "\n",
       "[5 rows x 316 columns]"
      ]
     },
     "execution_count": 21,
     "metadata": {},
     "output_type": "execute_result"
    }
   ],
>>>>>>> eb47cd190d31b145aba1184a1bc7ae8249ed1625
   "source": [
    "#properties.head()"
   ]
  },
  {
   "cell_type": "markdown",
   "metadata": {
    "colab_type": "text",
    "id": "o1uLbJAsoIjK"
   },
   "source": [
    "**2.3. Cleaning the data (part 2)**\n",
    "\n",
    "You might we have to **rename** a couple columns. How do you do this? The clue's pretty bold..."
   ]
  },
  {
   "cell_type": "code",
<<<<<<< HEAD
   "execution_count": 20,
=======
   "execution_count": 17,
>>>>>>> eb47cd190d31b145aba1184a1bc7ae8249ed1625
   "metadata": {
    "colab": {},
    "colab_type": "code",
    "id": "GKkmn1AnoVZS"
   },
   "outputs": [],
   "source": [
    "# Renaming the first two columns \n",
    "\n",
    "properties.rename({'Unnamed: 0': 'London_Borough', pd.NaT: 'ID'}, axis = 'columns', inplace = True)"
   ]
  },
  {
   "cell_type": "code",
<<<<<<< HEAD
   "execution_count": 21,
=======
   "execution_count": 18,
>>>>>>> eb47cd190d31b145aba1184a1bc7ae8249ed1625
   "metadata": {},
   "outputs": [
    {
     "data": {
      "text/html": [
       "<div>\n",
       "<style scoped>\n",
       "    .dataframe tbody tr th:only-of-type {\n",
       "        vertical-align: middle;\n",
       "    }\n",
       "\n",
       "    .dataframe tbody tr th {\n",
       "        vertical-align: top;\n",
       "    }\n",
       "\n",
       "    .dataframe thead th {\n",
       "        text-align: right;\n",
       "    }\n",
       "</style>\n",
       "<table border=\"1\" class=\"dataframe\">\n",
       "  <thead>\n",
       "    <tr style=\"text-align: right;\">\n",
       "      <th></th>\n",
       "      <th>London_Borough</th>\n",
       "      <th>ID</th>\n",
       "      <th>1995-01-01 00:00:00</th>\n",
       "      <th>1995-02-01 00:00:00</th>\n",
       "      <th>1995-03-01 00:00:00</th>\n",
       "      <th>1995-04-01 00:00:00</th>\n",
       "      <th>1995-05-01 00:00:00</th>\n",
       "      <th>1995-06-01 00:00:00</th>\n",
       "      <th>1995-07-01 00:00:00</th>\n",
       "      <th>1995-08-01 00:00:00</th>\n",
       "      <th>...</th>\n",
       "      <th>2020-05-01 00:00:00</th>\n",
       "      <th>2020-06-01 00:00:00</th>\n",
       "      <th>2020-07-01 00:00:00</th>\n",
       "      <th>2020-08-01 00:00:00</th>\n",
       "      <th>2020-09-01 00:00:00</th>\n",
       "      <th>2020-10-01 00:00:00</th>\n",
       "      <th>2020-11-01 00:00:00</th>\n",
       "      <th>2020-12-01 00:00:00</th>\n",
       "      <th>2021-01-01 00:00:00</th>\n",
       "      <th>2021-02-01 00:00:00</th>\n",
       "    </tr>\n",
       "  </thead>\n",
       "  <tbody>\n",
       "    <tr>\n",
       "      <th>1</th>\n",
       "      <td>City of London</td>\n",
       "      <td>E09000001</td>\n",
       "      <td>91448.98487</td>\n",
       "      <td>82202.77314</td>\n",
       "      <td>79120.70256</td>\n",
       "      <td>77101.20804</td>\n",
       "      <td>84409.14932</td>\n",
       "      <td>94900.51244</td>\n",
       "      <td>110128.0423</td>\n",
       "      <td>112329.4376</td>\n",
       "      <td>...</td>\n",
       "      <td>918209.3301</td>\n",
       "      <td>882872.1038</td>\n",
       "      <td>786626.6665</td>\n",
       "      <td>827658.5167</td>\n",
       "      <td>798499.1646</td>\n",
       "      <td>836807.0518</td>\n",
       "      <td>782056.9146</td>\n",
       "      <td>803125.7173</td>\n",
       "      <td>771641.0937</td>\n",
       "      <td>675308.9135</td>\n",
       "    </tr>\n",
       "    <tr>\n",
       "      <th>2</th>\n",
       "      <td>Barking &amp; Dagenham</td>\n",
       "      <td>E09000002</td>\n",
       "      <td>50460.2266</td>\n",
       "      <td>51085.77983</td>\n",
       "      <td>51268.96956</td>\n",
       "      <td>53133.50526</td>\n",
       "      <td>53042.24852</td>\n",
       "      <td>53700.34831</td>\n",
       "      <td>52113.12157</td>\n",
       "      <td>52232.19868</td>\n",
       "      <td>...</td>\n",
       "      <td>293815.8517</td>\n",
       "      <td>300526.2859</td>\n",
       "      <td>304555.5886</td>\n",
       "      <td>304923.5027</td>\n",
       "      <td>301702.4656</td>\n",
       "      <td>304852.1338</td>\n",
       "      <td>305055.9899</td>\n",
       "      <td>310568.6465</td>\n",
       "      <td>316477.4075</td>\n",
       "      <td>323953.8997</td>\n",
       "    </tr>\n",
       "    <tr>\n",
       "      <th>3</th>\n",
       "      <td>Barnet</td>\n",
       "      <td>E09000003</td>\n",
       "      <td>93284.51832</td>\n",
       "      <td>93190.16963</td>\n",
       "      <td>92247.52435</td>\n",
       "      <td>90762.87492</td>\n",
       "      <td>90258.00033</td>\n",
       "      <td>90107.23471</td>\n",
       "      <td>91441.24768</td>\n",
       "      <td>92361.31512</td>\n",
       "      <td>...</td>\n",
       "      <td>526032.9436</td>\n",
       "      <td>518175.0457</td>\n",
       "      <td>523279.8903</td>\n",
       "      <td>529660.1524</td>\n",
       "      <td>533619.23</td>\n",
       "      <td>530353.5205</td>\n",
       "      <td>531932.234</td>\n",
       "      <td>532704.7255</td>\n",
       "      <td>540601.3953</td>\n",
       "      <td>531887.2393</td>\n",
       "    </tr>\n",
       "    <tr>\n",
       "      <th>4</th>\n",
       "      <td>Bexley</td>\n",
       "      <td>E09000004</td>\n",
       "      <td>64958.09036</td>\n",
       "      <td>64787.92069</td>\n",
       "      <td>64367.49344</td>\n",
       "      <td>64277.66881</td>\n",
       "      <td>63997.13588</td>\n",
       "      <td>64252.32335</td>\n",
       "      <td>63722.70055</td>\n",
       "      <td>64432.60005</td>\n",
       "      <td>...</td>\n",
       "      <td>339353.0015</td>\n",
       "      <td>340893.0807</td>\n",
       "      <td>344091.2308</td>\n",
       "      <td>346679.9244</td>\n",
       "      <td>345061.4945</td>\n",
       "      <td>345404.9836</td>\n",
       "      <td>348681.3564</td>\n",
       "      <td>354052.3348</td>\n",
       "      <td>358905.6134</td>\n",
       "      <td>363411.5969</td>\n",
       "    </tr>\n",
       "    <tr>\n",
       "      <th>5</th>\n",
       "      <td>Brent</td>\n",
       "      <td>E09000005</td>\n",
       "      <td>71306.56698</td>\n",
       "      <td>72022.26197</td>\n",
       "      <td>72015.76274</td>\n",
       "      <td>72965.63094</td>\n",
       "      <td>73704.04743</td>\n",
       "      <td>74310.48167</td>\n",
       "      <td>74127.03788</td>\n",
       "      <td>73547.0411</td>\n",
       "      <td>...</td>\n",
       "      <td>482808.0821</td>\n",
       "      <td>484159.9118</td>\n",
       "      <td>482303.0931</td>\n",
       "      <td>497729.0327</td>\n",
       "      <td>519561.8277</td>\n",
       "      <td>522239.3216</td>\n",
       "      <td>513891.893</td>\n",
       "      <td>497018.3756</td>\n",
       "      <td>514178.5004</td>\n",
       "      <td>502263.8112</td>\n",
       "    </tr>\n",
       "  </tbody>\n",
       "</table>\n",
       "<p>5 rows × 316 columns</p>\n",
       "</div>"
      ],
      "text/plain": [
       "0      London_Borough         ID 1995-01-01 00:00:00 1995-02-01 00:00:00  \\\n",
       "1      City of London  E09000001         91448.98487         82202.77314   \n",
       "2  Barking & Dagenham  E09000002          50460.2266         51085.77983   \n",
       "3              Barnet  E09000003         93284.51832         93190.16963   \n",
       "4              Bexley  E09000004         64958.09036         64787.92069   \n",
       "5               Brent  E09000005         71306.56698         72022.26197   \n",
       "\n",
       "0 1995-03-01 00:00:00 1995-04-01 00:00:00 1995-05-01 00:00:00  \\\n",
       "1         79120.70256         77101.20804         84409.14932   \n",
       "2         51268.96956         53133.50526         53042.24852   \n",
       "3         92247.52435         90762.87492         90258.00033   \n",
       "4         64367.49344         64277.66881         63997.13588   \n",
       "5         72015.76274         72965.63094         73704.04743   \n",
       "\n",
       "0 1995-06-01 00:00:00 1995-07-01 00:00:00 1995-08-01 00:00:00  ...  \\\n",
       "1         94900.51244         110128.0423         112329.4376  ...   \n",
       "2         53700.34831         52113.12157         52232.19868  ...   \n",
       "3         90107.23471         91441.24768         92361.31512  ...   \n",
       "4         64252.32335         63722.70055         64432.60005  ...   \n",
       "5         74310.48167         74127.03788          73547.0411  ...   \n",
       "\n",
       "0 2020-05-01 00:00:00 2020-06-01 00:00:00 2020-07-01 00:00:00  \\\n",
       "1         918209.3301         882872.1038         786626.6665   \n",
       "2         293815.8517         300526.2859         304555.5886   \n",
       "3         526032.9436         518175.0457         523279.8903   \n",
       "4         339353.0015         340893.0807         344091.2308   \n",
       "5         482808.0821         484159.9118         482303.0931   \n",
       "\n",
       "0 2020-08-01 00:00:00 2020-09-01 00:00:00 2020-10-01 00:00:00  \\\n",
       "1         827658.5167         798499.1646         836807.0518   \n",
       "2         304923.5027         301702.4656         304852.1338   \n",
       "3         529660.1524           533619.23         530353.5205   \n",
       "4         346679.9244         345061.4945         345404.9836   \n",
       "5         497729.0327         519561.8277         522239.3216   \n",
       "\n",
       "0 2020-11-01 00:00:00 2020-12-01 00:00:00 2021-01-01 00:00:00  \\\n",
       "1         782056.9146         803125.7173         771641.0937   \n",
       "2         305055.9899         310568.6465         316477.4075   \n",
       "3          531932.234         532704.7255         540601.3953   \n",
       "4         348681.3564         354052.3348         358905.6134   \n",
       "5          513891.893         497018.3756         514178.5004   \n",
       "\n",
       "0 2021-02-01 00:00:00  \n",
       "1         675308.9135  \n",
       "2         323953.8997  \n",
       "3         531887.2393  \n",
       "4         363411.5969  \n",
       "5         502263.8112  \n",
       "\n",
       "[5 rows x 316 columns]"
      ]
     },
<<<<<<< HEAD
     "execution_count": 21,
=======
     "execution_count": 18,
>>>>>>> eb47cd190d31b145aba1184a1bc7ae8249ed1625
     "metadata": {},
     "output_type": "execute_result"
    }
   ],
   "source": [
    "properties.head()"
   ]
  },
  {
   "cell_type": "code",
<<<<<<< HEAD
   "execution_count": 22,
=======
   "execution_count": 19,
>>>>>>> eb47cd190d31b145aba1184a1bc7ae8249ed1625
   "metadata": {},
   "outputs": [
    {
     "data": {
      "text/plain": [
       "Index([   'London_Borough',                'ID', 1995-01-01 00:00:00,\n",
       "       1995-02-01 00:00:00, 1995-03-01 00:00:00, 1995-04-01 00:00:00,\n",
       "       1995-05-01 00:00:00, 1995-06-01 00:00:00, 1995-07-01 00:00:00,\n",
       "       1995-08-01 00:00:00,\n",
       "       ...\n",
       "       2020-05-01 00:00:00, 2020-06-01 00:00:00, 2020-07-01 00:00:00,\n",
       "       2020-08-01 00:00:00, 2020-09-01 00:00:00, 2020-10-01 00:00:00,\n",
       "       2020-11-01 00:00:00, 2020-12-01 00:00:00, 2021-01-01 00:00:00,\n",
       "       2021-02-01 00:00:00],\n",
       "      dtype='object', name=0, length=316)"
      ]
     },
<<<<<<< HEAD
     "execution_count": 22,
=======
     "execution_count": 19,
>>>>>>> eb47cd190d31b145aba1184a1bc7ae8249ed1625
     "metadata": {},
     "output_type": "execute_result"
    }
   ],
   "source": [
    "properties.columns"
   ]
  },
  {
   "cell_type": "markdown",
   "metadata": {
    "colab_type": "text",
    "id": "jy8BzXHmoWEw"
   },
   "source": [
    "**2.4.Transforming the data**\n",
    "\n",
    "Remember what Wes McKinney said about tidy data? \n",
    "\n",
    "You might need to **melt** your DataFrame here. "
   ]
  },
  {
   "cell_type": "code",
<<<<<<< HEAD
   "execution_count": 23,
=======
   "execution_count": 20,
>>>>>>> eb47cd190d31b145aba1184a1bc7ae8249ed1625
   "metadata": {
    "colab": {},
    "colab_type": "code",
    "id": "S2wM0qLuo2Zt"
   },
   "outputs": [],
   "source": [
    "# Melting the dataFrame to reshape the dataframe\n",
    "\n",
    "clean_properties = pd.melt(properties, id_vars = ['London_Borough', 'ID'])"
   ]
  },
  {
   "cell_type": "code",
<<<<<<< HEAD
   "execution_count": 24,
=======
   "execution_count": 21,
>>>>>>> eb47cd190d31b145aba1184a1bc7ae8249ed1625
   "metadata": {},
   "outputs": [
    {
     "data": {
      "text/html": [
       "<div>\n",
       "<style scoped>\n",
       "    .dataframe tbody tr th:only-of-type {\n",
       "        vertical-align: middle;\n",
       "    }\n",
       "\n",
       "    .dataframe tbody tr th {\n",
       "        vertical-align: top;\n",
       "    }\n",
       "\n",
       "    .dataframe thead th {\n",
       "        text-align: right;\n",
       "    }\n",
       "</style>\n",
       "<table border=\"1\" class=\"dataframe\">\n",
       "  <thead>\n",
       "    <tr style=\"text-align: right;\">\n",
       "      <th></th>\n",
       "      <th>London_Borough</th>\n",
       "      <th>ID</th>\n",
       "      <th>0</th>\n",
       "      <th>value</th>\n",
       "    </tr>\n",
       "  </thead>\n",
       "  <tbody>\n",
       "    <tr>\n",
       "      <th>0</th>\n",
       "      <td>City of London</td>\n",
       "      <td>E09000001</td>\n",
       "      <td>1995-01-01</td>\n",
       "      <td>91448.98487</td>\n",
       "    </tr>\n",
       "    <tr>\n",
       "      <th>1</th>\n",
       "      <td>Barking &amp; Dagenham</td>\n",
       "      <td>E09000002</td>\n",
       "      <td>1995-01-01</td>\n",
       "      <td>50460.2266</td>\n",
       "    </tr>\n",
       "    <tr>\n",
       "      <th>2</th>\n",
       "      <td>Barnet</td>\n",
       "      <td>E09000003</td>\n",
       "      <td>1995-01-01</td>\n",
       "      <td>93284.51832</td>\n",
       "    </tr>\n",
       "    <tr>\n",
       "      <th>3</th>\n",
       "      <td>Bexley</td>\n",
       "      <td>E09000004</td>\n",
       "      <td>1995-01-01</td>\n",
       "      <td>64958.09036</td>\n",
       "    </tr>\n",
       "    <tr>\n",
       "      <th>4</th>\n",
       "      <td>Brent</td>\n",
       "      <td>E09000005</td>\n",
       "      <td>1995-01-01</td>\n",
       "      <td>71306.56698</td>\n",
       "    </tr>\n",
       "  </tbody>\n",
       "</table>\n",
       "</div>"
      ],
      "text/plain": [
       "       London_Borough         ID          0        value\n",
       "0      City of London  E09000001 1995-01-01  91448.98487\n",
       "1  Barking & Dagenham  E09000002 1995-01-01   50460.2266\n",
       "2              Barnet  E09000003 1995-01-01  93284.51832\n",
       "3              Bexley  E09000004 1995-01-01  64958.09036\n",
       "4               Brent  E09000005 1995-01-01  71306.56698"
      ]
     },
<<<<<<< HEAD
     "execution_count": 24,
=======
     "execution_count": 21,
>>>>>>> eb47cd190d31b145aba1184a1bc7ae8249ed1625
     "metadata": {},
     "output_type": "execute_result"
    }
   ],
   "source": [
    "clean_properties.head()"
   ]
  },
  {
   "cell_type": "code",
<<<<<<< HEAD
   "execution_count": 25,
=======
   "execution_count": 22,
>>>>>>> eb47cd190d31b145aba1184a1bc7ae8249ed1625
   "metadata": {},
   "outputs": [
    {
     "data": {
      "text/plain": [
       "(15072, 4)"
      ]
     },
<<<<<<< HEAD
     "execution_count": 25,
=======
     "execution_count": 22,
>>>>>>> eb47cd190d31b145aba1184a1bc7ae8249ed1625
     "metadata": {},
     "output_type": "execute_result"
    }
   ],
   "source": [
    "clean_properties.shape"
   ]
  },
  {
   "cell_type": "code",
<<<<<<< HEAD
   "execution_count": 26,
=======
   "execution_count": 23,
>>>>>>> eb47cd190d31b145aba1184a1bc7ae8249ed1625
   "metadata": {},
   "outputs": [
    {
     "data": {
      "text/html": [
       "<div>\n",
       "<style scoped>\n",
       "    .dataframe tbody tr th:only-of-type {\n",
       "        vertical-align: middle;\n",
       "    }\n",
       "\n",
       "    .dataframe tbody tr th {\n",
       "        vertical-align: top;\n",
       "    }\n",
       "\n",
       "    .dataframe thead th {\n",
       "        text-align: right;\n",
       "    }\n",
       "</style>\n",
       "<table border=\"1\" class=\"dataframe\">\n",
       "  <thead>\n",
       "    <tr style=\"text-align: right;\">\n",
       "      <th></th>\n",
       "      <th>London_Borough</th>\n",
       "      <th>ID</th>\n",
       "      <th>0</th>\n",
       "      <th>value</th>\n",
       "    </tr>\n",
       "  </thead>\n",
       "  <tbody>\n",
       "    <tr>\n",
       "      <th>15067</th>\n",
       "      <td>LONDON</td>\n",
       "      <td>E12000007</td>\n",
       "      <td>2021-02-01</td>\n",
       "      <td>496269.0563</td>\n",
       "    </tr>\n",
       "    <tr>\n",
       "      <th>15068</th>\n",
       "      <td>SOUTH EAST</td>\n",
       "      <td>E12000008</td>\n",
       "      <td>2021-02-01</td>\n",
       "      <td>345074.806</td>\n",
       "    </tr>\n",
       "    <tr>\n",
       "      <th>15069</th>\n",
       "      <td>SOUTH WEST</td>\n",
       "      <td>E12000009</td>\n",
       "      <td>2021-02-01</td>\n",
       "      <td>279241.6488</td>\n",
       "    </tr>\n",
       "    <tr>\n",
       "      <th>15070</th>\n",
       "      <td>Unnamed: 47</td>\n",
       "      <td>NaN</td>\n",
       "      <td>2021-02-01</td>\n",
       "      <td>NaN</td>\n",
       "    </tr>\n",
       "    <tr>\n",
       "      <th>15071</th>\n",
       "      <td>England</td>\n",
       "      <td>E92000001</td>\n",
       "      <td>2021-02-01</td>\n",
       "      <td>268291.3972</td>\n",
       "    </tr>\n",
       "  </tbody>\n",
       "</table>\n",
       "</div>"
      ],
      "text/plain": [
       "      London_Borough         ID          0        value\n",
       "15067         LONDON  E12000007 2021-02-01  496269.0563\n",
       "15068     SOUTH EAST  E12000008 2021-02-01   345074.806\n",
       "15069     SOUTH WEST  E12000009 2021-02-01  279241.6488\n",
       "15070    Unnamed: 47        NaN 2021-02-01          NaN\n",
       "15071        England  E92000001 2021-02-01  268291.3972"
      ]
     },
<<<<<<< HEAD
     "execution_count": 26,
=======
     "execution_count": 23,
>>>>>>> eb47cd190d31b145aba1184a1bc7ae8249ed1625
     "metadata": {},
     "output_type": "execute_result"
    }
   ],
   "source": [
    "clean_properties.tail()"
   ]
  },
  {
   "cell_type": "code",
<<<<<<< HEAD
   "execution_count": 27,
=======
   "execution_count": 24,
>>>>>>> eb47cd190d31b145aba1184a1bc7ae8249ed1625
   "metadata": {},
   "outputs": [
    {
     "name": "stdout",
     "output_type": "stream",
     "text": [
      "<class 'pandas.core.frame.DataFrame'>\n",
      "RangeIndex: 15072 entries, 0 to 15071\n",
      "Data columns (total 4 columns):\n",
      " #   Column          Non-Null Count  Dtype         \n",
      "---  ------          --------------  -----         \n",
      " 0   London_Borough  15072 non-null  object        \n",
      " 1   ID              14130 non-null  object        \n",
      " 2   0               15072 non-null  datetime64[ns]\n",
      " 3   value           14130 non-null  object        \n",
      "dtypes: datetime64[ns](1), object(3)\n",
      "memory usage: 471.1+ KB\n"
     ]
    }
   ],
   "source": [
    "clean_properties.info()"
   ]
  },
  {
   "cell_type": "markdown",
   "metadata": {
    "colab_type": "text",
    "id": "7kIsgAo7o3mf"
   },
   "source": [
    "Remember to make sure your column data types are all correct. Average prices, for example, should be floating point numbers... "
   ]
  },
  {
   "cell_type": "code",
<<<<<<< HEAD
   "execution_count": 28,
=======
   "execution_count": 25,
>>>>>>> eb47cd190d31b145aba1184a1bc7ae8249ed1625
   "metadata": {
    "colab": {},
    "colab_type": "code",
    "id": "ZcR4IHbcpOaq"
   },
   "outputs": [],
   "source": [
    "# Renaming to meaningful column names\n",
    "\n",
    "clean_properties.rename({0: 'Month', 'value': 'Average_Price'}, inplace = True, axis = 1)"
   ]
  },
  {
   "cell_type": "code",
<<<<<<< HEAD
   "execution_count": 29,
=======
   "execution_count": 26,
>>>>>>> eb47cd190d31b145aba1184a1bc7ae8249ed1625
   "metadata": {},
   "outputs": [
    {
     "data": {
      "text/html": [
       "<div>\n",
       "<style scoped>\n",
       "    .dataframe tbody tr th:only-of-type {\n",
       "        vertical-align: middle;\n",
       "    }\n",
       "\n",
       "    .dataframe tbody tr th {\n",
       "        vertical-align: top;\n",
       "    }\n",
       "\n",
       "    .dataframe thead th {\n",
       "        text-align: right;\n",
       "    }\n",
       "</style>\n",
       "<table border=\"1\" class=\"dataframe\">\n",
       "  <thead>\n",
       "    <tr style=\"text-align: right;\">\n",
       "      <th></th>\n",
       "      <th>London_Borough</th>\n",
       "      <th>ID</th>\n",
       "      <th>Month</th>\n",
       "      <th>Average_Price</th>\n",
       "    </tr>\n",
       "  </thead>\n",
       "  <tbody>\n",
       "    <tr>\n",
       "      <th>0</th>\n",
       "      <td>City of London</td>\n",
       "      <td>E09000001</td>\n",
       "      <td>1995-01-01</td>\n",
       "      <td>91448.98487</td>\n",
       "    </tr>\n",
       "    <tr>\n",
       "      <th>1</th>\n",
       "      <td>Barking &amp; Dagenham</td>\n",
       "      <td>E09000002</td>\n",
       "      <td>1995-01-01</td>\n",
       "      <td>50460.2266</td>\n",
       "    </tr>\n",
       "    <tr>\n",
       "      <th>2</th>\n",
       "      <td>Barnet</td>\n",
       "      <td>E09000003</td>\n",
       "      <td>1995-01-01</td>\n",
       "      <td>93284.51832</td>\n",
       "    </tr>\n",
       "    <tr>\n",
       "      <th>3</th>\n",
       "      <td>Bexley</td>\n",
       "      <td>E09000004</td>\n",
       "      <td>1995-01-01</td>\n",
       "      <td>64958.09036</td>\n",
       "    </tr>\n",
       "    <tr>\n",
       "      <th>4</th>\n",
       "      <td>Brent</td>\n",
       "      <td>E09000005</td>\n",
       "      <td>1995-01-01</td>\n",
       "      <td>71306.56698</td>\n",
       "    </tr>\n",
       "  </tbody>\n",
       "</table>\n",
       "</div>"
      ],
      "text/plain": [
       "       London_Borough         ID      Month Average_Price\n",
       "0      City of London  E09000001 1995-01-01   91448.98487\n",
       "1  Barking & Dagenham  E09000002 1995-01-01    50460.2266\n",
       "2              Barnet  E09000003 1995-01-01   93284.51832\n",
       "3              Bexley  E09000004 1995-01-01   64958.09036\n",
       "4               Brent  E09000005 1995-01-01   71306.56698"
      ]
     },
<<<<<<< HEAD
     "execution_count": 29,
=======
     "execution_count": 26,
>>>>>>> eb47cd190d31b145aba1184a1bc7ae8249ed1625
     "metadata": {},
     "output_type": "execute_result"
    }
   ],
   "source": [
    "clean_properties.head()"
   ]
  },
  {
   "cell_type": "code",
<<<<<<< HEAD
   "execution_count": 30,
=======
   "execution_count": 27,
>>>>>>> eb47cd190d31b145aba1184a1bc7ae8249ed1625
   "metadata": {},
   "outputs": [
    {
     "data": {
      "text/plain": [
       "London_Borough            object\n",
       "ID                        object\n",
       "Month             datetime64[ns]\n",
       "Average_Price             object\n",
       "dtype: object"
      ]
     },
<<<<<<< HEAD
     "execution_count": 30,
=======
     "execution_count": 27,
>>>>>>> eb47cd190d31b145aba1184a1bc7ae8249ed1625
     "metadata": {},
     "output_type": "execute_result"
    }
   ],
   "source": [
    "clean_properties.dtypes"
   ]
  },
  {
   "cell_type": "code",
<<<<<<< HEAD
   "execution_count": 31,
=======
   "execution_count": 28,
>>>>>>> eb47cd190d31b145aba1184a1bc7ae8249ed1625
   "metadata": {},
   "outputs": [],
   "source": [
    "clean_properties['Average_Price'] = pd.to_numeric(clean_properties['Average_Price'])"
   ]
  },
  {
   "cell_type": "code",
<<<<<<< HEAD
   "execution_count": 32,
=======
   "execution_count": 29,
>>>>>>> eb47cd190d31b145aba1184a1bc7ae8249ed1625
   "metadata": {},
   "outputs": [
    {
     "data": {
      "text/plain": [
       "London_Borough            object\n",
       "ID                        object\n",
       "Month             datetime64[ns]\n",
       "Average_Price            float64\n",
       "dtype: object"
      ]
     },
<<<<<<< HEAD
     "execution_count": 32,
=======
     "execution_count": 29,
>>>>>>> eb47cd190d31b145aba1184a1bc7ae8249ed1625
     "metadata": {},
     "output_type": "execute_result"
    }
   ],
   "source": [
    "clean_properties.dtypes"
   ]
  },
  {
   "cell_type": "code",
<<<<<<< HEAD
   "execution_count": 33,
=======
   "execution_count": 31,
>>>>>>> eb47cd190d31b145aba1184a1bc7ae8249ed1625
   "metadata": {},
   "outputs": [
    {
     "data": {
      "text/plain": [
       "London_Borough    15072\n",
       "ID                14130\n",
       "Month             15072\n",
       "Average_Price     14130\n",
       "dtype: int64"
      ]
     },
<<<<<<< HEAD
     "execution_count": 33,
=======
     "execution_count": 31,
>>>>>>> eb47cd190d31b145aba1184a1bc7ae8249ed1625
     "metadata": {},
     "output_type": "execute_result"
    }
   ],
   "source": [
    "clean_properties.count()"
   ]
  },
  {
   "cell_type": "code",
<<<<<<< HEAD
   "execution_count": 34,
=======
   "execution_count": 32,
>>>>>>> eb47cd190d31b145aba1184a1bc7ae8249ed1625
   "metadata": {},
   "outputs": [
    {
     "data": {
      "text/plain": [
       "London_Borough      0\n",
       "ID                942\n",
       "Month               0\n",
       "Average_Price     942\n",
       "dtype: int64"
      ]
     },
<<<<<<< HEAD
     "execution_count": 34,
=======
     "execution_count": 32,
>>>>>>> eb47cd190d31b145aba1184a1bc7ae8249ed1625
     "metadata": {},
     "output_type": "execute_result"
    }
   ],
   "source": [
    "# Checking how many null values are in the data\n",
    "\n",
    "clean_properties.isna().sum()"
   ]
  },
  {
   "cell_type": "markdown",
   "metadata": {
    "colab_type": "text",
    "id": "knLUXHLypOtw"
   },
   "source": [
    "**2.5. Cleaning the data (part 3)**\n",
    "\n",
    "Do we have an equal number of observations in the ID, Average Price, Month, and London Borough columns? Remember that there are only 32 London Boroughs. How many entries do you have in that column? \n",
    "\n",
    "Check out the contents of the London Borough column, and if you find null values, get rid of them however you see fit. "
   ]
  },
  {
   "cell_type": "code",
<<<<<<< HEAD
   "execution_count": 35,
=======
   "execution_count": 37,
>>>>>>> eb47cd190d31b145aba1184a1bc7ae8249ed1625
   "metadata": {
    "colab": {},
    "colab_type": "code",
    "id": "BnvTW5a3p0fC"
   },
   "outputs": [
    {
     "data": {
      "text/plain": [
       "array(['City of London', 'Barking & Dagenham', 'Barnet', 'Bexley',\n",
       "       'Brent', 'Bromley', 'Camden', 'Croydon', 'Ealing', 'Enfield',\n",
       "       'Greenwich', 'Hackney', 'Hammersmith & Fulham', 'Haringey',\n",
       "       'Harrow', 'Havering', 'Hillingdon', 'Hounslow', 'Islington',\n",
       "       'Kensington & Chelsea', 'Kingston upon Thames', 'Lambeth',\n",
       "       'Lewisham', 'Merton', 'Newham', 'Redbridge',\n",
       "       'Richmond upon Thames', 'Southwark', 'Sutton', 'Tower Hamlets',\n",
       "       'Waltham Forest', 'Wandsworth', 'Westminster', 'Unnamed: 34',\n",
       "       'Inner London', 'Outer London', 'Unnamed: 37', 'NORTH EAST',\n",
       "       'NORTH WEST', 'YORKS & THE HUMBER', 'EAST MIDLANDS',\n",
       "       'WEST MIDLANDS', 'EAST OF ENGLAND', 'LONDON', 'SOUTH EAST',\n",
       "       'SOUTH WEST', 'Unnamed: 47', 'England'], dtype=object)"
      ]
     },
<<<<<<< HEAD
     "execution_count": 35,
     "metadata": {},
     "output_type": "execute_result"
    }
   ],
   "source": [
    "clean_properties['London_Borough'].unique()"
   ]
  },
  {
   "cell_type": "code",
   "execution_count": 36,
   "metadata": {},
   "outputs": [
    {
     "data": {
      "text/html": [
       "<div>\n",
       "<style scoped>\n",
       "    .dataframe tbody tr th:only-of-type {\n",
       "        vertical-align: middle;\n",
       "    }\n",
       "\n",
       "    .dataframe tbody tr th {\n",
       "        vertical-align: top;\n",
       "    }\n",
       "\n",
       "    .dataframe thead th {\n",
       "        text-align: right;\n",
       "    }\n",
       "</style>\n",
       "<table border=\"1\" class=\"dataframe\">\n",
       "  <thead>\n",
       "    <tr style=\"text-align: right;\">\n",
       "      <th></th>\n",
       "      <th>London_Borough</th>\n",
       "      <th>ID</th>\n",
       "      <th>Month</th>\n",
       "      <th>Average_Price</th>\n",
       "    </tr>\n",
       "  </thead>\n",
       "  <tbody>\n",
       "    <tr>\n",
       "      <th>33</th>\n",
       "      <td>Unnamed: 34</td>\n",
       "      <td>NaN</td>\n",
       "      <td>1995-01-01</td>\n",
       "      <td>NaN</td>\n",
       "    </tr>\n",
       "    <tr>\n",
       "      <th>81</th>\n",
       "      <td>Unnamed: 34</td>\n",
       "      <td>NaN</td>\n",
       "      <td>1995-02-01</td>\n",
       "      <td>NaN</td>\n",
       "    </tr>\n",
       "    <tr>\n",
       "      <th>129</th>\n",
       "      <td>Unnamed: 34</td>\n",
       "      <td>NaN</td>\n",
       "      <td>1995-03-01</td>\n",
       "      <td>NaN</td>\n",
       "    </tr>\n",
       "    <tr>\n",
       "      <th>177</th>\n",
       "      <td>Unnamed: 34</td>\n",
       "      <td>NaN</td>\n",
       "      <td>1995-04-01</td>\n",
       "      <td>NaN</td>\n",
       "    </tr>\n",
       "    <tr>\n",
       "      <th>225</th>\n",
       "      <td>Unnamed: 34</td>\n",
       "      <td>NaN</td>\n",
       "      <td>1995-05-01</td>\n",
       "      <td>NaN</td>\n",
       "    </tr>\n",
       "  </tbody>\n",
       "</table>\n",
       "</div>"
      ],
      "text/plain": [
       "    London_Borough   ID      Month  Average_Price\n",
       "33     Unnamed: 34  NaN 1995-01-01            NaN\n",
       "81     Unnamed: 34  NaN 1995-02-01            NaN\n",
       "129    Unnamed: 34  NaN 1995-03-01            NaN\n",
       "177    Unnamed: 34  NaN 1995-04-01            NaN\n",
       "225    Unnamed: 34  NaN 1995-05-01            NaN"
      ]
     },
     "execution_count": 36,
=======
     "execution_count": 37,
>>>>>>> eb47cd190d31b145aba1184a1bc7ae8249ed1625
     "metadata": {},
     "output_type": "execute_result"
    }
   ],
   "source": [
<<<<<<< HEAD
=======
    "clean_properties['London_Borough'].unique()"
   ]
  },
  {
   "cell_type": "code",
   "execution_count": null,
   "metadata": {},
   "outputs": [],
   "source": [
>>>>>>> eb47cd190d31b145aba1184a1bc7ae8249ed1625
    "# Checking if there is meaningful data in some of the rows \n",
    "\n",
    "clean_properties[clean_properties['London_Borough'] == 'Unnamed: 34'].head()"
   ]
  },
  {
   "cell_type": "code",
<<<<<<< HEAD
   "execution_count": 37,
=======
   "execution_count": 39,
>>>>>>> eb47cd190d31b145aba1184a1bc7ae8249ed1625
   "metadata": {},
   "outputs": [
    {
     "data": {
      "text/html": [
       "<div>\n",
       "<style scoped>\n",
       "    .dataframe tbody tr th:only-of-type {\n",
       "        vertical-align: middle;\n",
       "    }\n",
       "\n",
       "    .dataframe tbody tr th {\n",
       "        vertical-align: top;\n",
       "    }\n",
       "\n",
       "    .dataframe thead th {\n",
       "        text-align: right;\n",
       "    }\n",
       "</style>\n",
       "<table border=\"1\" class=\"dataframe\">\n",
       "  <thead>\n",
       "    <tr style=\"text-align: right;\">\n",
       "      <th></th>\n",
       "      <th>London_Borough</th>\n",
       "      <th>ID</th>\n",
       "      <th>Month</th>\n",
       "      <th>Average_Price</th>\n",
       "    </tr>\n",
       "  </thead>\n",
       "  <tbody>\n",
       "    <tr>\n",
       "      <th>36</th>\n",
       "      <td>Unnamed: 37</td>\n",
       "      <td>NaN</td>\n",
       "      <td>1995-01-01</td>\n",
       "      <td>NaN</td>\n",
       "    </tr>\n",
       "    <tr>\n",
       "      <th>84</th>\n",
       "      <td>Unnamed: 37</td>\n",
       "      <td>NaN</td>\n",
       "      <td>1995-02-01</td>\n",
       "      <td>NaN</td>\n",
       "    </tr>\n",
       "    <tr>\n",
       "      <th>132</th>\n",
       "      <td>Unnamed: 37</td>\n",
       "      <td>NaN</td>\n",
       "      <td>1995-03-01</td>\n",
       "      <td>NaN</td>\n",
       "    </tr>\n",
       "    <tr>\n",
       "      <th>180</th>\n",
       "      <td>Unnamed: 37</td>\n",
       "      <td>NaN</td>\n",
       "      <td>1995-04-01</td>\n",
       "      <td>NaN</td>\n",
       "    </tr>\n",
       "    <tr>\n",
       "      <th>228</th>\n",
       "      <td>Unnamed: 37</td>\n",
       "      <td>NaN</td>\n",
       "      <td>1995-05-01</td>\n",
       "      <td>NaN</td>\n",
       "    </tr>\n",
       "  </tbody>\n",
       "</table>\n",
       "</div>"
      ],
      "text/plain": [
       "    London_Borough   ID      Month  Average_Price\n",
       "36     Unnamed: 37  NaN 1995-01-01            NaN\n",
       "84     Unnamed: 37  NaN 1995-02-01            NaN\n",
       "132    Unnamed: 37  NaN 1995-03-01            NaN\n",
       "180    Unnamed: 37  NaN 1995-04-01            NaN\n",
       "228    Unnamed: 37  NaN 1995-05-01            NaN"
      ]
     },
<<<<<<< HEAD
     "execution_count": 37,
=======
     "execution_count": 39,
>>>>>>> eb47cd190d31b145aba1184a1bc7ae8249ed1625
     "metadata": {},
     "output_type": "execute_result"
    }
   ],
   "source": [
    "clean_properties[clean_properties['London_Borough'] == 'Unnamed: 37'].head()"
   ]
  },
  {
   "cell_type": "code",
<<<<<<< HEAD
   "execution_count": 38,
=======
   "execution_count": 40,
>>>>>>> eb47cd190d31b145aba1184a1bc7ae8249ed1625
   "metadata": {},
   "outputs": [
    {
     "data": {
      "text/html": [
       "<div>\n",
       "<style scoped>\n",
       "    .dataframe tbody tr th:only-of-type {\n",
       "        vertical-align: middle;\n",
       "    }\n",
       "\n",
       "    .dataframe tbody tr th {\n",
       "        vertical-align: top;\n",
       "    }\n",
       "\n",
       "    .dataframe thead th {\n",
       "        text-align: right;\n",
       "    }\n",
       "</style>\n",
       "<table border=\"1\" class=\"dataframe\">\n",
       "  <thead>\n",
       "    <tr style=\"text-align: right;\">\n",
       "      <th></th>\n",
       "      <th>London_Borough</th>\n",
       "      <th>ID</th>\n",
       "      <th>Month</th>\n",
       "      <th>Average_Price</th>\n",
       "    </tr>\n",
       "  </thead>\n",
       "  <tbody>\n",
       "    <tr>\n",
       "      <th>46</th>\n",
       "      <td>Unnamed: 47</td>\n",
       "      <td>NaN</td>\n",
       "      <td>1995-01-01</td>\n",
       "      <td>NaN</td>\n",
       "    </tr>\n",
       "    <tr>\n",
       "      <th>94</th>\n",
       "      <td>Unnamed: 47</td>\n",
       "      <td>NaN</td>\n",
       "      <td>1995-02-01</td>\n",
       "      <td>NaN</td>\n",
       "    </tr>\n",
       "    <tr>\n",
       "      <th>142</th>\n",
       "      <td>Unnamed: 47</td>\n",
       "      <td>NaN</td>\n",
       "      <td>1995-03-01</td>\n",
       "      <td>NaN</td>\n",
       "    </tr>\n",
       "    <tr>\n",
       "      <th>190</th>\n",
       "      <td>Unnamed: 47</td>\n",
       "      <td>NaN</td>\n",
       "      <td>1995-04-01</td>\n",
       "      <td>NaN</td>\n",
       "    </tr>\n",
       "    <tr>\n",
       "      <th>238</th>\n",
       "      <td>Unnamed: 47</td>\n",
       "      <td>NaN</td>\n",
       "      <td>1995-05-01</td>\n",
       "      <td>NaN</td>\n",
       "    </tr>\n",
       "  </tbody>\n",
       "</table>\n",
       "</div>"
      ],
      "text/plain": [
       "    London_Borough   ID      Month  Average_Price\n",
       "46     Unnamed: 47  NaN 1995-01-01            NaN\n",
       "94     Unnamed: 47  NaN 1995-02-01            NaN\n",
       "142    Unnamed: 47  NaN 1995-03-01            NaN\n",
       "190    Unnamed: 47  NaN 1995-04-01            NaN\n",
       "238    Unnamed: 47  NaN 1995-05-01            NaN"
      ]
     },
<<<<<<< HEAD
     "execution_count": 38,
=======
     "execution_count": 40,
>>>>>>> eb47cd190d31b145aba1184a1bc7ae8249ed1625
     "metadata": {},
     "output_type": "execute_result"
    }
   ],
   "source": [
    "clean_properties[clean_properties['London_Borough'] == 'Unnamed: 47'].head()"
   ]
  },
  {
   "cell_type": "code",
<<<<<<< HEAD
   "execution_count": 39,
=======
   "execution_count": 51,
>>>>>>> eb47cd190d31b145aba1184a1bc7ae8249ed1625
   "metadata": {},
   "outputs": [
    {
     "data": {
      "text/plain": [
       "London_Borough    314\n",
       "ID                  0\n",
       "Month             314\n",
       "Average_Price       0\n",
       "dtype: int64"
      ]
     },
<<<<<<< HEAD
     "execution_count": 39,
=======
     "execution_count": 51,
>>>>>>> eb47cd190d31b145aba1184a1bc7ae8249ed1625
     "metadata": {},
     "output_type": "execute_result"
    }
   ],
   "source": [
    "clean_properties[clean_properties['London_Borough'] == 'Unnamed: 34'].count()"
   ]
  },
  {
   "cell_type": "code",
<<<<<<< HEAD
   "execution_count": 40,
=======
   "execution_count": 53,
>>>>>>> eb47cd190d31b145aba1184a1bc7ae8249ed1625
   "metadata": {},
   "outputs": [],
   "source": [
    "# Filtering the NaN values \n",
    "\n",
    "clean_properties = clean_properties.dropna()"
   ]
  },
  {
   "cell_type": "code",
<<<<<<< HEAD
   "execution_count": 41,
=======
   "execution_count": 54,
>>>>>>> eb47cd190d31b145aba1184a1bc7ae8249ed1625
   "metadata": {},
   "outputs": [
    {
     "data": {
      "text/html": [
       "<div>\n",
       "<style scoped>\n",
       "    .dataframe tbody tr th:only-of-type {\n",
       "        vertical-align: middle;\n",
       "    }\n",
       "\n",
       "    .dataframe tbody tr th {\n",
       "        vertical-align: top;\n",
       "    }\n",
       "\n",
       "    .dataframe thead th {\n",
       "        text-align: right;\n",
       "    }\n",
       "</style>\n",
       "<table border=\"1\" class=\"dataframe\">\n",
       "  <thead>\n",
       "    <tr style=\"text-align: right;\">\n",
       "      <th></th>\n",
       "      <th>London_Borough</th>\n",
       "      <th>ID</th>\n",
       "      <th>Month</th>\n",
       "      <th>Average_Price</th>\n",
       "    </tr>\n",
       "  </thead>\n",
       "  <tbody>\n",
       "    <tr>\n",
       "      <th>0</th>\n",
       "      <td>City of London</td>\n",
       "      <td>E09000001</td>\n",
       "      <td>1995-01-01</td>\n",
       "      <td>91448.98487</td>\n",
       "    </tr>\n",
       "    <tr>\n",
       "      <th>1</th>\n",
       "      <td>Barking &amp; Dagenham</td>\n",
       "      <td>E09000002</td>\n",
       "      <td>1995-01-01</td>\n",
       "      <td>50460.22660</td>\n",
       "    </tr>\n",
       "    <tr>\n",
       "      <th>2</th>\n",
       "      <td>Barnet</td>\n",
       "      <td>E09000003</td>\n",
       "      <td>1995-01-01</td>\n",
       "      <td>93284.51832</td>\n",
       "    </tr>\n",
       "    <tr>\n",
       "      <th>3</th>\n",
       "      <td>Bexley</td>\n",
       "      <td>E09000004</td>\n",
       "      <td>1995-01-01</td>\n",
       "      <td>64958.09036</td>\n",
       "    </tr>\n",
       "    <tr>\n",
       "      <th>4</th>\n",
       "      <td>Brent</td>\n",
       "      <td>E09000005</td>\n",
       "      <td>1995-01-01</td>\n",
       "      <td>71306.56698</td>\n",
       "    </tr>\n",
       "    <tr>\n",
       "      <th>5</th>\n",
       "      <td>Bromley</td>\n",
       "      <td>E09000006</td>\n",
       "      <td>1995-01-01</td>\n",
       "      <td>81671.47692</td>\n",
       "    </tr>\n",
       "    <tr>\n",
       "      <th>6</th>\n",
       "      <td>Camden</td>\n",
       "      <td>E09000007</td>\n",
       "      <td>1995-01-01</td>\n",
       "      <td>120932.88810</td>\n",
       "    </tr>\n",
       "    <tr>\n",
       "      <th>7</th>\n",
       "      <td>Croydon</td>\n",
       "      <td>E09000008</td>\n",
       "      <td>1995-01-01</td>\n",
       "      <td>69158.16225</td>\n",
       "    </tr>\n",
       "    <tr>\n",
       "      <th>8</th>\n",
       "      <td>Ealing</td>\n",
       "      <td>E09000009</td>\n",
       "      <td>1995-01-01</td>\n",
       "      <td>79885.89069</td>\n",
       "    </tr>\n",
       "    <tr>\n",
       "      <th>9</th>\n",
       "      <td>Enfield</td>\n",
       "      <td>E09000010</td>\n",
       "      <td>1995-01-01</td>\n",
       "      <td>72514.69096</td>\n",
       "    </tr>\n",
       "    <tr>\n",
       "      <th>10</th>\n",
       "      <td>Greenwich</td>\n",
       "      <td>E09000011</td>\n",
       "      <td>1995-01-01</td>\n",
       "      <td>62300.10169</td>\n",
       "    </tr>\n",
       "    <tr>\n",
       "      <th>11</th>\n",
       "      <td>Hackney</td>\n",
       "      <td>E09000012</td>\n",
       "      <td>1995-01-01</td>\n",
       "      <td>61296.52637</td>\n",
       "    </tr>\n",
       "    <tr>\n",
       "      <th>12</th>\n",
       "      <td>Hammersmith &amp; Fulham</td>\n",
       "      <td>E09000013</td>\n",
       "      <td>1995-01-01</td>\n",
       "      <td>124902.86020</td>\n",
       "    </tr>\n",
       "    <tr>\n",
       "      <th>13</th>\n",
       "      <td>Haringey</td>\n",
       "      <td>E09000014</td>\n",
       "      <td>1995-01-01</td>\n",
       "      <td>76287.56947</td>\n",
       "    </tr>\n",
       "    <tr>\n",
       "      <th>14</th>\n",
       "      <td>Harrow</td>\n",
       "      <td>E09000015</td>\n",
       "      <td>1995-01-01</td>\n",
       "      <td>84769.52599</td>\n",
       "    </tr>\n",
       "    <tr>\n",
       "      <th>15</th>\n",
       "      <td>Havering</td>\n",
       "      <td>E09000016</td>\n",
       "      <td>1995-01-01</td>\n",
       "      <td>68000.13774</td>\n",
       "    </tr>\n",
       "    <tr>\n",
       "      <th>16</th>\n",
       "      <td>Hillingdon</td>\n",
       "      <td>E09000017</td>\n",
       "      <td>1995-01-01</td>\n",
       "      <td>73834.82964</td>\n",
       "    </tr>\n",
       "    <tr>\n",
       "      <th>17</th>\n",
       "      <td>Hounslow</td>\n",
       "      <td>E09000018</td>\n",
       "      <td>1995-01-01</td>\n",
       "      <td>72231.70537</td>\n",
       "    </tr>\n",
       "    <tr>\n",
       "      <th>18</th>\n",
       "      <td>Islington</td>\n",
       "      <td>E09000019</td>\n",
       "      <td>1995-01-01</td>\n",
       "      <td>92516.48557</td>\n",
       "    </tr>\n",
       "    <tr>\n",
       "      <th>19</th>\n",
       "      <td>Kensington &amp; Chelsea</td>\n",
       "      <td>E09000020</td>\n",
       "      <td>1995-01-01</td>\n",
       "      <td>182694.83260</td>\n",
       "    </tr>\n",
       "    <tr>\n",
       "      <th>20</th>\n",
       "      <td>Kingston upon Thames</td>\n",
       "      <td>E09000021</td>\n",
       "      <td>1995-01-01</td>\n",
       "      <td>80875.84843</td>\n",
       "    </tr>\n",
       "    <tr>\n",
       "      <th>21</th>\n",
       "      <td>Lambeth</td>\n",
       "      <td>E09000022</td>\n",
       "      <td>1995-01-01</td>\n",
       "      <td>67770.98843</td>\n",
       "    </tr>\n",
       "    <tr>\n",
       "      <th>22</th>\n",
       "      <td>Lewisham</td>\n",
       "      <td>E09000023</td>\n",
       "      <td>1995-01-01</td>\n",
       "      <td>60491.26109</td>\n",
       "    </tr>\n",
       "    <tr>\n",
       "      <th>23</th>\n",
       "      <td>Merton</td>\n",
       "      <td>E09000024</td>\n",
       "      <td>1995-01-01</td>\n",
       "      <td>82070.61330</td>\n",
       "    </tr>\n",
       "    <tr>\n",
       "      <th>24</th>\n",
       "      <td>Newham</td>\n",
       "      <td>E09000025</td>\n",
       "      <td>1995-01-01</td>\n",
       "      <td>53539.31919</td>\n",
       "    </tr>\n",
       "    <tr>\n",
       "      <th>25</th>\n",
       "      <td>Redbridge</td>\n",
       "      <td>E09000026</td>\n",
       "      <td>1995-01-01</td>\n",
       "      <td>72189.58437</td>\n",
       "    </tr>\n",
       "    <tr>\n",
       "      <th>26</th>\n",
       "      <td>Richmond upon Thames</td>\n",
       "      <td>E09000027</td>\n",
       "      <td>1995-01-01</td>\n",
       "      <td>109326.12450</td>\n",
       "    </tr>\n",
       "    <tr>\n",
       "      <th>27</th>\n",
       "      <td>Southwark</td>\n",
       "      <td>E09000028</td>\n",
       "      <td>1995-01-01</td>\n",
       "      <td>67885.20344</td>\n",
       "    </tr>\n",
       "    <tr>\n",
       "      <th>28</th>\n",
       "      <td>Sutton</td>\n",
       "      <td>E09000029</td>\n",
       "      <td>1995-01-01</td>\n",
       "      <td>71536.97357</td>\n",
       "    </tr>\n",
       "    <tr>\n",
       "      <th>29</th>\n",
       "      <td>Tower Hamlets</td>\n",
       "      <td>E09000030</td>\n",
       "      <td>1995-01-01</td>\n",
       "      <td>59865.18995</td>\n",
       "    </tr>\n",
       "    <tr>\n",
       "      <th>30</th>\n",
       "      <td>Waltham Forest</td>\n",
       "      <td>E09000031</td>\n",
       "      <td>1995-01-01</td>\n",
       "      <td>61319.44913</td>\n",
       "    </tr>\n",
       "    <tr>\n",
       "      <th>31</th>\n",
       "      <td>Wandsworth</td>\n",
       "      <td>E09000032</td>\n",
       "      <td>1995-01-01</td>\n",
       "      <td>88559.04381</td>\n",
       "    </tr>\n",
       "    <tr>\n",
       "      <th>32</th>\n",
       "      <td>Westminster</td>\n",
       "      <td>E09000033</td>\n",
       "      <td>1995-01-01</td>\n",
       "      <td>133025.27720</td>\n",
       "    </tr>\n",
       "    <tr>\n",
       "      <th>34</th>\n",
       "      <td>Inner London</td>\n",
       "      <td>E13000001</td>\n",
       "      <td>1995-01-01</td>\n",
       "      <td>78251.97650</td>\n",
       "    </tr>\n",
       "    <tr>\n",
       "      <th>35</th>\n",
       "      <td>Outer London</td>\n",
       "      <td>E13000002</td>\n",
       "      <td>1995-01-01</td>\n",
       "      <td>72958.79836</td>\n",
       "    </tr>\n",
       "    <tr>\n",
       "      <th>37</th>\n",
       "      <td>NORTH EAST</td>\n",
       "      <td>E12000001</td>\n",
       "      <td>1995-01-01</td>\n",
       "      <td>42076.35411</td>\n",
       "    </tr>\n",
       "    <tr>\n",
       "      <th>38</th>\n",
       "      <td>NORTH WEST</td>\n",
       "      <td>E12000002</td>\n",
       "      <td>1995-01-01</td>\n",
       "      <td>43958.48001</td>\n",
       "    </tr>\n",
       "    <tr>\n",
       "      <th>39</th>\n",
       "      <td>YORKS &amp; THE HUMBER</td>\n",
       "      <td>E12000003</td>\n",
       "      <td>1995-01-01</td>\n",
       "      <td>44803.42878</td>\n",
       "    </tr>\n",
       "    <tr>\n",
       "      <th>40</th>\n",
       "      <td>EAST MIDLANDS</td>\n",
       "      <td>E12000004</td>\n",
       "      <td>1995-01-01</td>\n",
       "      <td>45544.52227</td>\n",
       "    </tr>\n",
       "    <tr>\n",
       "      <th>41</th>\n",
       "      <td>WEST MIDLANDS</td>\n",
       "      <td>E12000005</td>\n",
       "      <td>1995-01-01</td>\n",
       "      <td>48527.52339</td>\n",
       "    </tr>\n",
       "    <tr>\n",
       "      <th>42</th>\n",
       "      <td>EAST OF ENGLAND</td>\n",
       "      <td>E12000006</td>\n",
       "      <td>1995-01-01</td>\n",
       "      <td>56701.59610</td>\n",
       "    </tr>\n",
       "    <tr>\n",
       "      <th>43</th>\n",
       "      <td>LONDON</td>\n",
       "      <td>E12000007</td>\n",
       "      <td>1995-01-01</td>\n",
       "      <td>74435.76052</td>\n",
       "    </tr>\n",
       "    <tr>\n",
       "      <th>44</th>\n",
       "      <td>SOUTH EAST</td>\n",
       "      <td>E12000008</td>\n",
       "      <td>1995-01-01</td>\n",
       "      <td>64018.87894</td>\n",
       "    </tr>\n",
       "    <tr>\n",
       "      <th>45</th>\n",
       "      <td>SOUTH WEST</td>\n",
       "      <td>E12000009</td>\n",
       "      <td>1995-01-01</td>\n",
       "      <td>54705.15790</td>\n",
       "    </tr>\n",
       "    <tr>\n",
       "      <th>47</th>\n",
       "      <td>England</td>\n",
       "      <td>E92000001</td>\n",
       "      <td>1995-01-01</td>\n",
       "      <td>53202.77128</td>\n",
       "    </tr>\n",
       "    <tr>\n",
       "      <th>48</th>\n",
       "      <td>City of London</td>\n",
       "      <td>E09000001</td>\n",
       "      <td>1995-02-01</td>\n",
       "      <td>82202.77314</td>\n",
       "    </tr>\n",
       "    <tr>\n",
       "      <th>49</th>\n",
       "      <td>Barking &amp; Dagenham</td>\n",
       "      <td>E09000002</td>\n",
       "      <td>1995-02-01</td>\n",
       "      <td>51085.77983</td>\n",
       "    </tr>\n",
       "    <tr>\n",
       "      <th>50</th>\n",
       "      <td>Barnet</td>\n",
       "      <td>E09000003</td>\n",
       "      <td>1995-02-01</td>\n",
       "      <td>93190.16963</td>\n",
       "    </tr>\n",
       "  </tbody>\n",
       "</table>\n",
       "</div>"
      ],
      "text/plain": [
       "          London_Borough         ID      Month  Average_Price\n",
       "0         City of London  E09000001 1995-01-01    91448.98487\n",
       "1     Barking & Dagenham  E09000002 1995-01-01    50460.22660\n",
       "2                 Barnet  E09000003 1995-01-01    93284.51832\n",
       "3                 Bexley  E09000004 1995-01-01    64958.09036\n",
       "4                  Brent  E09000005 1995-01-01    71306.56698\n",
       "5                Bromley  E09000006 1995-01-01    81671.47692\n",
       "6                 Camden  E09000007 1995-01-01   120932.88810\n",
       "7                Croydon  E09000008 1995-01-01    69158.16225\n",
       "8                 Ealing  E09000009 1995-01-01    79885.89069\n",
       "9                Enfield  E09000010 1995-01-01    72514.69096\n",
       "10             Greenwich  E09000011 1995-01-01    62300.10169\n",
       "11               Hackney  E09000012 1995-01-01    61296.52637\n",
       "12  Hammersmith & Fulham  E09000013 1995-01-01   124902.86020\n",
       "13              Haringey  E09000014 1995-01-01    76287.56947\n",
       "14                Harrow  E09000015 1995-01-01    84769.52599\n",
       "15              Havering  E09000016 1995-01-01    68000.13774\n",
       "16            Hillingdon  E09000017 1995-01-01    73834.82964\n",
       "17              Hounslow  E09000018 1995-01-01    72231.70537\n",
       "18             Islington  E09000019 1995-01-01    92516.48557\n",
       "19  Kensington & Chelsea  E09000020 1995-01-01   182694.83260\n",
       "20  Kingston upon Thames  E09000021 1995-01-01    80875.84843\n",
       "21               Lambeth  E09000022 1995-01-01    67770.98843\n",
       "22              Lewisham  E09000023 1995-01-01    60491.26109\n",
       "23                Merton  E09000024 1995-01-01    82070.61330\n",
       "24                Newham  E09000025 1995-01-01    53539.31919\n",
       "25             Redbridge  E09000026 1995-01-01    72189.58437\n",
       "26  Richmond upon Thames  E09000027 1995-01-01   109326.12450\n",
       "27             Southwark  E09000028 1995-01-01    67885.20344\n",
       "28                Sutton  E09000029 1995-01-01    71536.97357\n",
       "29         Tower Hamlets  E09000030 1995-01-01    59865.18995\n",
       "30        Waltham Forest  E09000031 1995-01-01    61319.44913\n",
       "31            Wandsworth  E09000032 1995-01-01    88559.04381\n",
       "32           Westminster  E09000033 1995-01-01   133025.27720\n",
       "34          Inner London  E13000001 1995-01-01    78251.97650\n",
       "35          Outer London  E13000002 1995-01-01    72958.79836\n",
       "37            NORTH EAST  E12000001 1995-01-01    42076.35411\n",
       "38            NORTH WEST  E12000002 1995-01-01    43958.48001\n",
       "39    YORKS & THE HUMBER  E12000003 1995-01-01    44803.42878\n",
       "40         EAST MIDLANDS  E12000004 1995-01-01    45544.52227\n",
       "41         WEST MIDLANDS  E12000005 1995-01-01    48527.52339\n",
       "42       EAST OF ENGLAND  E12000006 1995-01-01    56701.59610\n",
       "43                LONDON  E12000007 1995-01-01    74435.76052\n",
       "44            SOUTH EAST  E12000008 1995-01-01    64018.87894\n",
       "45            SOUTH WEST  E12000009 1995-01-01    54705.15790\n",
       "47               England  E92000001 1995-01-01    53202.77128\n",
       "48        City of London  E09000001 1995-02-01    82202.77314\n",
       "49    Barking & Dagenham  E09000002 1995-02-01    51085.77983\n",
       "50                Barnet  E09000003 1995-02-01    93190.16963"
      ]
     },
<<<<<<< HEAD
     "execution_count": 41,
=======
     "execution_count": 54,
>>>>>>> eb47cd190d31b145aba1184a1bc7ae8249ed1625
     "metadata": {},
     "output_type": "execute_result"
    }
   ],
   "source": [
    "clean_properties.head(48)"
   ]
  },
  {
   "cell_type": "code",
<<<<<<< HEAD
   "execution_count": 42,
=======
   "execution_count": 55,
>>>>>>> eb47cd190d31b145aba1184a1bc7ae8249ed1625
   "metadata": {},
   "outputs": [
    {
     "data": {
      "text/plain": [
       "London_Borough    14130\n",
       "ID                14130\n",
       "Month             14130\n",
       "Average_Price     14130\n",
       "dtype: int64"
      ]
     },
<<<<<<< HEAD
     "execution_count": 42,
=======
     "execution_count": 55,
>>>>>>> eb47cd190d31b145aba1184a1bc7ae8249ed1625
     "metadata": {},
     "output_type": "execute_result"
    }
   ],
   "source": [
    "# We do a count to check how many rows have complete information\n",
    "\n",
    "clean_properties.count()"
   ]
  },
  {
   "cell_type": "code",
<<<<<<< HEAD
   "execution_count": 43,
=======
   "execution_count": 56,
>>>>>>> eb47cd190d31b145aba1184a1bc7ae8249ed1625
   "metadata": {},
   "outputs": [
    {
     "data": {
      "text/plain": [
       "(14130, 4)"
      ]
     },
<<<<<<< HEAD
     "execution_count": 43,
=======
     "execution_count": 56,
>>>>>>> eb47cd190d31b145aba1184a1bc7ae8249ed1625
     "metadata": {},
     "output_type": "execute_result"
    }
   ],
   "source": [
    "clean_properties.shape"
   ]
  },
  {
   "cell_type": "code",
<<<<<<< HEAD
   "execution_count": 44,
=======
   "execution_count": 81,
>>>>>>> eb47cd190d31b145aba1184a1bc7ae8249ed1625
   "metadata": {},
   "outputs": [],
   "source": [
    "# Making a list of boroughs that are not in the 32 LONDON boroughs\n",
    "\n",
    "nonBoroughs = ['Inner London', 'Outer London', \n",
    "               'NORTH EAST', 'NORTH WEST', 'YORKS & THE HUMBER', \n",
    "               'EAST MIDLANDS', 'WEST MIDLANDS',\n",
    "              'EAST OF ENGLAND', 'LONDON', 'SOUTH EAST', \n",
    "              'SOUTH WEST', 'England']"
   ]
  },
  {
   "cell_type": "code",
<<<<<<< HEAD
   "execution_count": 45,
=======
   "execution_count": 82,
>>>>>>> eb47cd190d31b145aba1184a1bc7ae8249ed1625
   "metadata": {},
   "outputs": [
    {
     "data": {
      "text/html": [
       "<div>\n",
       "<style scoped>\n",
       "    .dataframe tbody tr th:only-of-type {\n",
       "        vertical-align: middle;\n",
       "    }\n",
       "\n",
       "    .dataframe tbody tr th {\n",
       "        vertical-align: top;\n",
       "    }\n",
       "\n",
       "    .dataframe thead th {\n",
       "        text-align: right;\n",
       "    }\n",
       "</style>\n",
       "<table border=\"1\" class=\"dataframe\">\n",
       "  <thead>\n",
       "    <tr style=\"text-align: right;\">\n",
       "      <th></th>\n",
       "      <th>London_Borough</th>\n",
       "      <th>ID</th>\n",
       "      <th>Month</th>\n",
       "      <th>Average_Price</th>\n",
       "    </tr>\n",
       "  </thead>\n",
       "  <tbody>\n",
       "    <tr>\n",
       "      <th>34</th>\n",
       "      <td>Inner London</td>\n",
       "      <td>E13000001</td>\n",
       "      <td>1995-01-01</td>\n",
       "      <td>78251.97650</td>\n",
       "    </tr>\n",
       "    <tr>\n",
       "      <th>35</th>\n",
       "      <td>Outer London</td>\n",
       "      <td>E13000002</td>\n",
       "      <td>1995-01-01</td>\n",
       "      <td>72958.79836</td>\n",
       "    </tr>\n",
       "    <tr>\n",
       "      <th>37</th>\n",
       "      <td>NORTH EAST</td>\n",
       "      <td>E12000001</td>\n",
       "      <td>1995-01-01</td>\n",
       "      <td>42076.35411</td>\n",
       "    </tr>\n",
       "    <tr>\n",
       "      <th>38</th>\n",
       "      <td>NORTH WEST</td>\n",
       "      <td>E12000002</td>\n",
       "      <td>1995-01-01</td>\n",
       "      <td>43958.48001</td>\n",
       "    </tr>\n",
       "    <tr>\n",
       "      <th>39</th>\n",
       "      <td>YORKS &amp; THE HUMBER</td>\n",
       "      <td>E12000003</td>\n",
       "      <td>1995-01-01</td>\n",
       "      <td>44803.42878</td>\n",
       "    </tr>\n",
       "    <tr>\n",
       "      <th>...</th>\n",
       "      <td>...</td>\n",
       "      <td>...</td>\n",
       "      <td>...</td>\n",
       "      <td>...</td>\n",
       "    </tr>\n",
       "    <tr>\n",
       "      <th>15066</th>\n",
       "      <td>EAST OF ENGLAND</td>\n",
       "      <td>E12000006</td>\n",
       "      <td>2021-02-01</td>\n",
       "      <td>306345.75560</td>\n",
       "    </tr>\n",
       "    <tr>\n",
       "      <th>15067</th>\n",
       "      <td>LONDON</td>\n",
       "      <td>E12000007</td>\n",
       "      <td>2021-02-01</td>\n",
       "      <td>496269.05630</td>\n",
       "    </tr>\n",
       "    <tr>\n",
       "      <th>15068</th>\n",
       "      <td>SOUTH EAST</td>\n",
       "      <td>E12000008</td>\n",
       "      <td>2021-02-01</td>\n",
       "      <td>345074.80600</td>\n",
       "    </tr>\n",
       "    <tr>\n",
       "      <th>15069</th>\n",
       "      <td>SOUTH WEST</td>\n",
       "      <td>E12000009</td>\n",
       "      <td>2021-02-01</td>\n",
       "      <td>279241.64880</td>\n",
       "    </tr>\n",
       "    <tr>\n",
       "      <th>15071</th>\n",
       "      <td>England</td>\n",
       "      <td>E92000001</td>\n",
       "      <td>2021-02-01</td>\n",
       "      <td>268291.39720</td>\n",
       "    </tr>\n",
       "  </tbody>\n",
       "</table>\n",
       "<p>3768 rows × 4 columns</p>\n",
       "</div>"
      ],
      "text/plain": [
       "           London_Borough         ID      Month  Average_Price\n",
       "34           Inner London  E13000001 1995-01-01    78251.97650\n",
       "35           Outer London  E13000002 1995-01-01    72958.79836\n",
       "37             NORTH EAST  E12000001 1995-01-01    42076.35411\n",
       "38             NORTH WEST  E12000002 1995-01-01    43958.48001\n",
       "39     YORKS & THE HUMBER  E12000003 1995-01-01    44803.42878\n",
       "...                   ...        ...        ...            ...\n",
       "15066     EAST OF ENGLAND  E12000006 2021-02-01   306345.75560\n",
       "15067              LONDON  E12000007 2021-02-01   496269.05630\n",
       "15068          SOUTH EAST  E12000008 2021-02-01   345074.80600\n",
       "15069          SOUTH WEST  E12000009 2021-02-01   279241.64880\n",
       "15071             England  E92000001 2021-02-01   268291.39720\n",
       "\n",
       "[3768 rows x 4 columns]"
      ]
     },
<<<<<<< HEAD
     "execution_count": 45,
=======
     "execution_count": 82,
>>>>>>> eb47cd190d31b145aba1184a1bc7ae8249ed1625
     "metadata": {},
     "output_type": "execute_result"
    }
   ],
   "source": [
    "# Flitering the rows' values in London_Borough that are in nonBoroughs list\n",
    "\n",
    "clean_properties[clean_properties['London_Borough'].isin(nonBoroughs)]"
   ]
  },
  {
   "cell_type": "code",
<<<<<<< HEAD
   "execution_count": 46,
=======
   "execution_count": 83,
>>>>>>> eb47cd190d31b145aba1184a1bc7ae8249ed1625
   "metadata": {},
   "outputs": [
    {
     "data": {
      "text/html": [
       "<div>\n",
       "<style scoped>\n",
       "    .dataframe tbody tr th:only-of-type {\n",
       "        vertical-align: middle;\n",
       "    }\n",
       "\n",
       "    .dataframe tbody tr th {\n",
       "        vertical-align: top;\n",
       "    }\n",
       "\n",
       "    .dataframe thead th {\n",
       "        text-align: right;\n",
       "    }\n",
       "</style>\n",
       "<table border=\"1\" class=\"dataframe\">\n",
       "  <thead>\n",
       "    <tr style=\"text-align: right;\">\n",
       "      <th></th>\n",
       "      <th>London_Borough</th>\n",
       "      <th>ID</th>\n",
       "      <th>Month</th>\n",
       "      <th>Average_Price</th>\n",
       "    </tr>\n",
       "  </thead>\n",
       "  <tbody>\n",
       "    <tr>\n",
       "      <th>0</th>\n",
       "      <td>City of London</td>\n",
       "      <td>E09000001</td>\n",
       "      <td>1995-01-01</td>\n",
       "      <td>9.144898e+04</td>\n",
       "    </tr>\n",
       "    <tr>\n",
       "      <th>1</th>\n",
       "      <td>Barking &amp; Dagenham</td>\n",
       "      <td>E09000002</td>\n",
       "      <td>1995-01-01</td>\n",
       "      <td>5.046023e+04</td>\n",
       "    </tr>\n",
       "    <tr>\n",
       "      <th>2</th>\n",
       "      <td>Barnet</td>\n",
       "      <td>E09000003</td>\n",
       "      <td>1995-01-01</td>\n",
       "      <td>9.328452e+04</td>\n",
       "    </tr>\n",
       "    <tr>\n",
       "      <th>3</th>\n",
       "      <td>Bexley</td>\n",
       "      <td>E09000004</td>\n",
       "      <td>1995-01-01</td>\n",
       "      <td>6.495809e+04</td>\n",
       "    </tr>\n",
       "    <tr>\n",
       "      <th>4</th>\n",
       "      <td>Brent</td>\n",
       "      <td>E09000005</td>\n",
       "      <td>1995-01-01</td>\n",
       "      <td>7.130657e+04</td>\n",
       "    </tr>\n",
       "    <tr>\n",
       "      <th>...</th>\n",
       "      <td>...</td>\n",
       "      <td>...</td>\n",
       "      <td>...</td>\n",
       "      <td>...</td>\n",
       "    </tr>\n",
       "    <tr>\n",
       "      <th>15052</th>\n",
       "      <td>Sutton</td>\n",
       "      <td>E09000029</td>\n",
       "      <td>2021-02-01</td>\n",
       "      <td>4.164989e+05</td>\n",
       "    </tr>\n",
       "    <tr>\n",
       "      <th>15053</th>\n",
       "      <td>Tower Hamlets</td>\n",
       "      <td>E09000030</td>\n",
       "      <td>2021-02-01</td>\n",
       "      <td>4.556330e+05</td>\n",
       "    </tr>\n",
       "    <tr>\n",
       "      <th>15054</th>\n",
       "      <td>Waltham Forest</td>\n",
       "      <td>E09000031</td>\n",
       "      <td>2021-02-01</td>\n",
       "      <td>4.748478e+05</td>\n",
       "    </tr>\n",
       "    <tr>\n",
       "      <th>15055</th>\n",
       "      <td>Wandsworth</td>\n",
       "      <td>E09000032</td>\n",
       "      <td>2021-02-01</td>\n",
       "      <td>6.172205e+05</td>\n",
       "    </tr>\n",
       "    <tr>\n",
       "      <th>15056</th>\n",
       "      <td>Westminster</td>\n",
       "      <td>E09000033</td>\n",
       "      <td>2021-02-01</td>\n",
       "      <td>1.000560e+06</td>\n",
       "    </tr>\n",
       "  </tbody>\n",
       "</table>\n",
       "<p>10362 rows × 4 columns</p>\n",
       "</div>"
      ],
      "text/plain": [
       "           London_Borough         ID      Month  Average_Price\n",
       "0          City of London  E09000001 1995-01-01   9.144898e+04\n",
       "1      Barking & Dagenham  E09000002 1995-01-01   5.046023e+04\n",
       "2                  Barnet  E09000003 1995-01-01   9.328452e+04\n",
       "3                  Bexley  E09000004 1995-01-01   6.495809e+04\n",
       "4                   Brent  E09000005 1995-01-01   7.130657e+04\n",
       "...                   ...        ...        ...            ...\n",
       "15052              Sutton  E09000029 2021-02-01   4.164989e+05\n",
       "15053       Tower Hamlets  E09000030 2021-02-01   4.556330e+05\n",
       "15054      Waltham Forest  E09000031 2021-02-01   4.748478e+05\n",
       "15055          Wandsworth  E09000032 2021-02-01   6.172205e+05\n",
       "15056         Westminster  E09000033 2021-02-01   1.000560e+06\n",
       "\n",
       "[10362 rows x 4 columns]"
      ]
     },
<<<<<<< HEAD
     "execution_count": 46,
=======
     "execution_count": 83,
>>>>>>> eb47cd190d31b145aba1184a1bc7ae8249ed1625
     "metadata": {},
     "output_type": "execute_result"
    }
   ],
   "source": [
    "# Flitering the rows' values in London_Borough that are not in nonBoroughs list\n",
    "\n",
    "clean_properties[~clean_properties['London_Borough'].isin(nonBoroughs)]"
   ]
  },
  {
   "cell_type": "code",
<<<<<<< HEAD
   "execution_count": 47,
=======
   "execution_count": 84,
>>>>>>> eb47cd190d31b145aba1184a1bc7ae8249ed1625
   "metadata": {},
   "outputs": [],
   "source": [
    "# Finally getting the dataFrame that is ready for analysis\n",
    "\n",
    "df = clean_properties[~clean_properties['London_Borough'].isin(nonBoroughs)]"
   ]
  },
  {
   "cell_type": "code",
<<<<<<< HEAD
   "execution_count": 48,
=======
   "execution_count": 85,
>>>>>>> eb47cd190d31b145aba1184a1bc7ae8249ed1625
   "metadata": {},
   "outputs": [
    {
     "data": {
      "text/html": [
       "<div>\n",
       "<style scoped>\n",
       "    .dataframe tbody tr th:only-of-type {\n",
       "        vertical-align: middle;\n",
       "    }\n",
       "\n",
       "    .dataframe tbody tr th {\n",
       "        vertical-align: top;\n",
       "    }\n",
       "\n",
       "    .dataframe thead th {\n",
       "        text-align: right;\n",
       "    }\n",
       "</style>\n",
       "<table border=\"1\" class=\"dataframe\">\n",
       "  <thead>\n",
       "    <tr style=\"text-align: right;\">\n",
       "      <th></th>\n",
       "      <th>London_Borough</th>\n",
       "      <th>ID</th>\n",
       "      <th>Month</th>\n",
       "      <th>Average_Price</th>\n",
       "    </tr>\n",
       "  </thead>\n",
       "  <tbody>\n",
       "    <tr>\n",
       "      <th>0</th>\n",
       "      <td>City of London</td>\n",
       "      <td>E09000001</td>\n",
       "      <td>1995-01-01</td>\n",
       "      <td>91448.98487</td>\n",
       "    </tr>\n",
       "    <tr>\n",
       "      <th>1</th>\n",
       "      <td>Barking &amp; Dagenham</td>\n",
       "      <td>E09000002</td>\n",
       "      <td>1995-01-01</td>\n",
       "      <td>50460.22660</td>\n",
       "    </tr>\n",
       "    <tr>\n",
       "      <th>2</th>\n",
       "      <td>Barnet</td>\n",
       "      <td>E09000003</td>\n",
       "      <td>1995-01-01</td>\n",
       "      <td>93284.51832</td>\n",
       "    </tr>\n",
       "    <tr>\n",
       "      <th>3</th>\n",
       "      <td>Bexley</td>\n",
       "      <td>E09000004</td>\n",
       "      <td>1995-01-01</td>\n",
       "      <td>64958.09036</td>\n",
       "    </tr>\n",
       "    <tr>\n",
       "      <th>4</th>\n",
       "      <td>Brent</td>\n",
       "      <td>E09000005</td>\n",
       "      <td>1995-01-01</td>\n",
       "      <td>71306.56698</td>\n",
       "    </tr>\n",
       "  </tbody>\n",
       "</table>\n",
       "</div>"
      ],
      "text/plain": [
       "       London_Borough         ID      Month  Average_Price\n",
       "0      City of London  E09000001 1995-01-01    91448.98487\n",
       "1  Barking & Dagenham  E09000002 1995-01-01    50460.22660\n",
       "2              Barnet  E09000003 1995-01-01    93284.51832\n",
       "3              Bexley  E09000004 1995-01-01    64958.09036\n",
       "4               Brent  E09000005 1995-01-01    71306.56698"
      ]
     },
<<<<<<< HEAD
     "execution_count": 48,
=======
     "execution_count": 85,
>>>>>>> eb47cd190d31b145aba1184a1bc7ae8249ed1625
     "metadata": {},
     "output_type": "execute_result"
    }
   ],
   "source": [
    "df.head()"
   ]
  },
  {
   "cell_type": "code",
<<<<<<< HEAD
   "execution_count": 49,
=======
   "execution_count": 86,
>>>>>>> eb47cd190d31b145aba1184a1bc7ae8249ed1625
   "metadata": {},
   "outputs": [
    {
     "data": {
      "text/plain": [
       "(10362, 4)"
      ]
     },
<<<<<<< HEAD
     "execution_count": 49,
=======
     "execution_count": 86,
>>>>>>> eb47cd190d31b145aba1184a1bc7ae8249ed1625
     "metadata": {},
     "output_type": "execute_result"
    }
   ],
   "source": [
    "df.shape"
   ]
  },
  {
   "cell_type": "code",
<<<<<<< HEAD
   "execution_count": 50,
=======
   "execution_count": 87,
>>>>>>> eb47cd190d31b145aba1184a1bc7ae8249ed1625
   "metadata": {},
   "outputs": [
    {
     "data": {
      "text/plain": [
       "London_Borough            object\n",
       "ID                        object\n",
       "Month             datetime64[ns]\n",
       "Average_Price            float64\n",
       "dtype: object"
      ]
     },
<<<<<<< HEAD
     "execution_count": 50,
=======
     "execution_count": 87,
>>>>>>> eb47cd190d31b145aba1184a1bc7ae8249ed1625
     "metadata": {},
     "output_type": "execute_result"
    }
   ],
   "source": [
    "df.dtypes"
   ]
  },
  {
   "cell_type": "code",
   "execution_count": null,
   "metadata": {},
   "outputs": [],
   "source": []
  },
  {
   "cell_type": "code",
   "execution_count": null,
   "metadata": {},
   "outputs": [],
   "source": []
  },
  {
   "cell_type": "code",
   "execution_count": null,
   "metadata": {},
   "outputs": [],
   "source": []
  },
  {
   "cell_type": "markdown",
   "metadata": {
    "colab_type": "text",
    "id": "PGEx6mJsp6dG"
   },
   "source": [
    "**2.6. Visualizing the data**\n",
    "\n",
    "To visualize the data, why not subset on a particular London Borough? Maybe do a line plot of Month against Average Price?"
   ]
  },
  {
   "cell_type": "code",
<<<<<<< HEAD
   "execution_count": 51,
=======
   "execution_count": 89,
>>>>>>> eb47cd190d31b145aba1184a1bc7ae8249ed1625
   "metadata": {
    "colab": {},
    "colab_type": "code",
    "id": "nAg5pT9cqHAR"
   },
   "outputs": [],
   "source": [
    "# Filtering the df on the condition where 'London_Borough' is equal to 'Barnet'\n",
    "\n",
    "barnet_prices = df[df['London_Borough'] == 'Barnet']"
   ]
  },
  {
   "cell_type": "code",
<<<<<<< HEAD
   "execution_count": 52,
=======
   "execution_count": 90,
>>>>>>> eb47cd190d31b145aba1184a1bc7ae8249ed1625
   "metadata": {},
   "outputs": [
    {
     "data": {
      "text/html": [
       "<div>\n",
       "<style scoped>\n",
       "    .dataframe tbody tr th:only-of-type {\n",
       "        vertical-align: middle;\n",
       "    }\n",
       "\n",
       "    .dataframe tbody tr th {\n",
       "        vertical-align: top;\n",
       "    }\n",
       "\n",
       "    .dataframe thead th {\n",
       "        text-align: right;\n",
       "    }\n",
       "</style>\n",
       "<table border=\"1\" class=\"dataframe\">\n",
       "  <thead>\n",
       "    <tr style=\"text-align: right;\">\n",
       "      <th></th>\n",
       "      <th>London_Borough</th>\n",
       "      <th>ID</th>\n",
       "      <th>Month</th>\n",
       "      <th>Average_Price</th>\n",
       "    </tr>\n",
       "  </thead>\n",
       "  <tbody>\n",
       "    <tr>\n",
       "      <th>2</th>\n",
       "      <td>Barnet</td>\n",
       "      <td>E09000003</td>\n",
       "      <td>1995-01-01</td>\n",
       "      <td>93284.51832</td>\n",
       "    </tr>\n",
       "    <tr>\n",
       "      <th>50</th>\n",
       "      <td>Barnet</td>\n",
       "      <td>E09000003</td>\n",
       "      <td>1995-02-01</td>\n",
       "      <td>93190.16963</td>\n",
       "    </tr>\n",
       "    <tr>\n",
       "      <th>98</th>\n",
       "      <td>Barnet</td>\n",
       "      <td>E09000003</td>\n",
       "      <td>1995-03-01</td>\n",
       "      <td>92247.52435</td>\n",
       "    </tr>\n",
       "    <tr>\n",
       "      <th>146</th>\n",
       "      <td>Barnet</td>\n",
       "      <td>E09000003</td>\n",
       "      <td>1995-04-01</td>\n",
       "      <td>90762.87492</td>\n",
       "    </tr>\n",
       "    <tr>\n",
       "      <th>194</th>\n",
       "      <td>Barnet</td>\n",
       "      <td>E09000003</td>\n",
       "      <td>1995-05-01</td>\n",
       "      <td>90258.00033</td>\n",
       "    </tr>\n",
       "  </tbody>\n",
       "</table>\n",
       "</div>"
      ],
      "text/plain": [
       "    London_Borough         ID      Month  Average_Price\n",
       "2           Barnet  E09000003 1995-01-01    93284.51832\n",
       "50          Barnet  E09000003 1995-02-01    93190.16963\n",
       "98          Barnet  E09000003 1995-03-01    92247.52435\n",
       "146         Barnet  E09000003 1995-04-01    90762.87492\n",
       "194         Barnet  E09000003 1995-05-01    90258.00033"
      ]
     },
<<<<<<< HEAD
     "execution_count": 52,
=======
     "execution_count": 90,
>>>>>>> eb47cd190d31b145aba1184a1bc7ae8249ed1625
     "metadata": {},
     "output_type": "execute_result"
    }
   ],
   "source": [
    "barnet_prices.head()"
   ]
  },
  {
   "cell_type": "code",
<<<<<<< HEAD
   "execution_count": 53,
=======
   "execution_count": 93,
>>>>>>> eb47cd190d31b145aba1184a1bc7ae8249ed1625
   "metadata": {},
   "outputs": [
    {
     "data": {
      "image/png": "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\n",
      "text/plain": [
       "<Figure size 432x288 with 1 Axes>"
      ]
     },
     "metadata": {
      "needs_background": "light"
     },
     "output_type": "display_data"
    }
   ],
   "source": [
    "# Creating a line plot for the borough 'Barnet' and average price of houses \n",
    "\n",
    "barnet_prices.plot(kind = 'line', x = 'Month', y = 'Average_Price')\n",
    "plt.ylabel('Price')\n",
    "plt.show()"
   ]
  },
  {
   "cell_type": "code",
   "execution_count": null,
   "metadata": {},
   "outputs": [],
   "source": []
  },
  {
   "cell_type": "code",
   "execution_count": null,
   "metadata": {},
   "outputs": [],
   "source": []
  },
  {
   "cell_type": "code",
   "execution_count": null,
   "metadata": {},
   "outputs": [],
   "source": []
  },
  {
   "cell_type": "code",
   "execution_count": null,
   "metadata": {},
   "outputs": [],
   "source": []
  },
  {
   "cell_type": "markdown",
   "metadata": {
    "colab_type": "text",
    "id": "aWTPqSJeqHnC"
   },
   "source": [
    "To limit the number of data points you have, you might want to extract the year from every month value your *Month* column. \n",
    "\n",
    "To this end, you *could* apply a ***lambda function***. Your logic could work as follows:\n",
    "1. look through the `Month` column\n",
    "2. extract the year from each individual value in that column \n",
    "3. store that corresponding year as separate column. \n",
    "\n",
    "Whether you go ahead with this is up to you. Just so long as you answer our initial brief: which boroughs of London have seen the greatest house price increase, on average, over the past two decades? "
   ]
  },
  {
   "cell_type": "code",
<<<<<<< HEAD
   "execution_count": 54,
=======
   "execution_count": 96,
>>>>>>> eb47cd190d31b145aba1184a1bc7ae8249ed1625
   "metadata": {
    "colab": {},
    "colab_type": "code",
    "id": "e0DF92cyqnu8"
   },
   "outputs": [
    {
     "name": "stderr",
     "output_type": "stream",
     "text": [
<<<<<<< HEAD
      "C:\\Users\\Taimoor\\Anaconda3\\lib\\site-packages\\ipykernel_launcher.py:3: SettingWithCopyWarning: \n",
=======
      "C:\\Users\\Taimoor\\Anaconda3\\lib\\site-packages\\ipykernel_launcher.py:1: SettingWithCopyWarning: \n",
>>>>>>> eb47cd190d31b145aba1184a1bc7ae8249ed1625
      "A value is trying to be set on a copy of a slice from a DataFrame.\n",
      "Try using .loc[row_indexer,col_indexer] = value instead\n",
      "\n",
      "See the caveats in the documentation: https://pandas.pydata.org/pandas-docs/stable/user_guide/indexing.html#returning-a-view-versus-a-copy\n",
<<<<<<< HEAD
      "  This is separate from the ipykernel package so we can avoid doing imports until\n"
=======
      "  \"\"\"Entry point for launching an IPython kernel.\n"
>>>>>>> eb47cd190d31b145aba1184a1bc7ae8249ed1625
     ]
    },
    {
     "data": {
      "text/html": [
       "<div>\n",
       "<style scoped>\n",
       "    .dataframe tbody tr th:only-of-type {\n",
       "        vertical-align: middle;\n",
       "    }\n",
       "\n",
       "    .dataframe tbody tr th {\n",
       "        vertical-align: top;\n",
       "    }\n",
       "\n",
       "    .dataframe thead th {\n",
       "        text-align: right;\n",
       "    }\n",
       "</style>\n",
       "<table border=\"1\" class=\"dataframe\">\n",
       "  <thead>\n",
       "    <tr style=\"text-align: right;\">\n",
       "      <th></th>\n",
       "      <th>London_Borough</th>\n",
       "      <th>ID</th>\n",
       "      <th>Month</th>\n",
       "      <th>Average_Price</th>\n",
       "      <th>Year</th>\n",
       "    </tr>\n",
       "  </thead>\n",
       "  <tbody>\n",
       "    <tr>\n",
       "      <th>15052</th>\n",
       "      <td>Sutton</td>\n",
       "      <td>E09000029</td>\n",
       "      <td>2021-02-01</td>\n",
       "      <td>4.164989e+05</td>\n",
       "      <td>2021</td>\n",
       "    </tr>\n",
       "    <tr>\n",
       "      <th>15053</th>\n",
       "      <td>Tower Hamlets</td>\n",
       "      <td>E09000030</td>\n",
       "      <td>2021-02-01</td>\n",
       "      <td>4.556330e+05</td>\n",
       "      <td>2021</td>\n",
       "    </tr>\n",
       "    <tr>\n",
       "      <th>15054</th>\n",
       "      <td>Waltham Forest</td>\n",
       "      <td>E09000031</td>\n",
       "      <td>2021-02-01</td>\n",
       "      <td>4.748478e+05</td>\n",
       "      <td>2021</td>\n",
       "    </tr>\n",
       "    <tr>\n",
       "      <th>15055</th>\n",
       "      <td>Wandsworth</td>\n",
       "      <td>E09000032</td>\n",
       "      <td>2021-02-01</td>\n",
       "      <td>6.172205e+05</td>\n",
       "      <td>2021</td>\n",
       "    </tr>\n",
       "    <tr>\n",
       "      <th>15056</th>\n",
       "      <td>Westminster</td>\n",
       "      <td>E09000033</td>\n",
       "      <td>2021-02-01</td>\n",
       "      <td>1.000560e+06</td>\n",
       "      <td>2021</td>\n",
       "    </tr>\n",
       "  </tbody>\n",
       "</table>\n",
       "</div>"
      ],
      "text/plain": [
       "       London_Borough         ID      Month  Average_Price  Year\n",
       "15052          Sutton  E09000029 2021-02-01   4.164989e+05  2021\n",
       "15053   Tower Hamlets  E09000030 2021-02-01   4.556330e+05  2021\n",
       "15054  Waltham Forest  E09000031 2021-02-01   4.748478e+05  2021\n",
       "15055      Wandsworth  E09000032 2021-02-01   6.172205e+05  2021\n",
       "15056     Westminster  E09000033 2021-02-01   1.000560e+06  2021"
      ]
     },
<<<<<<< HEAD
     "execution_count": 54,
=======
     "execution_count": 96,
>>>>>>> eb47cd190d31b145aba1184a1bc7ae8249ed1625
     "metadata": {},
     "output_type": "execute_result"
    }
   ],
   "source": [
    "#Extracting the year from the month column and creating a separate column for it\n",
    "\n",
    "df['Year'] = df['Month'].dt.year\n",
    "df.tail()"
   ]
  },
  {
   "cell_type": "code",
<<<<<<< HEAD
   "execution_count": 55,
=======
   "execution_count": 98,
>>>>>>> eb47cd190d31b145aba1184a1bc7ae8249ed1625
   "metadata": {},
   "outputs": [
    {
     "data": {
      "text/html": [
       "<div>\n",
       "<style scoped>\n",
       "    .dataframe tbody tr th:only-of-type {\n",
       "        vertical-align: middle;\n",
       "    }\n",
       "\n",
       "    .dataframe tbody tr th {\n",
       "        vertical-align: top;\n",
       "    }\n",
       "\n",
       "    .dataframe thead th {\n",
       "        text-align: right;\n",
       "    }\n",
       "</style>\n",
       "<table border=\"1\" class=\"dataframe\">\n",
       "  <thead>\n",
       "    <tr style=\"text-align: right;\">\n",
       "      <th></th>\n",
       "      <th>London_Borough</th>\n",
       "      <th>ID</th>\n",
       "      <th>Month</th>\n",
       "      <th>Average_Price</th>\n",
       "      <th>Year</th>\n",
       "    </tr>\n",
       "  </thead>\n",
       "  <tbody>\n",
       "    <tr>\n",
       "      <th>0</th>\n",
       "      <td>City of London</td>\n",
       "      <td>E09000001</td>\n",
       "      <td>1995-01-01</td>\n",
       "      <td>91448.98487</td>\n",
       "      <td>1995</td>\n",
       "    </tr>\n",
       "    <tr>\n",
       "      <th>1</th>\n",
       "      <td>Barking &amp; Dagenham</td>\n",
       "      <td>E09000002</td>\n",
       "      <td>1995-01-01</td>\n",
       "      <td>50460.22660</td>\n",
       "      <td>1995</td>\n",
       "    </tr>\n",
       "    <tr>\n",
       "      <th>2</th>\n",
       "      <td>Barnet</td>\n",
       "      <td>E09000003</td>\n",
       "      <td>1995-01-01</td>\n",
       "      <td>93284.51832</td>\n",
       "      <td>1995</td>\n",
       "    </tr>\n",
       "    <tr>\n",
       "      <th>3</th>\n",
       "      <td>Bexley</td>\n",
       "      <td>E09000004</td>\n",
       "      <td>1995-01-01</td>\n",
       "      <td>64958.09036</td>\n",
       "      <td>1995</td>\n",
       "    </tr>\n",
       "    <tr>\n",
       "      <th>4</th>\n",
       "      <td>Brent</td>\n",
       "      <td>E09000005</td>\n",
       "      <td>1995-01-01</td>\n",
       "      <td>71306.56698</td>\n",
       "      <td>1995</td>\n",
       "    </tr>\n",
       "  </tbody>\n",
       "</table>\n",
       "</div>"
      ],
      "text/plain": [
       "       London_Borough         ID      Month  Average_Price  Year\n",
       "0      City of London  E09000001 1995-01-01    91448.98487  1995\n",
       "1  Barking & Dagenham  E09000002 1995-01-01    50460.22660  1995\n",
       "2              Barnet  E09000003 1995-01-01    93284.51832  1995\n",
       "3              Bexley  E09000004 1995-01-01    64958.09036  1995\n",
       "4               Brent  E09000005 1995-01-01    71306.56698  1995"
      ]
     },
<<<<<<< HEAD
     "execution_count": 55,
=======
     "execution_count": 98,
>>>>>>> eb47cd190d31b145aba1184a1bc7ae8249ed1625
     "metadata": {},
     "output_type": "execute_result"
    }
   ],
   "source": [
    "df.head()"
   ]
  },
  {
   "cell_type": "code",
<<<<<<< HEAD
   "execution_count": 56,
=======
   "execution_count": 99,
>>>>>>> eb47cd190d31b145aba1184a1bc7ae8249ed1625
   "metadata": {},
   "outputs": [],
   "source": [
    "# We groupby 'London_Borough' and 'Year' to calculate the mean house price for each year for each borough\n",
    "\n",
    "df_new = df.groupby(by = ['London_Borough', 'Year']).mean()"
   ]
  },
  {
   "cell_type": "code",
<<<<<<< HEAD
   "execution_count": 57,
=======
   "execution_count": 100,
>>>>>>> eb47cd190d31b145aba1184a1bc7ae8249ed1625
   "metadata": {},
   "outputs": [
    {
     "data": {
      "text/html": [
       "<div>\n",
       "<style scoped>\n",
       "    .dataframe tbody tr th:only-of-type {\n",
       "        vertical-align: middle;\n",
       "    }\n",
       "\n",
       "    .dataframe tbody tr th {\n",
       "        vertical-align: top;\n",
       "    }\n",
       "\n",
       "    .dataframe thead th {\n",
       "        text-align: right;\n",
       "    }\n",
       "</style>\n",
       "<table border=\"1\" class=\"dataframe\">\n",
       "  <thead>\n",
       "    <tr style=\"text-align: right;\">\n",
       "      <th></th>\n",
       "      <th></th>\n",
       "      <th>Average_Price</th>\n",
       "    </tr>\n",
       "    <tr>\n",
       "      <th>London_Borough</th>\n",
       "      <th>Year</th>\n",
       "      <th></th>\n",
       "    </tr>\n",
       "  </thead>\n",
       "  <tbody>\n",
       "    <tr>\n",
       "      <th rowspan=\"5\" valign=\"top\">Barking &amp; Dagenham</th>\n",
       "      <th>1995</th>\n",
       "      <td>51817.969390</td>\n",
       "    </tr>\n",
       "    <tr>\n",
       "      <th>1996</th>\n",
       "      <td>51718.192690</td>\n",
       "    </tr>\n",
       "    <tr>\n",
       "      <th>1997</th>\n",
       "      <td>55974.262309</td>\n",
       "    </tr>\n",
       "    <tr>\n",
       "      <th>1998</th>\n",
       "      <td>60285.821083</td>\n",
       "    </tr>\n",
       "    <tr>\n",
       "      <th>1999</th>\n",
       "      <td>65320.934441</td>\n",
       "    </tr>\n",
       "  </tbody>\n",
       "</table>\n",
       "</div>"
      ],
      "text/plain": [
       "                         Average_Price\n",
       "London_Borough     Year               \n",
       "Barking & Dagenham 1995   51817.969390\n",
       "                   1996   51718.192690\n",
       "                   1997   55974.262309\n",
       "                   1998   60285.821083\n",
       "                   1999   65320.934441"
      ]
     },
<<<<<<< HEAD
     "execution_count": 57,
=======
     "execution_count": 100,
>>>>>>> eb47cd190d31b145aba1184a1bc7ae8249ed1625
     "metadata": {},
     "output_type": "execute_result"
    }
   ],
   "source": [
    "df_new.head()"
   ]
  },
  {
   "cell_type": "code",
<<<<<<< HEAD
   "execution_count": 58,
=======
   "execution_count": 102,
>>>>>>> eb47cd190d31b145aba1184a1bc7ae8249ed1625
   "metadata": {},
   "outputs": [
    {
     "data": {
      "text/html": [
       "<div>\n",
       "<style scoped>\n",
       "    .dataframe tbody tr th:only-of-type {\n",
       "        vertical-align: middle;\n",
       "    }\n",
       "\n",
       "    .dataframe tbody tr th {\n",
       "        vertical-align: top;\n",
       "    }\n",
       "\n",
       "    .dataframe thead th {\n",
       "        text-align: right;\n",
       "    }\n",
       "</style>\n",
       "<table border=\"1\" class=\"dataframe\">\n",
       "  <thead>\n",
       "    <tr style=\"text-align: right;\">\n",
       "      <th></th>\n",
       "      <th>London_Borough</th>\n",
       "      <th>Year</th>\n",
       "      <th>Average_Price</th>\n",
       "    </tr>\n",
       "  </thead>\n",
       "  <tbody>\n",
       "    <tr>\n",
       "      <th>0</th>\n",
       "      <td>Barking &amp; Dagenham</td>\n",
       "      <td>1995</td>\n",
       "      <td>51817.969390</td>\n",
       "    </tr>\n",
       "    <tr>\n",
       "      <th>1</th>\n",
       "      <td>Barking &amp; Dagenham</td>\n",
       "      <td>1996</td>\n",
       "      <td>51718.192690</td>\n",
       "    </tr>\n",
       "    <tr>\n",
       "      <th>2</th>\n",
       "      <td>Barking &amp; Dagenham</td>\n",
       "      <td>1997</td>\n",
       "      <td>55974.262309</td>\n",
       "    </tr>\n",
       "    <tr>\n",
       "      <th>3</th>\n",
       "      <td>Barking &amp; Dagenham</td>\n",
       "      <td>1998</td>\n",
       "      <td>60285.821083</td>\n",
       "    </tr>\n",
       "    <tr>\n",
       "      <th>4</th>\n",
       "      <td>Barking &amp; Dagenham</td>\n",
       "      <td>1999</td>\n",
       "      <td>65320.934441</td>\n",
       "    </tr>\n",
       "  </tbody>\n",
       "</table>\n",
       "</div>"
      ],
      "text/plain": [
       "       London_Borough  Year  Average_Price\n",
       "0  Barking & Dagenham  1995   51817.969390\n",
       "1  Barking & Dagenham  1996   51718.192690\n",
       "2  Barking & Dagenham  1997   55974.262309\n",
       "3  Barking & Dagenham  1998   60285.821083\n",
       "4  Barking & Dagenham  1999   65320.934441"
      ]
     },
<<<<<<< HEAD
     "execution_count": 58,
=======
     "execution_count": 102,
>>>>>>> eb47cd190d31b145aba1184a1bc7ae8249ed1625
     "metadata": {},
     "output_type": "execute_result"
    }
   ],
   "source": [
    "#Resetting the indicies\n",
    "\n",
    "df_new.reset_index(inplace = True)\n",
    "df_new.head()"
   ]
  },
  {
   "cell_type": "code",
<<<<<<< HEAD
   "execution_count": 59,
=======
   "execution_count": 103,
>>>>>>> eb47cd190d31b145aba1184a1bc7ae8249ed1625
   "metadata": {},
   "outputs": [
    {
     "data": {
      "image/png": "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\n",
      "text/plain": [
       "<Figure size 432x288 with 1 Axes>"
      ]
     },
     "metadata": {
      "needs_background": "light"
     },
     "output_type": "display_data"
    }
   ],
   "source": [
    "# Making a line plot for borough 'Barnet' for each year from 1995 to 2021\n",
    "\n",
    "barnet_prices_year = df_new[df_new['London_Borough'] == 'Barnet']\n",
    "barnet_prices_year.plot(kind = 'line', x = 'Year', y = 'Average_Price')\n",
    "plt.ylabel('Price')\n",
    "plt.show()"
   ]
  },
  {
   "cell_type": "code",
   "execution_count": null,
   "metadata": {},
   "outputs": [],
   "source": []
  },
  {
   "cell_type": "code",
   "execution_count": null,
   "metadata": {},
   "outputs": [],
   "source": []
  },
  {
   "cell_type": "code",
   "execution_count": null,
   "metadata": {},
   "outputs": [],
   "source": []
  },
  {
   "cell_type": "markdown",
   "metadata": {
    "colab_type": "text",
    "id": "2knuTxAEqoJ4"
   },
   "source": [
    "**3. Modeling**\n",
    "\n",
    "Consider creating a function that will calculate a ratio of house prices, comparing the price of a house in 2018 to the price in 1998.\n",
    "\n",
    "Consider calling this function create_price_ratio.\n",
    "\n",
    "You'd want this function to:\n",
    "1. Take a filter of dfg, specifically where this filter constrains the London_Borough, as an argument. For example, one admissible argument should be: dfg[dfg['London_Borough']=='Camden'].\n",
    "2. Get the Average Price for that Borough, for the years 1998 and 2018.\n",
    "4. Calculate the ratio of the Average Price for 1998 divided by the Average Price for 2018.\n",
    "5. Return that ratio.\n",
    "\n",
    "Once you've written this function, you ultimately want to use it to iterate through all the unique London_Boroughs and work out the ratio capturing the difference of house prices between 1998 and 2018.\n",
    "\n",
    "Bear in mind: you don't have to write a function like this if you don't want to. If you can solve the brief otherwise, then great! \n",
    "\n",
    "***Hint***: This section should test the skills you acquired in:\n",
    "- Python Data Science Toolbox - Part One, all modules"
   ]
  },
  {
   "cell_type": "code",
<<<<<<< HEAD
   "execution_count": 60,
=======
   "execution_count": 112,
>>>>>>> eb47cd190d31b145aba1184a1bc7ae8249ed1625
   "metadata": {
    "colab": {},
    "colab_type": "code",
    "id": "cKTyr437UgDa"
   },
   "outputs": [],
   "source": [
    "# Function for calculating the ratios \n",
    "\n",
    "def create_price_ratio(a):\n",
    "    \n",
    "    y_1998 = float(a['Average_Price'][a['Year'] == 1998])\n",
    "    y_2018 = float(a['Average_Price'][a['Year'] == 2018])\n",
    "    ratio = [y_1998/y_2018]\n",
    "    return ratio"
   ]
  },
  {
   "cell_type": "code",
<<<<<<< HEAD
   "execution_count": 61,
=======
   "execution_count": 114,
>>>>>>> eb47cd190d31b145aba1184a1bc7ae8249ed1625
   "metadata": {},
   "outputs": [
    {
     "data": {
      "text/plain": [
       "[0.22945274120785797]"
      ]
     },
<<<<<<< HEAD
     "execution_count": 61,
=======
     "execution_count": 114,
>>>>>>> eb47cd190d31b145aba1184a1bc7ae8249ed1625
     "metadata": {},
     "output_type": "execute_result"
    }
   ],
   "source": [
    "create_price_ratio(df_new[df_new['London_Borough']=='Barnet'])"
   ]
  },
  {
   "cell_type": "code",
<<<<<<< HEAD
   "execution_count": 62,
=======
   "execution_count": 115,
>>>>>>> eb47cd190d31b145aba1184a1bc7ae8249ed1625
   "metadata": {},
   "outputs": [],
   "source": [
    "# Empty dict to store the ratios for each unique borough\n",
    "\n",
    "ratio_boroughs = {}"
   ]
  },
  {
   "cell_type": "code",
<<<<<<< HEAD
   "execution_count": 63,
=======
   "execution_count": 119,
>>>>>>> eb47cd190d31b145aba1184a1bc7ae8249ed1625
   "metadata": {},
   "outputs": [
    {
     "name": "stdout",
     "output_type": "stream",
     "text": [
      "{'Barking & Dagenham': [0.20422256235393685], 'Barnet': [0.22945274120785797], 'Bexley': [0.2353507654063011], 'Brent': [0.2043086864360114], 'Bromley': [0.24421308489837312], 'Camden': [0.20261973503252542], 'City of London': [0.18862157770244367], 'Croydon': [0.23803288028014047], 'Ealing': [0.23194048191708755], 'Enfield': [0.23455064269011863], 'Greenwich': [0.20995010893854218], 'Hackney': [0.16133493530705734], 'Hammersmith & Fulham': [0.24167443054605853], 'Haringey': [0.19475619095546956], 'Harrow': [0.24635417785626296], 'Havering': [0.23120155787014757], 'Hillingdon': [0.23807975835429931], 'Hounslow': [0.25148317824115635], 'Islington': [0.20643891170300285], 'Kensington & Chelsea': [0.19675491852791563], 'Kingston upon Thames': [0.23416190234282552], 'Lambeth': [0.20170435486140822], 'Lewisham': [0.1835124676472171], 'Merton': [0.21091380604361798], 'Newham': [0.18848754146121072], 'Redbridge': [0.2236545053715767], 'Richmond upon Thames': [0.24967779731157863], 'Southwark': [0.18127484171283462], 'Sutton': [0.24280551426824518], 'Tower Hamlets': [0.2161367227623553], 'Waltham Forest': [0.1713867782439487], 'Wandsworth': [0.2101851809159322], 'Westminster': [0.18679140473024677]}\n"
     ]
    }
   ],
   "source": [
    "# Creating a loop that iterates through each unique London_Borough\n",
    "\n",
    "for i in df_new['London_Borough'].unique():    \n",
    "    \n",
    "    borough = df_new[df_new['London_Borough'] == i]\n",
    "    ratio_boroughs[i] = create_price_ratio(borough)\n",
    "\n",
    "print(ratio_boroughs)"
   ]
  },
  {
   "cell_type": "code",
<<<<<<< HEAD
   "execution_count": 64,
=======
   "execution_count": 120,
>>>>>>> eb47cd190d31b145aba1184a1bc7ae8249ed1625
   "metadata": {},
   "outputs": [],
   "source": [
    "# Create a new dataFrame with just the boroughs and their ratios\n",
    "\n",
    "df_ratios = pd.DataFrame(ratio_boroughs)"
   ]
  },
  {
   "cell_type": "code",
<<<<<<< HEAD
   "execution_count": 65,
=======
   "execution_count": 121,
>>>>>>> eb47cd190d31b145aba1184a1bc7ae8249ed1625
   "metadata": {},
   "outputs": [
    {
     "data": {
      "text/html": [
       "<div>\n",
       "<style scoped>\n",
       "    .dataframe tbody tr th:only-of-type {\n",
       "        vertical-align: middle;\n",
       "    }\n",
       "\n",
       "    .dataframe tbody tr th {\n",
       "        vertical-align: top;\n",
       "    }\n",
       "\n",
       "    .dataframe thead th {\n",
       "        text-align: right;\n",
       "    }\n",
       "</style>\n",
       "<table border=\"1\" class=\"dataframe\">\n",
       "  <thead>\n",
       "    <tr style=\"text-align: right;\">\n",
       "      <th></th>\n",
       "      <th>Barking &amp; Dagenham</th>\n",
       "      <th>Barnet</th>\n",
       "      <th>Bexley</th>\n",
       "      <th>Brent</th>\n",
       "      <th>Bromley</th>\n",
       "      <th>Camden</th>\n",
       "      <th>City of London</th>\n",
       "      <th>Croydon</th>\n",
       "      <th>Ealing</th>\n",
       "      <th>Enfield</th>\n",
       "      <th>...</th>\n",
       "      <th>Merton</th>\n",
       "      <th>Newham</th>\n",
       "      <th>Redbridge</th>\n",
       "      <th>Richmond upon Thames</th>\n",
       "      <th>Southwark</th>\n",
       "      <th>Sutton</th>\n",
       "      <th>Tower Hamlets</th>\n",
       "      <th>Waltham Forest</th>\n",
       "      <th>Wandsworth</th>\n",
       "      <th>Westminster</th>\n",
       "    </tr>\n",
       "  </thead>\n",
       "  <tbody>\n",
       "    <tr>\n",
       "      <th>0</th>\n",
       "      <td>0.204223</td>\n",
       "      <td>0.229453</td>\n",
       "      <td>0.235351</td>\n",
       "      <td>0.204309</td>\n",
       "      <td>0.244213</td>\n",
       "      <td>0.20262</td>\n",
       "      <td>0.188622</td>\n",
       "      <td>0.238033</td>\n",
       "      <td>0.23194</td>\n",
       "      <td>0.234551</td>\n",
       "      <td>...</td>\n",
       "      <td>0.210914</td>\n",
       "      <td>0.188488</td>\n",
       "      <td>0.223655</td>\n",
       "      <td>0.249678</td>\n",
       "      <td>0.181275</td>\n",
       "      <td>0.242806</td>\n",
       "      <td>0.216137</td>\n",
       "      <td>0.171387</td>\n",
       "      <td>0.210185</td>\n",
       "      <td>0.186791</td>\n",
       "    </tr>\n",
       "  </tbody>\n",
       "</table>\n",
       "<p>1 rows × 33 columns</p>\n",
       "</div>"
      ],
      "text/plain": [
       "   Barking & Dagenham    Barnet    Bexley     Brent   Bromley   Camden  \\\n",
       "0            0.204223  0.229453  0.235351  0.204309  0.244213  0.20262   \n",
       "\n",
       "   City of London   Croydon   Ealing   Enfield  ...    Merton    Newham  \\\n",
       "0        0.188622  0.238033  0.23194  0.234551  ...  0.210914  0.188488   \n",
       "\n",
       "   Redbridge  Richmond upon Thames  Southwark    Sutton  Tower Hamlets  \\\n",
       "0   0.223655              0.249678   0.181275  0.242806       0.216137   \n",
       "\n",
       "   Waltham Forest  Wandsworth  Westminster  \n",
       "0        0.171387    0.210185     0.186791  \n",
       "\n",
       "[1 rows x 33 columns]"
      ]
     },
<<<<<<< HEAD
     "execution_count": 65,
=======
     "execution_count": 121,
>>>>>>> eb47cd190d31b145aba1184a1bc7ae8249ed1625
     "metadata": {},
     "output_type": "execute_result"
    }
   ],
   "source": [
    "df_ratios.head()"
   ]
  },
  {
   "cell_type": "code",
<<<<<<< HEAD
   "execution_count": 66,
=======
   "execution_count": 123,
>>>>>>> eb47cd190d31b145aba1184a1bc7ae8249ed1625
   "metadata": {},
   "outputs": [],
   "source": [
    "# Transpose the dataFrame\n",
    "\n",
    "df_ratios = df_ratios.transpose()"
   ]
  },
  {
   "cell_type": "code",
<<<<<<< HEAD
   "execution_count": 67,
=======
   "execution_count": 124,
>>>>>>> eb47cd190d31b145aba1184a1bc7ae8249ed1625
   "metadata": {},
   "outputs": [
    {
     "data": {
      "text/html": [
       "<div>\n",
       "<style scoped>\n",
       "    .dataframe tbody tr th:only-of-type {\n",
       "        vertical-align: middle;\n",
       "    }\n",
       "\n",
       "    .dataframe tbody tr th {\n",
       "        vertical-align: top;\n",
       "    }\n",
       "\n",
       "    .dataframe thead th {\n",
       "        text-align: right;\n",
       "    }\n",
       "</style>\n",
       "<table border=\"1\" class=\"dataframe\">\n",
       "  <thead>\n",
       "    <tr style=\"text-align: right;\">\n",
       "      <th></th>\n",
       "      <th>0</th>\n",
       "    </tr>\n",
       "  </thead>\n",
       "  <tbody>\n",
       "    <tr>\n",
       "      <th>Barking &amp; Dagenham</th>\n",
       "      <td>0.204223</td>\n",
       "    </tr>\n",
       "    <tr>\n",
       "      <th>Barnet</th>\n",
       "      <td>0.229453</td>\n",
       "    </tr>\n",
       "    <tr>\n",
       "      <th>Bexley</th>\n",
       "      <td>0.235351</td>\n",
       "    </tr>\n",
       "    <tr>\n",
       "      <th>Brent</th>\n",
       "      <td>0.204309</td>\n",
       "    </tr>\n",
       "    <tr>\n",
       "      <th>Bromley</th>\n",
       "      <td>0.244213</td>\n",
       "    </tr>\n",
       "  </tbody>\n",
       "</table>\n",
       "</div>"
      ],
      "text/plain": [
       "                           0\n",
       "Barking & Dagenham  0.204223\n",
       "Barnet              0.229453\n",
       "Bexley              0.235351\n",
       "Brent               0.204309\n",
       "Bromley             0.244213"
      ]
     },
<<<<<<< HEAD
     "execution_count": 67,
=======
     "execution_count": 124,
>>>>>>> eb47cd190d31b145aba1184a1bc7ae8249ed1625
     "metadata": {},
     "output_type": "execute_result"
    }
   ],
   "source": [
    "df_ratios.head()"
   ]
  },
  {
   "cell_type": "code",
<<<<<<< HEAD
   "execution_count": 68,
=======
   "execution_count": 126,
>>>>>>> eb47cd190d31b145aba1184a1bc7ae8249ed1625
   "metadata": {},
   "outputs": [],
   "source": [
    "df_ratios.reset_index(inplace = True)"
   ]
  },
  {
   "cell_type": "code",
<<<<<<< HEAD
   "execution_count": 69,
=======
   "execution_count": 127,
>>>>>>> eb47cd190d31b145aba1184a1bc7ae8249ed1625
   "metadata": {},
   "outputs": [
    {
     "data": {
      "text/html": [
       "<div>\n",
       "<style scoped>\n",
       "    .dataframe tbody tr th:only-of-type {\n",
       "        vertical-align: middle;\n",
       "    }\n",
       "\n",
       "    .dataframe tbody tr th {\n",
       "        vertical-align: top;\n",
       "    }\n",
       "\n",
       "    .dataframe thead th {\n",
       "        text-align: right;\n",
       "    }\n",
       "</style>\n",
       "<table border=\"1\" class=\"dataframe\">\n",
       "  <thead>\n",
       "    <tr style=\"text-align: right;\">\n",
       "      <th></th>\n",
       "      <th>index</th>\n",
       "      <th>0</th>\n",
       "    </tr>\n",
       "  </thead>\n",
       "  <tbody>\n",
       "    <tr>\n",
       "      <th>0</th>\n",
       "      <td>Barking &amp; Dagenham</td>\n",
       "      <td>0.204223</td>\n",
       "    </tr>\n",
       "    <tr>\n",
       "      <th>1</th>\n",
       "      <td>Barnet</td>\n",
       "      <td>0.229453</td>\n",
       "    </tr>\n",
       "    <tr>\n",
       "      <th>2</th>\n",
       "      <td>Bexley</td>\n",
       "      <td>0.235351</td>\n",
       "    </tr>\n",
       "    <tr>\n",
       "      <th>3</th>\n",
       "      <td>Brent</td>\n",
       "      <td>0.204309</td>\n",
       "    </tr>\n",
       "    <tr>\n",
       "      <th>4</th>\n",
       "      <td>Bromley</td>\n",
       "      <td>0.244213</td>\n",
       "    </tr>\n",
       "  </tbody>\n",
       "</table>\n",
       "</div>"
      ],
      "text/plain": [
       "                index         0\n",
       "0  Barking & Dagenham  0.204223\n",
       "1              Barnet  0.229453\n",
       "2              Bexley  0.235351\n",
       "3               Brent  0.204309\n",
       "4             Bromley  0.244213"
      ]
     },
<<<<<<< HEAD
     "execution_count": 69,
=======
     "execution_count": 127,
>>>>>>> eb47cd190d31b145aba1184a1bc7ae8249ed1625
     "metadata": {},
     "output_type": "execute_result"
    }
   ],
   "source": [
    "df_ratios.head()"
   ]
  },
  {
   "cell_type": "code",
<<<<<<< HEAD
   "execution_count": 70,
=======
   "execution_count": 144,
>>>>>>> eb47cd190d31b145aba1184a1bc7ae8249ed1625
   "metadata": {},
   "outputs": [],
   "source": [
    "df_ratios.columns = ['Borough', '2018']"
   ]
  },
  {
   "cell_type": "code",
<<<<<<< HEAD
   "execution_count": 71,
=======
   "execution_count": 145,
>>>>>>> eb47cd190d31b145aba1184a1bc7ae8249ed1625
   "metadata": {},
   "outputs": [
    {
     "data": {
      "text/html": [
       "<div>\n",
       "<style scoped>\n",
       "    .dataframe tbody tr th:only-of-type {\n",
       "        vertical-align: middle;\n",
       "    }\n",
       "\n",
       "    .dataframe tbody tr th {\n",
       "        vertical-align: top;\n",
       "    }\n",
       "\n",
       "    .dataframe thead th {\n",
       "        text-align: right;\n",
       "    }\n",
       "</style>\n",
       "<table border=\"1\" class=\"dataframe\">\n",
       "  <thead>\n",
       "    <tr style=\"text-align: right;\">\n",
       "      <th></th>\n",
       "      <th>Borough</th>\n",
       "      <th>2018</th>\n",
       "    </tr>\n",
       "  </thead>\n",
       "  <tbody>\n",
       "    <tr>\n",
       "      <th>0</th>\n",
       "      <td>Barking &amp; Dagenham</td>\n",
       "      <td>0.204223</td>\n",
       "    </tr>\n",
       "    <tr>\n",
       "      <th>1</th>\n",
       "      <td>Barnet</td>\n",
       "      <td>0.229453</td>\n",
       "    </tr>\n",
       "    <tr>\n",
       "      <th>2</th>\n",
       "      <td>Bexley</td>\n",
       "      <td>0.235351</td>\n",
       "    </tr>\n",
       "    <tr>\n",
       "      <th>3</th>\n",
       "      <td>Brent</td>\n",
       "      <td>0.204309</td>\n",
       "    </tr>\n",
       "    <tr>\n",
       "      <th>4</th>\n",
       "      <td>Bromley</td>\n",
       "      <td>0.244213</td>\n",
       "    </tr>\n",
       "  </tbody>\n",
       "</table>\n",
       "</div>"
      ],
      "text/plain": [
       "              Borough      2018\n",
       "0  Barking & Dagenham  0.204223\n",
       "1              Barnet  0.229453\n",
       "2              Bexley  0.235351\n",
       "3               Brent  0.204309\n",
       "4             Bromley  0.244213"
      ]
     },
<<<<<<< HEAD
     "execution_count": 71,
=======
     "execution_count": 145,
>>>>>>> eb47cd190d31b145aba1184a1bc7ae8249ed1625
     "metadata": {},
     "output_type": "execute_result"
    }
   ],
   "source": [
    "df_ratios.head()"
   ]
  },
  {
   "cell_type": "code",
<<<<<<< HEAD
   "execution_count": 72,
=======
   "execution_count": 146,
>>>>>>> eb47cd190d31b145aba1184a1bc7ae8249ed1625
   "metadata": {},
   "outputs": [
    {
     "data": {
      "text/html": [
       "<div>\n",
       "<style scoped>\n",
       "    .dataframe tbody tr th:only-of-type {\n",
       "        vertical-align: middle;\n",
       "    }\n",
       "\n",
       "    .dataframe tbody tr th {\n",
       "        vertical-align: top;\n",
       "    }\n",
       "\n",
       "    .dataframe thead th {\n",
       "        text-align: right;\n",
       "    }\n",
       "</style>\n",
       "<table border=\"1\" class=\"dataframe\">\n",
       "  <thead>\n",
       "    <tr style=\"text-align: right;\">\n",
       "      <th></th>\n",
       "      <th>Borough</th>\n",
       "      <th>2018</th>\n",
       "    </tr>\n",
       "  </thead>\n",
       "  <tbody>\n",
       "    <tr>\n",
       "      <th>17</th>\n",
       "      <td>Hounslow</td>\n",
       "      <td>0.251483</td>\n",
       "    </tr>\n",
       "    <tr>\n",
       "      <th>26</th>\n",
       "      <td>Richmond upon Thames</td>\n",
       "      <td>0.249678</td>\n",
       "    </tr>\n",
       "    <tr>\n",
       "      <th>14</th>\n",
       "      <td>Harrow</td>\n",
       "      <td>0.246354</td>\n",
       "    </tr>\n",
       "    <tr>\n",
       "      <th>4</th>\n",
       "      <td>Bromley</td>\n",
       "      <td>0.244213</td>\n",
       "    </tr>\n",
       "    <tr>\n",
       "      <th>28</th>\n",
       "      <td>Sutton</td>\n",
       "      <td>0.242806</td>\n",
       "    </tr>\n",
       "    <tr>\n",
       "      <th>12</th>\n",
       "      <td>Hammersmith &amp; Fulham</td>\n",
       "      <td>0.241674</td>\n",
       "    </tr>\n",
       "    <tr>\n",
       "      <th>16</th>\n",
       "      <td>Hillingdon</td>\n",
       "      <td>0.238080</td>\n",
       "    </tr>\n",
       "    <tr>\n",
       "      <th>7</th>\n",
       "      <td>Croydon</td>\n",
       "      <td>0.238033</td>\n",
       "    </tr>\n",
       "    <tr>\n",
       "      <th>2</th>\n",
       "      <td>Bexley</td>\n",
       "      <td>0.235351</td>\n",
       "    </tr>\n",
       "    <tr>\n",
       "      <th>9</th>\n",
       "      <td>Enfield</td>\n",
       "      <td>0.234551</td>\n",
       "    </tr>\n",
       "    <tr>\n",
       "      <th>20</th>\n",
       "      <td>Kingston upon Thames</td>\n",
       "      <td>0.234162</td>\n",
       "    </tr>\n",
       "    <tr>\n",
       "      <th>8</th>\n",
       "      <td>Ealing</td>\n",
       "      <td>0.231940</td>\n",
       "    </tr>\n",
       "    <tr>\n",
       "      <th>15</th>\n",
       "      <td>Havering</td>\n",
       "      <td>0.231202</td>\n",
       "    </tr>\n",
       "    <tr>\n",
       "      <th>1</th>\n",
       "      <td>Barnet</td>\n",
       "      <td>0.229453</td>\n",
       "    </tr>\n",
       "    <tr>\n",
       "      <th>25</th>\n",
       "      <td>Redbridge</td>\n",
       "      <td>0.223655</td>\n",
       "    </tr>\n",
       "  </tbody>\n",
       "</table>\n",
       "</div>"
      ],
      "text/plain": [
       "                 Borough      2018\n",
       "17              Hounslow  0.251483\n",
       "26  Richmond upon Thames  0.249678\n",
       "14                Harrow  0.246354\n",
       "4                Bromley  0.244213\n",
       "28                Sutton  0.242806\n",
       "12  Hammersmith & Fulham  0.241674\n",
       "16            Hillingdon  0.238080\n",
       "7                Croydon  0.238033\n",
       "2                 Bexley  0.235351\n",
       "9                Enfield  0.234551\n",
       "20  Kingston upon Thames  0.234162\n",
       "8                 Ealing  0.231940\n",
       "15              Havering  0.231202\n",
       "1                 Barnet  0.229453\n",
       "25             Redbridge  0.223655"
      ]
     },
<<<<<<< HEAD
     "execution_count": 72,
=======
     "execution_count": 146,
>>>>>>> eb47cd190d31b145aba1184a1bc7ae8249ed1625
     "metadata": {},
     "output_type": "execute_result"
    }
   ],
   "source": [
    "# Sorting the boroughs in descending order of the increased prices and getting the top 15 boroughs\n",
    "\n",
    "top_15 = df_ratios.sort_values(by ='2018', ascending = False).head(15)\n",
    "top_15"
   ]
  },
  {
   "cell_type": "code",
<<<<<<< HEAD
   "execution_count": 75,
   "metadata": {},
   "outputs": [
    {
     "data": {
      "text/html": [
       "<div>\n",
       "<style scoped>\n",
       "    .dataframe tbody tr th:only-of-type {\n",
       "        vertical-align: middle;\n",
       "    }\n",
       "\n",
       "    .dataframe tbody tr th {\n",
       "        vertical-align: top;\n",
       "    }\n",
       "\n",
       "    .dataframe thead th {\n",
       "        text-align: right;\n",
       "    }\n",
       "</style>\n",
       "<table border=\"1\" class=\"dataframe\">\n",
       "  <thead>\n",
       "    <tr style=\"text-align: right;\">\n",
       "      <th></th>\n",
       "      <th>Borough</th>\n",
       "      <th>2018</th>\n",
       "    </tr>\n",
       "  </thead>\n",
       "  <tbody>\n",
       "    <tr>\n",
       "      <th>10</th>\n",
       "      <td>Greenwich</td>\n",
       "      <td>0.209950</td>\n",
       "    </tr>\n",
       "    <tr>\n",
       "      <th>18</th>\n",
       "      <td>Islington</td>\n",
       "      <td>0.206439</td>\n",
       "    </tr>\n",
       "    <tr>\n",
       "      <th>3</th>\n",
       "      <td>Brent</td>\n",
       "      <td>0.204309</td>\n",
       "    </tr>\n",
       "    <tr>\n",
       "      <th>0</th>\n",
       "      <td>Barking &amp; Dagenham</td>\n",
       "      <td>0.204223</td>\n",
       "    </tr>\n",
       "    <tr>\n",
       "      <th>5</th>\n",
       "      <td>Camden</td>\n",
       "      <td>0.202620</td>\n",
       "    </tr>\n",
       "    <tr>\n",
       "      <th>21</th>\n",
       "      <td>Lambeth</td>\n",
       "      <td>0.201704</td>\n",
       "    </tr>\n",
       "    <tr>\n",
       "      <th>19</th>\n",
       "      <td>Kensington &amp; Chelsea</td>\n",
       "      <td>0.196755</td>\n",
       "    </tr>\n",
       "    <tr>\n",
       "      <th>13</th>\n",
       "      <td>Haringey</td>\n",
       "      <td>0.194756</td>\n",
       "    </tr>\n",
       "    <tr>\n",
       "      <th>6</th>\n",
       "      <td>City of London</td>\n",
       "      <td>0.188622</td>\n",
       "    </tr>\n",
       "    <tr>\n",
       "      <th>24</th>\n",
       "      <td>Newham</td>\n",
       "      <td>0.188488</td>\n",
       "    </tr>\n",
       "    <tr>\n",
       "      <th>32</th>\n",
       "      <td>Westminster</td>\n",
       "      <td>0.186791</td>\n",
       "    </tr>\n",
       "    <tr>\n",
       "      <th>22</th>\n",
       "      <td>Lewisham</td>\n",
       "      <td>0.183512</td>\n",
       "    </tr>\n",
       "    <tr>\n",
       "      <th>27</th>\n",
       "      <td>Southwark</td>\n",
       "      <td>0.181275</td>\n",
       "    </tr>\n",
       "    <tr>\n",
       "      <th>30</th>\n",
       "      <td>Waltham Forest</td>\n",
       "      <td>0.171387</td>\n",
       "    </tr>\n",
       "    <tr>\n",
       "      <th>11</th>\n",
       "      <td>Hackney</td>\n",
       "      <td>0.161335</td>\n",
       "    </tr>\n",
       "  </tbody>\n",
       "</table>\n",
       "</div>"
      ],
      "text/plain": [
       "                 Borough      2018\n",
       "10             Greenwich  0.209950\n",
       "18             Islington  0.206439\n",
       "3                  Brent  0.204309\n",
       "0     Barking & Dagenham  0.204223\n",
       "5                 Camden  0.202620\n",
       "21               Lambeth  0.201704\n",
       "19  Kensington & Chelsea  0.196755\n",
       "13              Haringey  0.194756\n",
       "6         City of London  0.188622\n",
       "24                Newham  0.188488\n",
       "32           Westminster  0.186791\n",
       "22              Lewisham  0.183512\n",
       "27             Southwark  0.181275\n",
       "30        Waltham Forest  0.171387\n",
       "11               Hackney  0.161335"
      ]
     },
     "execution_count": 75,
     "metadata": {},
     "output_type": "execute_result"
    }
   ],
   "source": [
    "bottom_15 = df_ratios.sort_values(by ='2018', ascending = False).tail(15)\n",
    "bottom_15"
   ]
  },
  {
   "cell_type": "code",
   "execution_count": 76,
   "metadata": {},
   "outputs": [
    {
     "data": {
      "text/html": [
       "<div>\n",
       "<style scoped>\n",
       "    .dataframe tbody tr th:only-of-type {\n",
       "        vertical-align: middle;\n",
       "    }\n",
       "\n",
       "    .dataframe tbody tr th {\n",
       "        vertical-align: top;\n",
       "    }\n",
       "\n",
       "    .dataframe thead th {\n",
       "        text-align: right;\n",
       "    }\n",
       "</style>\n",
       "<table border=\"1\" class=\"dataframe\">\n",
       "  <thead>\n",
       "    <tr style=\"text-align: right;\">\n",
       "      <th></th>\n",
       "      <th>Borough</th>\n",
       "      <th>2018</th>\n",
       "    </tr>\n",
       "  </thead>\n",
       "  <tbody>\n",
       "    <tr>\n",
       "      <th>11</th>\n",
       "      <td>Hackney</td>\n",
       "      <td>0.161335</td>\n",
       "    </tr>\n",
       "    <tr>\n",
       "      <th>30</th>\n",
       "      <td>Waltham Forest</td>\n",
       "      <td>0.171387</td>\n",
       "    </tr>\n",
       "    <tr>\n",
       "      <th>27</th>\n",
       "      <td>Southwark</td>\n",
       "      <td>0.181275</td>\n",
       "    </tr>\n",
       "    <tr>\n",
       "      <th>22</th>\n",
       "      <td>Lewisham</td>\n",
       "      <td>0.183512</td>\n",
       "    </tr>\n",
       "    <tr>\n",
       "      <th>32</th>\n",
       "      <td>Westminster</td>\n",
       "      <td>0.186791</td>\n",
       "    </tr>\n",
       "    <tr>\n",
       "      <th>24</th>\n",
       "      <td>Newham</td>\n",
       "      <td>0.188488</td>\n",
       "    </tr>\n",
       "    <tr>\n",
       "      <th>6</th>\n",
       "      <td>City of London</td>\n",
       "      <td>0.188622</td>\n",
       "    </tr>\n",
       "    <tr>\n",
       "      <th>13</th>\n",
       "      <td>Haringey</td>\n",
       "      <td>0.194756</td>\n",
       "    </tr>\n",
       "    <tr>\n",
       "      <th>19</th>\n",
       "      <td>Kensington &amp; Chelsea</td>\n",
       "      <td>0.196755</td>\n",
       "    </tr>\n",
       "    <tr>\n",
       "      <th>21</th>\n",
       "      <td>Lambeth</td>\n",
       "      <td>0.201704</td>\n",
       "    </tr>\n",
       "    <tr>\n",
       "      <th>5</th>\n",
       "      <td>Camden</td>\n",
       "      <td>0.202620</td>\n",
       "    </tr>\n",
       "    <tr>\n",
       "      <th>0</th>\n",
       "      <td>Barking &amp; Dagenham</td>\n",
       "      <td>0.204223</td>\n",
       "    </tr>\n",
       "    <tr>\n",
       "      <th>3</th>\n",
       "      <td>Brent</td>\n",
       "      <td>0.204309</td>\n",
       "    </tr>\n",
       "    <tr>\n",
       "      <th>18</th>\n",
       "      <td>Islington</td>\n",
       "      <td>0.206439</td>\n",
       "    </tr>\n",
       "    <tr>\n",
       "      <th>10</th>\n",
       "      <td>Greenwich</td>\n",
       "      <td>0.209950</td>\n",
       "    </tr>\n",
       "  </tbody>\n",
       "</table>\n",
       "</div>"
      ],
      "text/plain": [
       "                 Borough      2018\n",
       "11               Hackney  0.161335\n",
       "30        Waltham Forest  0.171387\n",
       "27             Southwark  0.181275\n",
       "22              Lewisham  0.183512\n",
       "32           Westminster  0.186791\n",
       "24                Newham  0.188488\n",
       "6         City of London  0.188622\n",
       "13              Haringey  0.194756\n",
       "19  Kensington & Chelsea  0.196755\n",
       "21               Lambeth  0.201704\n",
       "5                 Camden  0.202620\n",
       "0     Barking & Dagenham  0.204223\n",
       "3                  Brent  0.204309\n",
       "18             Islington  0.206439\n",
       "10             Greenwich  0.209950"
      ]
     },
     "execution_count": 76,
     "metadata": {},
     "output_type": "execute_result"
    }
   ],
   "source": [
    "a = df_ratios.sort_values(by ='2018').head(15)\n",
    "a"
   ]
  },
  {
   "cell_type": "code",
   "execution_count": 73,
=======
   "execution_count": 148,
>>>>>>> eb47cd190d31b145aba1184a1bc7ae8249ed1625
   "metadata": {},
   "outputs": [
    {
     "data": {
      "image/png": "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\n",
      "text/plain": [
       "<Figure size 432x288 with 1 Axes>"
      ]
     },
     "metadata": {
      "needs_background": "light"
     },
     "output_type": "display_data"
    }
   ],
   "source": [
    "# Creating a bar plot for the top 15 boroughs that have seen the greatest increase in housing prices\n",
    "\n",
    "top_15.plot(kind = 'bar', x = 'Borough', y = '2018')\n",
    "plt.show()"
   ]
  },
  {
   "cell_type": "code",
   "execution_count": null,
   "metadata": {},
   "outputs": [],
   "source": []
  },
  {
   "cell_type": "markdown",
   "metadata": {
    "colab_type": "text",
    "id": "NzYUI7FxJpgv"
   },
   "source": [
    "### 4. Conclusion\n",
    "What can you conclude? Type out your conclusion below. \n",
    "\n",
    "Look back at your notebook. Think about how you might summarize what you have done, and prepare a quick presentation on it to your mentor at your next meeting. \n",
    "\n",
    "We hope you enjoyed this practical project. It should have consolidated your data hygiene and pandas skills by looking at a real-world problem involving just the kind of dataset you might encounter as a budding data scientist. Congratulations, and looking forward to seeing you at the next step in the course! "
   ]
  },
  {
   "cell_type": "code",
   "execution_count": null,
   "metadata": {},
   "outputs": [],
   "source": [
    "\n"
   ]
  },
  {
   "cell_type": "markdown",
   "metadata": {},
   "source": [
    "The data that was used came from the London Datastore. It contained the monthly prices of houses in specific London boroughs starting from the year 1995 upto 2021. The objective of this project was to find out which borough had the greatest increase in the housing prices, on average, over the last 2 decades.\n",
    "\n",
    "The first step that I did was explore, clean and transform the data in such a way that I would be able to construct a comprehensible dataframe which I can use to conduct the necessary analysis to reach the end goal. After tidying the data, I visualized the data, using a line plot, for one specific borough to see the changes in the prices. To limit the number of data points, I extracted only the year from each individual value of the Months column and created a separate column called 'Year'. To calculate the mean house price for each year for each borough, I grouped the data by 'London_Borough' and 'Year' and calculated the mean. \n",
    "\n",
    "The final step was modeling. For this, I created a function that calculated the ratio of house prices in each borough, comparing price of a house in 2018 to the price in 1998. After that I made a new dataframe with just the boroughs and their respective ratios. To see which boroughs had the highest ratio, I sorted the values in descending order and made a bar plot to visualize my findings. \n",
    "\n",
    "__Upon doing the exploratory data analysis and modeling, it looks like the borough Hounslow has seen the greatest increase in housing prices, on average, from 1998 to 2018__"
   ]
  },
  {
   "cell_type": "code",
   "execution_count": null,
   "metadata": {},
   "outputs": [],
   "source": []
  }
 ],
 "metadata": {
  "colab": {
   "collapsed_sections": [],
   "name": "Springboard Data Science Career Track Unit 4 Challenge - Tier 3 Complete .ipynb",
   "provenance": []
  },
  "kernelspec": {
   "display_name": "Python 3",
   "language": "python",
   "name": "python3"
  },
  "language_info": {
   "codemirror_mode": {
    "name": "ipython",
    "version": 3
   },
   "file_extension": ".py",
   "mimetype": "text/x-python",
   "name": "python",
   "nbconvert_exporter": "python",
   "pygments_lexer": "ipython3",
   "version": "3.7.4"
  }
 },
 "nbformat": 4,
 "nbformat_minor": 1
}
